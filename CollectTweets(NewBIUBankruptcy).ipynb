{
  "cells": [
    {
      "cell_type": "markdown",
      "metadata": {
        "id": "view-in-github",
        "colab_type": "text"
      },
      "source": [
        "<a href=\"https://colab.research.google.com/github/bartala/Bankkruptcy/blob/main/CollectTweets(NewBIUBankruptcy).ipynb\" target=\"_parent\"><img src=\"https://colab.research.google.com/assets/colab-badge.svg\" alt=\"Open In Colab\"/></a>"
      ]
    },
    {
      "cell_type": "code",
      "execution_count": null,
      "metadata": {
        "id": "Sb8kadP8f-c_"
      },
      "outputs": [],
      "source": [
        "# https://dev.to/twitterdev/a-comprehensive-guide-for-using-the-twitter-api-v2-using-tweepy-in-python-15d9\n",
        "! pip3 install tweepy --upgrade\n",
        "! pip3 install git+https://github.com/yhat/ggplot.git"
      ]
    },
    {
      "cell_type": "code",
      "execution_count": 2,
      "metadata": {
        "id": "osPhc0jKMmig"
      },
      "outputs": [],
      "source": [
        "# App name ADSResearcher\n",
        "import tweepy"
      ]
    },
    {
      "cell_type": "code",
      "execution_count": 3,
      "metadata": {
        "id": "pKEdC1rqARf-"
      },
      "outputs": [],
      "source": [
        "import pandas as pd\n",
        "import numpy as np\n",
        "from datetime import datetime, date\n",
        "import datetime\n",
        "from time import gmtime, strftime\n",
        "import subprocess\n",
        "import time\n",
        "import os, os.path\n",
        "import math\n",
        "import threading\n",
        "import json\n",
        "import gzip\n",
        "import sys\n",
        "import calendar\n",
        "import re\n",
        "from pathlib import Path\n",
        "import json\n",
        "import ast\n",
        "from plotnine import *"
      ]
    },
    {
      "cell_type": "code",
      "execution_count": 4,
      "metadata": {
        "colab": {
          "base_uri": "https://localhost:8080/"
        },
        "id": "zI5iQYqwWqTS",
        "outputId": "6d4af975-92c1-4794-8e73-bf37c286b75b"
      },
      "outputs": [
        {
          "output_type": "stream",
          "name": "stdout",
          "text": [
            "Mounted at /content/drive\n"
          ]
        }
      ],
      "source": [
        "from google.colab import drive\n",
        "drive.mount('/content/drive')"
      ]
    },
    {
      "cell_type": "code",
      "execution_count": 5,
      "metadata": {
        "id": "ayUitG4n8ypq"
      },
      "outputs": [],
      "source": [
        "PTH = '/content/drive/MyDrive/Colab Notebooks/BIU_HEB/'"
      ]
    },
    {
      "cell_type": "markdown",
      "metadata": {
        "id": "_6KogV2cpz0b"
      },
      "source": [
        "## Download tweets"
      ]
    },
    {
      "cell_type": "code",
      "source": [
        "keys = pd.read_csv(os.path.join(PTH,'code','TwitterKeys.csv'))"
      ],
      "metadata": {
        "id": "Hckj2DDX0LvK"
      },
      "execution_count": 6,
      "outputs": []
    },
    {
      "cell_type": "code",
      "execution_count": 7,
      "metadata": {
        "id": "fYiIPfRQM0Ua"
      },
      "outputs": [],
      "source": [
        "# Twitter API V2 \n",
        "# APP: ADSResearcher\n",
        "\n",
        "consumer_key = keys['value'].iloc[0]\n",
        "consumer_secret= keys['value'].iloc[1]\n",
        "access_token = keys['value'].iloc[2]\n",
        "access_token_secret = keys['value'].iloc[3]\n",
        "\n",
        "client = tweepy.Client(bearer_token= keys['value'].iloc[4],wait_on_rate_limit=True)\n",
        "\n",
        "auth = tweepy.OAuthHandler(consumer_key, consumer_secret) \n",
        "auth.set_access_token(access_token, access_token_secret)\n",
        "api = tweepy.API(auth, wait_on_rate_limit=True)"
      ]
    },
    {
      "cell_type": "code",
      "source": [
        "df = pd.read_csv(os.path.join(PTH,'data','crashed_stocks','stock_crash.csv'))\n",
        "user_names = df['Twitter_handle']\n",
        "user_names"
      ],
      "metadata": {
        "id": "4DH5Atg5Snvj"
      },
      "execution_count": null,
      "outputs": []
    },
    {
      "cell_type": "code",
      "execution_count": 20,
      "metadata": {
        "id": "m6v6Oa9sy4Tz"
      },
      "outputs": [],
      "source": [
        "user_ids  = []\n",
        "for user in user_names:\n",
        "  user1 = api.get_user(screen_name=user)\n",
        "  followers_count = user1.followers_count\n",
        "  following_count = user1.friends_count\n",
        "  user_ids.append([user1.id_str, user, user1.listed_count,followers_count,following_count]) # # [user_id, user_name,number of lists a user is on]"
      ]
    },
    {
      "cell_type": "code",
      "execution_count": null,
      "metadata": {
        "id": "nBDGH7vEnwqG"
      },
      "outputs": [],
      "source": [
        "df_users = pd.DataFrame(user_ids)\n",
        "df_users.columns = ['userid','username','lists','followers','following']\n",
        "df_users"
      ]
    },
    {
      "cell_type": "code",
      "execution_count": 11,
      "metadata": {
        "id": "LauQB4lNocFl"
      },
      "outputs": [],
      "source": [
        "def collect_tweets(company_user_name, S, E, fname):\n",
        "  print(company_user_name)\n",
        "  filename = os.path.join(PTH,'data',fname+'_'+company_user_name+'.json.gz')\n",
        "  print(filename)\n",
        "  for tweet in tweepy.Paginator(client.search_all_tweets, \n",
        "                        query= '@'+ company_user_name +' lang:en',\n",
        "                        start_time= S,\n",
        "                        end_time = E,\n",
        "                        expansions = ['author_id','referenced_tweets.id','referenced_tweets.id.author_id','in_reply_to_user_id','attachments.media_keys','entities.mentions.username'],\n",
        "                        tweet_fields=['id','text','author_id','created_at','conversation_id','entities','public_metrics','referenced_tweets'],\n",
        "                        user_fields=['id','name','username','created_at','description','public_metrics','verified'],\n",
        "                        place_fields=['full_name','id'],\n",
        "                        media_fields=['type','url','alt_text','public_metrics'],\n",
        "                        max_results=100).flatten():\n",
        "    with gzip.open(filename, 'a') as fout:\n",
        "          fout.write(json.dumps(tweet.data).encode('utf-8'))\n",
        "          fout.write('\\n'.encode('utf-8'))"
      ]
    },
    {
      "cell_type": "markdown",
      "source": [
        "### collect tweets for companies that declared bankruptcy"
      ],
      "metadata": {
        "id": "dZ0QaNAiTmyN"
      }
    },
    {
      "cell_type": "code",
      "execution_count": 22,
      "metadata": {
        "id": "c9y7l1GJf9fz",
        "colab": {
          "base_uri": "https://localhost:8080/",
          "height": 424
        },
        "outputId": "2b718101-36d1-43d3-8814-5b32b0c00fa5"
      },
      "outputs": [
        {
          "output_type": "execute_result",
          "data": {
            "text/plain": [
              "                   Company Name  Bankruptcy Year Twitter Username Stock ID  \\\n",
              "0                    Aeroméxico             2020       Aeromexico      NaN   \n",
              "1                         Akorn             2020         AKORN_FA      NaN   \n",
              "2            American Greetings             2020      amgreetings      NaN   \n",
              "3           Ascena Retail Group             2020   ascenaofficial      NaN   \n",
              "4                       Avianca             2020          Avianca      NaN   \n",
              "..                          ...              ...              ...      ...   \n",
              "129  Overseas Shipholding Group             2012              NaN      NaN   \n",
              "130                   ECOtality             2013              NaN      NaN   \n",
              "131                       Exide             2013              NaN      NaN   \n",
              "132             GateHouse Media             2013              NaN      NaN   \n",
              "133                         OCZ             2013              NaN      NaN   \n",
              "\n",
              "           UserID        Company Type Private/Public  Did we cover?  \\\n",
              "0    5.050569e+07  commertial flights         Public            0.0   \n",
              "1    2.964785e+09                 NaN         Public            0.0   \n",
              "2    1.754040e+07                 NaN         Public            0.0   \n",
              "3             NaN                 NaN         Public            0.0   \n",
              "4    2.740878e+08                 NaN         Public            0.0   \n",
              "..            ...                 ...            ...            ...   \n",
              "129           NaN                 NaN         Public            NaN   \n",
              "130           NaN                 NaN         Public            NaN   \n",
              "131           NaN                 NaN         Public            NaN   \n",
              "132           NaN                 NaN         Public            NaN   \n",
              "133           NaN                 NaN         Public            NaN   \n",
              "\n",
              "     Twitter Followers  Twitter Following  \\\n",
              "0            1865990.0           230573.0   \n",
              "1                261.0              293.0   \n",
              "2              16290.0             1420.0   \n",
              "3                 20.0                0.0   \n",
              "4             932725.0            24332.0   \n",
              "..                 ...                ...   \n",
              "129                NaN                NaN   \n",
              "130                NaN                NaN   \n",
              "131                NaN                NaN   \n",
              "132                NaN                NaN   \n",
              "133                NaN                NaN   \n",
              "\n",
              "                                 helving_time  Avg_Google_Trends  \\\n",
              "0                                         NaN              55.90   \n",
              "1    No tweets a month before the announcment               0.00   \n",
              "2                                         NaN               0.00   \n",
              "3                                   no tweets                NaN   \n",
              "4                                         NaN              19.03   \n",
              "..                                        ...                ...   \n",
              "129                                       NaN                NaN   \n",
              "130                                       NaN                NaN   \n",
              "131                                       NaN                NaN   \n",
              "132                                       NaN                NaN   \n",
              "133                                       NaN                NaN   \n",
              "\n",
              "             before_start            before_end           after_start  \\\n",
              "0    2019-05-30T00:00:00Z  2020-06-29T00:00:00Z  2020-06-30T00:00:00Z   \n",
              "1    2020-04-20T00:00:00Z  2020-05-19T00:00:00Z  2020-05-20T00:00:00Z   \n",
              "2    2020-03-16T00:00:00Z  2020-04-15T00:00:00Z  2020-04-16T00:00:00Z   \n",
              "3    2020-06-23T00:00:00Z  2020-07-22T00:00:00Z  2020-07-23T00:00:00Z   \n",
              "4    2020-04-10T00:00:00Z  2020-05-09T00:00:00Z  2020-05-10T00:00:00Z   \n",
              "..                    ...                   ...                   ...   \n",
              "129                   NaN                   NaN                   NaN   \n",
              "130                   NaN                   NaN                   NaN   \n",
              "131                   NaN                   NaN                   NaN   \n",
              "132                   NaN                   NaN                   NaN   \n",
              "133                   NaN                   NaN                   NaN   \n",
              "\n",
              "                after_end Date of Bankruptcy  Twitter Lists  Current Status  \n",
              "0    2020-07-30T00:00:00Z      June 30, 2020         2563.0             NaN  \n",
              "1    2020-06-20T00:00:00Z       May 20, 2020           10.0             NaN  \n",
              "2    2020-05-16T00:00:00Z     April 16, 2020          333.0             NaN  \n",
              "3    2020-08-23T00:00:00Z      July 23, 2020            0.0             NaN  \n",
              "4    2020-06-10T00:00:00Z       May 10, 2020         1469.0             NaN  \n",
              "..                    ...                ...            ...             ...  \n",
              "129                   NaN                NaN            NaN             NaN  \n",
              "130                   NaN                NaN            NaN             NaN  \n",
              "131                   NaN                NaN            NaN             NaN  \n",
              "132                   NaN                NaN            NaN             NaN  \n",
              "133                   NaN                NaN            NaN             NaN  \n",
              "\n",
              "[134 rows x 19 columns]"
            ],
            "text/html": [
              "\n",
              "  <div id=\"df-0da429d8-61f2-4ffd-928b-70c5bbd30968\">\n",
              "    <div class=\"colab-df-container\">\n",
              "      <div>\n",
              "<style scoped>\n",
              "    .dataframe tbody tr th:only-of-type {\n",
              "        vertical-align: middle;\n",
              "    }\n",
              "\n",
              "    .dataframe tbody tr th {\n",
              "        vertical-align: top;\n",
              "    }\n",
              "\n",
              "    .dataframe thead th {\n",
              "        text-align: right;\n",
              "    }\n",
              "</style>\n",
              "<table border=\"1\" class=\"dataframe\">\n",
              "  <thead>\n",
              "    <tr style=\"text-align: right;\">\n",
              "      <th></th>\n",
              "      <th>Company Name</th>\n",
              "      <th>Bankruptcy Year</th>\n",
              "      <th>Twitter Username</th>\n",
              "      <th>Stock ID</th>\n",
              "      <th>UserID</th>\n",
              "      <th>Company Type</th>\n",
              "      <th>Private/Public</th>\n",
              "      <th>Did we cover?</th>\n",
              "      <th>Twitter Followers</th>\n",
              "      <th>Twitter Following</th>\n",
              "      <th>helving_time</th>\n",
              "      <th>Avg_Google_Trends</th>\n",
              "      <th>before_start</th>\n",
              "      <th>before_end</th>\n",
              "      <th>after_start</th>\n",
              "      <th>after_end</th>\n",
              "      <th>Date of Bankruptcy</th>\n",
              "      <th>Twitter Lists</th>\n",
              "      <th>Current Status</th>\n",
              "    </tr>\n",
              "  </thead>\n",
              "  <tbody>\n",
              "    <tr>\n",
              "      <th>0</th>\n",
              "      <td>Aeroméxico</td>\n",
              "      <td>2020</td>\n",
              "      <td>Aeromexico</td>\n",
              "      <td>NaN</td>\n",
              "      <td>5.050569e+07</td>\n",
              "      <td>commertial flights</td>\n",
              "      <td>Public</td>\n",
              "      <td>0.0</td>\n",
              "      <td>1865990.0</td>\n",
              "      <td>230573.0</td>\n",
              "      <td>NaN</td>\n",
              "      <td>55.90</td>\n",
              "      <td>2019-05-30T00:00:00Z</td>\n",
              "      <td>2020-06-29T00:00:00Z</td>\n",
              "      <td>2020-06-30T00:00:00Z</td>\n",
              "      <td>2020-07-30T00:00:00Z</td>\n",
              "      <td>June 30, 2020</td>\n",
              "      <td>2563.0</td>\n",
              "      <td>NaN</td>\n",
              "    </tr>\n",
              "    <tr>\n",
              "      <th>1</th>\n",
              "      <td>Akorn</td>\n",
              "      <td>2020</td>\n",
              "      <td>AKORN_FA</td>\n",
              "      <td>NaN</td>\n",
              "      <td>2.964785e+09</td>\n",
              "      <td>NaN</td>\n",
              "      <td>Public</td>\n",
              "      <td>0.0</td>\n",
              "      <td>261.0</td>\n",
              "      <td>293.0</td>\n",
              "      <td>No tweets a month before the announcment</td>\n",
              "      <td>0.00</td>\n",
              "      <td>2020-04-20T00:00:00Z</td>\n",
              "      <td>2020-05-19T00:00:00Z</td>\n",
              "      <td>2020-05-20T00:00:00Z</td>\n",
              "      <td>2020-06-20T00:00:00Z</td>\n",
              "      <td>May 20, 2020</td>\n",
              "      <td>10.0</td>\n",
              "      <td>NaN</td>\n",
              "    </tr>\n",
              "    <tr>\n",
              "      <th>2</th>\n",
              "      <td>American Greetings</td>\n",
              "      <td>2020</td>\n",
              "      <td>amgreetings</td>\n",
              "      <td>NaN</td>\n",
              "      <td>1.754040e+07</td>\n",
              "      <td>NaN</td>\n",
              "      <td>Public</td>\n",
              "      <td>0.0</td>\n",
              "      <td>16290.0</td>\n",
              "      <td>1420.0</td>\n",
              "      <td>NaN</td>\n",
              "      <td>0.00</td>\n",
              "      <td>2020-03-16T00:00:00Z</td>\n",
              "      <td>2020-04-15T00:00:00Z</td>\n",
              "      <td>2020-04-16T00:00:00Z</td>\n",
              "      <td>2020-05-16T00:00:00Z</td>\n",
              "      <td>April 16, 2020</td>\n",
              "      <td>333.0</td>\n",
              "      <td>NaN</td>\n",
              "    </tr>\n",
              "    <tr>\n",
              "      <th>3</th>\n",
              "      <td>Ascena Retail Group</td>\n",
              "      <td>2020</td>\n",
              "      <td>ascenaofficial</td>\n",
              "      <td>NaN</td>\n",
              "      <td>NaN</td>\n",
              "      <td>NaN</td>\n",
              "      <td>Public</td>\n",
              "      <td>0.0</td>\n",
              "      <td>20.0</td>\n",
              "      <td>0.0</td>\n",
              "      <td>no tweets</td>\n",
              "      <td>NaN</td>\n",
              "      <td>2020-06-23T00:00:00Z</td>\n",
              "      <td>2020-07-22T00:00:00Z</td>\n",
              "      <td>2020-07-23T00:00:00Z</td>\n",
              "      <td>2020-08-23T00:00:00Z</td>\n",
              "      <td>July 23, 2020</td>\n",
              "      <td>0.0</td>\n",
              "      <td>NaN</td>\n",
              "    </tr>\n",
              "    <tr>\n",
              "      <th>4</th>\n",
              "      <td>Avianca</td>\n",
              "      <td>2020</td>\n",
              "      <td>Avianca</td>\n",
              "      <td>NaN</td>\n",
              "      <td>2.740878e+08</td>\n",
              "      <td>NaN</td>\n",
              "      <td>Public</td>\n",
              "      <td>0.0</td>\n",
              "      <td>932725.0</td>\n",
              "      <td>24332.0</td>\n",
              "      <td>NaN</td>\n",
              "      <td>19.03</td>\n",
              "      <td>2020-04-10T00:00:00Z</td>\n",
              "      <td>2020-05-09T00:00:00Z</td>\n",
              "      <td>2020-05-10T00:00:00Z</td>\n",
              "      <td>2020-06-10T00:00:00Z</td>\n",
              "      <td>May 10, 2020</td>\n",
              "      <td>1469.0</td>\n",
              "      <td>NaN</td>\n",
              "    </tr>\n",
              "    <tr>\n",
              "      <th>...</th>\n",
              "      <td>...</td>\n",
              "      <td>...</td>\n",
              "      <td>...</td>\n",
              "      <td>...</td>\n",
              "      <td>...</td>\n",
              "      <td>...</td>\n",
              "      <td>...</td>\n",
              "      <td>...</td>\n",
              "      <td>...</td>\n",
              "      <td>...</td>\n",
              "      <td>...</td>\n",
              "      <td>...</td>\n",
              "      <td>...</td>\n",
              "      <td>...</td>\n",
              "      <td>...</td>\n",
              "      <td>...</td>\n",
              "      <td>...</td>\n",
              "      <td>...</td>\n",
              "      <td>...</td>\n",
              "    </tr>\n",
              "    <tr>\n",
              "      <th>129</th>\n",
              "      <td>Overseas Shipholding Group</td>\n",
              "      <td>2012</td>\n",
              "      <td>NaN</td>\n",
              "      <td>NaN</td>\n",
              "      <td>NaN</td>\n",
              "      <td>NaN</td>\n",
              "      <td>Public</td>\n",
              "      <td>NaN</td>\n",
              "      <td>NaN</td>\n",
              "      <td>NaN</td>\n",
              "      <td>NaN</td>\n",
              "      <td>NaN</td>\n",
              "      <td>NaN</td>\n",
              "      <td>NaN</td>\n",
              "      <td>NaN</td>\n",
              "      <td>NaN</td>\n",
              "      <td>NaN</td>\n",
              "      <td>NaN</td>\n",
              "      <td>NaN</td>\n",
              "    </tr>\n",
              "    <tr>\n",
              "      <th>130</th>\n",
              "      <td>ECOtality</td>\n",
              "      <td>2013</td>\n",
              "      <td>NaN</td>\n",
              "      <td>NaN</td>\n",
              "      <td>NaN</td>\n",
              "      <td>NaN</td>\n",
              "      <td>Public</td>\n",
              "      <td>NaN</td>\n",
              "      <td>NaN</td>\n",
              "      <td>NaN</td>\n",
              "      <td>NaN</td>\n",
              "      <td>NaN</td>\n",
              "      <td>NaN</td>\n",
              "      <td>NaN</td>\n",
              "      <td>NaN</td>\n",
              "      <td>NaN</td>\n",
              "      <td>NaN</td>\n",
              "      <td>NaN</td>\n",
              "      <td>NaN</td>\n",
              "    </tr>\n",
              "    <tr>\n",
              "      <th>131</th>\n",
              "      <td>Exide</td>\n",
              "      <td>2013</td>\n",
              "      <td>NaN</td>\n",
              "      <td>NaN</td>\n",
              "      <td>NaN</td>\n",
              "      <td>NaN</td>\n",
              "      <td>Public</td>\n",
              "      <td>NaN</td>\n",
              "      <td>NaN</td>\n",
              "      <td>NaN</td>\n",
              "      <td>NaN</td>\n",
              "      <td>NaN</td>\n",
              "      <td>NaN</td>\n",
              "      <td>NaN</td>\n",
              "      <td>NaN</td>\n",
              "      <td>NaN</td>\n",
              "      <td>NaN</td>\n",
              "      <td>NaN</td>\n",
              "      <td>NaN</td>\n",
              "    </tr>\n",
              "    <tr>\n",
              "      <th>132</th>\n",
              "      <td>GateHouse Media</td>\n",
              "      <td>2013</td>\n",
              "      <td>NaN</td>\n",
              "      <td>NaN</td>\n",
              "      <td>NaN</td>\n",
              "      <td>NaN</td>\n",
              "      <td>Public</td>\n",
              "      <td>NaN</td>\n",
              "      <td>NaN</td>\n",
              "      <td>NaN</td>\n",
              "      <td>NaN</td>\n",
              "      <td>NaN</td>\n",
              "      <td>NaN</td>\n",
              "      <td>NaN</td>\n",
              "      <td>NaN</td>\n",
              "      <td>NaN</td>\n",
              "      <td>NaN</td>\n",
              "      <td>NaN</td>\n",
              "      <td>NaN</td>\n",
              "    </tr>\n",
              "    <tr>\n",
              "      <th>133</th>\n",
              "      <td>OCZ</td>\n",
              "      <td>2013</td>\n",
              "      <td>NaN</td>\n",
              "      <td>NaN</td>\n",
              "      <td>NaN</td>\n",
              "      <td>NaN</td>\n",
              "      <td>Public</td>\n",
              "      <td>NaN</td>\n",
              "      <td>NaN</td>\n",
              "      <td>NaN</td>\n",
              "      <td>NaN</td>\n",
              "      <td>NaN</td>\n",
              "      <td>NaN</td>\n",
              "      <td>NaN</td>\n",
              "      <td>NaN</td>\n",
              "      <td>NaN</td>\n",
              "      <td>NaN</td>\n",
              "      <td>NaN</td>\n",
              "      <td>NaN</td>\n",
              "    </tr>\n",
              "  </tbody>\n",
              "</table>\n",
              "<p>134 rows × 19 columns</p>\n",
              "</div>\n",
              "      <button class=\"colab-df-convert\" onclick=\"convertToInteractive('df-0da429d8-61f2-4ffd-928b-70c5bbd30968')\"\n",
              "              title=\"Convert this dataframe to an interactive table.\"\n",
              "              style=\"display:none;\">\n",
              "        \n",
              "  <svg xmlns=\"http://www.w3.org/2000/svg\" height=\"24px\"viewBox=\"0 0 24 24\"\n",
              "       width=\"24px\">\n",
              "    <path d=\"M0 0h24v24H0V0z\" fill=\"none\"/>\n",
              "    <path d=\"M18.56 5.44l.94 2.06.94-2.06 2.06-.94-2.06-.94-.94-2.06-.94 2.06-2.06.94zm-11 1L8.5 8.5l.94-2.06 2.06-.94-2.06-.94L8.5 2.5l-.94 2.06-2.06.94zm10 10l.94 2.06.94-2.06 2.06-.94-2.06-.94-.94-2.06-.94 2.06-2.06.94z\"/><path d=\"M17.41 7.96l-1.37-1.37c-.4-.4-.92-.59-1.43-.59-.52 0-1.04.2-1.43.59L10.3 9.45l-7.72 7.72c-.78.78-.78 2.05 0 2.83L4 21.41c.39.39.9.59 1.41.59.51 0 1.02-.2 1.41-.59l7.78-7.78 2.81-2.81c.8-.78.8-2.07 0-2.86zM5.41 20L4 18.59l7.72-7.72 1.47 1.35L5.41 20z\"/>\n",
              "  </svg>\n",
              "      </button>\n",
              "      \n",
              "  <style>\n",
              "    .colab-df-container {\n",
              "      display:flex;\n",
              "      flex-wrap:wrap;\n",
              "      gap: 12px;\n",
              "    }\n",
              "\n",
              "    .colab-df-convert {\n",
              "      background-color: #E8F0FE;\n",
              "      border: none;\n",
              "      border-radius: 50%;\n",
              "      cursor: pointer;\n",
              "      display: none;\n",
              "      fill: #1967D2;\n",
              "      height: 32px;\n",
              "      padding: 0 0 0 0;\n",
              "      width: 32px;\n",
              "    }\n",
              "\n",
              "    .colab-df-convert:hover {\n",
              "      background-color: #E2EBFA;\n",
              "      box-shadow: 0px 1px 2px rgba(60, 64, 67, 0.3), 0px 1px 3px 1px rgba(60, 64, 67, 0.15);\n",
              "      fill: #174EA6;\n",
              "    }\n",
              "\n",
              "    [theme=dark] .colab-df-convert {\n",
              "      background-color: #3B4455;\n",
              "      fill: #D2E3FC;\n",
              "    }\n",
              "\n",
              "    [theme=dark] .colab-df-convert:hover {\n",
              "      background-color: #434B5C;\n",
              "      box-shadow: 0px 1px 3px 1px rgba(0, 0, 0, 0.15);\n",
              "      filter: drop-shadow(0px 1px 2px rgba(0, 0, 0, 0.3));\n",
              "      fill: #FFFFFF;\n",
              "    }\n",
              "  </style>\n",
              "\n",
              "      <script>\n",
              "        const buttonEl =\n",
              "          document.querySelector('#df-0da429d8-61f2-4ffd-928b-70c5bbd30968 button.colab-df-convert');\n",
              "        buttonEl.style.display =\n",
              "          google.colab.kernel.accessAllowed ? 'block' : 'none';\n",
              "\n",
              "        async function convertToInteractive(key) {\n",
              "          const element = document.querySelector('#df-0da429d8-61f2-4ffd-928b-70c5bbd30968');\n",
              "          const dataTable =\n",
              "            await google.colab.kernel.invokeFunction('convertToInteractive',\n",
              "                                                     [key], {});\n",
              "          if (!dataTable) return;\n",
              "\n",
              "          const docLinkHtml = 'Like what you see? Visit the ' +\n",
              "            '<a target=\"_blank\" href=https://colab.research.google.com/notebooks/data_table.ipynb>data table notebook</a>'\n",
              "            + ' to learn more about interactive tables.';\n",
              "          element.innerHTML = '';\n",
              "          dataTable['output_type'] = 'display_data';\n",
              "          await google.colab.output.renderOutput(dataTable, element);\n",
              "          const docLink = document.createElement('div');\n",
              "          docLink.innerHTML = docLinkHtml;\n",
              "          element.appendChild(docLink);\n",
              "        }\n",
              "      </script>\n",
              "    </div>\n",
              "  </div>\n",
              "  "
            ]
          },
          "metadata": {},
          "execution_count": 22
        }
      ],
      "source": [
        "# Make sure to set the spreadsheet as public\n",
        "\n",
        "sheet_id = '1iXJlaMYkccWMnIYB07GNJQS_aN9wPfdPwE5KixaefEo'\n",
        "sheet_name = \"All_chapter_11\"\n",
        "url = f\"https://docs.google.com/spreadsheets/d/{sheet_id}/gviz/tq?tqx=out:csv&sheet={sheet_name}\"\n",
        "df = pd.read_csv(url,header=[0])\n",
        "df"
      ]
    },
    {
      "cell_type": "code",
      "execution_count": null,
      "metadata": {
        "id": "8GOIf10zgJha"
      },
      "outputs": [],
      "source": [
        "# 1 month after and before\n",
        "\n",
        "# mentiones of a company 1 month after it filed for bankruptcy\n",
        "companies_before = df[['Twitter Username', 'before_start', 'before_end']]\n",
        "\n",
        "# mentiones of the company 1 month before it filed for bankruptcy\n",
        "companies_after = df[['Twitter Username', 'after_start', 'after_end']]"
      ]
    },
    {
      "cell_type": "code",
      "source": [
        "# collect tweets and write to file\n",
        "for i in range(0, len(companies_after)):\n",
        "  collect_tweets(companies_after.iloc[i]['Twitter Username'],\n",
        "                 companies_after.iloc[i]['after_start'], \n",
        "                 companies_after.iloc[i]['after_end'],\n",
        "                 'after'\n",
        "                 )\n",
        "  time.sleep(7)"
      ],
      "metadata": {
        "id": "w3pm5SlvYKb0"
      },
      "execution_count": null,
      "outputs": []
    },
    {
      "cell_type": "markdown",
      "source": [
        "### collect tweets for companies that their stocks crashed but did not declate bankruptcy"
      ],
      "metadata": {
        "id": "q6ClRZXFZF-z"
      }
    },
    {
      "cell_type": "code",
      "execution_count": null,
      "metadata": {
        "colab": {
          "base_uri": "https://localhost:8080/"
        },
        "id": "_7NZafre9aQZ",
        "outputId": "ae4e5e9b-94c6-405c-9c8f-18a56e5549f7"
      },
      "outputs": [
        {
          "output_type": "stream",
          "name": "stdout",
          "text": [
            "AmericanAir\n",
            "/content/drive/MyDrive/Colab Notebooks/BIU_HEB/data/crashed_stocks/before_AmericanAir.json.gz\n"
          ]
        },
        {
          "output_type": "stream",
          "name": "stderr",
          "text": [
            "WARNING:tweepy.client:Rate limit exceeded. Sleeping for 899 seconds.\n"
          ]
        }
      ],
      "source": [
        "# collect tweets and write to file\n",
        "for i in range(0, len(df)):\n",
        "  collect_tweets(df.iloc[i]['Twitter_handle'],\n",
        "                 df.iloc[i]['Twitter_start_date'], \n",
        "                 df.iloc[i]['Twitter_end_date'],\n",
        "                 'crashed_stocks/before'\n",
        "                 )\n",
        "  time.sleep(7)"
      ]
    },
    {
      "cell_type": "markdown",
      "metadata": {
        "id": "-V9RRmumB0nC"
      },
      "source": [
        "### combine tweets"
      ]
    },
    {
      "cell_type": "code",
      "execution_count": null,
      "metadata": {
        "id": "pD_iZXfmieS8"
      },
      "outputs": [],
      "source": [
        "PTH ='/content/drive/MyDrive/Colab Notebooks/BIU_HEB/data/All_chapter11_2020'"
      ]
    },
    {
      "cell_type": "code",
      "execution_count": null,
      "metadata": {
        "id": "VMV8rIQYD7MA"
      },
      "outputs": [],
      "source": [
        "companies = [\n",
        "              'Aeromexico',\n",
        "              'amgreetings',\n",
        "              'Avianca',\n",
        "              'BriggsStratton',\n",
        "              'chesapeake',\n",
        "              'DAVIDsTEA',\n",
        "              'ExideCare',\n",
        "              'AskFrontier',\n",
        "              'GarrettMotion',\n",
        "              'Gordmans',\n",
        "              'INTELSAT',\n",
        "              'LATAMAirlines',\n",
        "              'LSC_COM_',\n",
        "              'MNK',\n",
        "              'mcclatchy',\n",
        "              'McDermott_News',\n",
        "              'MoodMedia',\n",
        "              'nyandcompany',\n",
        "              'PREIT',\n",
        "              'SeadrillLtd',\n",
        "              'ShopStageStores',\n",
        "              'TailorBrands',\n",
        "              'TuesdayMorning',\n",
        "              ]"
      ]
    },
    {
      "cell_type": "code",
      "execution_count": null,
      "metadata": {
        "colab": {
          "base_uri": "https://localhost:8080/"
        },
        "id": "GXYiafhwWW0G",
        "outputId": "19ecbdee-23e7-4260-b27c-9427113ec4a8"
      },
      "outputs": [
        {
          "name": "stdout",
          "output_type": "stream",
          "text": [
            "Aeromexico\n",
            "amgreetings\n",
            "Avianca\n",
            "BriggsStratton\n",
            "chesapeake\n",
            "DAVIDsTEA\n",
            "ExideCare\n",
            "AskFrontier\n",
            "GarrettMotion\n",
            "Gordmans\n",
            "INTELSAT\n",
            "LATAMAirlines\n",
            "LSC_COM_\n",
            "MNK\n",
            "mcclatchy\n",
            "McDermott_News\n",
            "MoodMedia\n",
            "nyandcompany\n",
            "PREIT\n",
            "SeadrillLtd\n",
            "ShopStageStores\n",
            "TailorBrands\n",
            "TuesdayMorning\n"
          ]
        }
      ],
      "source": [
        "# read the zipped file into a dataframe\n",
        "df = pd.DataFrame()\n",
        "\n",
        "for company in companies:\n",
        "  print(company)\n",
        "  tmp = pd.read_json(os.path.join(PTH,'before_'+company+'.json.gz'), compression='gzip',lines=True)\n",
        "  tmp['company'] = company\n",
        "  df = pd.concat([df, tmp], ignore_index=True)\n",
        "\n",
        "df.to_csv(os.path.join(PTH,'before_all_2020.csv'), index=False)\n",
        "del df"
      ]
    },
    {
      "cell_type": "code",
      "execution_count": null,
      "metadata": {
        "id": "IZEZp13x3Dr4"
      },
      "outputs": [],
      "source": [
        "df = pd.DataFrame()\n",
        "for company in companies:\n",
        "  tmp = pd.read_json(os.path.join(PTH,'after_'+company+'.json.gz'), compression='gzip',lines=True)\n",
        "  tmp['company'] = company\n",
        "  df = pd.concat([df, tmp], ignore_index=True)\n",
        "\n",
        "df.to_csv(os.path.join(PTH,'after_all_2020.csv'),index=False)"
      ]
    },
    {
      "cell_type": "markdown",
      "metadata": {
        "id": "Ahpq7eKeSy7Q"
      },
      "source": [
        "## Build the post-reply social network"
      ]
    },
    {
      "cell_type": "code",
      "execution_count": null,
      "metadata": {
        "id": "LjrZIEhWSydz"
      },
      "outputs": [],
      "source": [
        "PTH ='/content/drive/MyDrive/Colab Notebooks/BIU_HEB/data/All_chapter11_2020'"
      ]
    },
    {
      "cell_type": "code",
      "execution_count": null,
      "metadata": {
        "id": "-2aD5ZOxVDVH"
      },
      "outputs": [],
      "source": [
        "## functions\n",
        "\n",
        "# casting to string\n",
        "def read_tweets(filename):\n",
        "  df = pd.read_csv(filename)\n",
        "  df.loc[~df['in_reply_to_user_id'].isna(), 'in_reply_to_user_id'] = df.loc[~df['in_reply_to_user_id'].isna(),'in_reply_to_user_id'].astype(int).astype(str)\n",
        "  df['author_id'] = df['author_id'].astype(str)\n",
        "  return(df)\n",
        "\n",
        "\n",
        "# REply edges (in the format of from-to edges)\n",
        "def get_reply_edges(df):\n",
        "  edges_reply = df[~df['in_reply_to_user_id'].isnull()][['author_id', 'in_reply_to_user_id','company']]\n",
        "  edges_reply['Edge_type'] = \"RE\"\n",
        "  edges_reply.columns = [\"form\",\"To\",\"Company\",\"Edge_type\"]\n",
        "  return(edges_reply)\n",
        "\n",
        "\n",
        "# get the ids of mentioned users (RT or Mention)\n",
        "def get_MT_TR_edges(df):\n",
        "  edges_MT_RT = []\n",
        "  tmp = []\n",
        "\n",
        "  for i in range(len(df['entities'])):\n",
        "    TweetType = \"MT\"\n",
        "    row = df.iloc[i]['entities']\n",
        "    if type(row)!=float:\n",
        "      if 'mentions' in row:\n",
        "        row = ast.literal_eval(row)\n",
        "        if df.iloc[i]['text'].startswith(\"RT\"):\n",
        "          TweetType = 'RT'\n",
        "        tmp =  [ [x['id'],df.iloc[i]['author_id'], df.iloc[i]['company'],TweetType] for x in row['mentions']] \n",
        "        for x in tmp:\n",
        "          edges_MT_RT.append(x)\n",
        "\n",
        "  return(edges_MT_RT)\n",
        "\n",
        "\n",
        "# group by [From],[To],[Company]\n",
        "def create_weighted_edges(df):\n",
        "  df = (df.groupby(['From', 'To', 'Company']).size()\n",
        "                                            .sort_values(ascending=False)\n",
        "                                            .reset_index(name='count') \n",
        "                                            .drop_duplicates(subset='To')\n",
        "                    )\n",
        "  return(df)"
      ]
    },
    {
      "cell_type": "code",
      "execution_count": null,
      "metadata": {
        "id": "XyMKGCXvayeA"
      },
      "outputs": [],
      "source": [
        "# load the data\n",
        "df_before = read_tweets(os.path.join(PTH,'before_all_2020.csv'))\n",
        "\n",
        "df_after = read_tweets(os.path.join(PTH,'after_all_2020.csv'))"
      ]
    },
    {
      "cell_type": "code",
      "execution_count": null,
      "metadata": {
        "id": "kidBGoA_UFxz"
      },
      "outputs": [],
      "source": [
        "# create reply edges\n",
        "edges_reply_before = get_reply_edges(df_before)\n",
        "\n",
        "edges_reply_after = get_reply_edges(df_after)"
      ]
    },
    {
      "cell_type": "code",
      "execution_count": null,
      "metadata": {
        "id": "qmRJLz6_j-In"
      },
      "outputs": [],
      "source": [
        "edges_MT_RT_before = get_MT_TR_edges(df_before)\n",
        "edges_MT_RT_before = pd.DataFrame(edges_MT_RT_before)\n",
        "edges_MT_RT_before.columns = [\"From\",\"To\",\"Company\",\"Edge_type\"]\n",
        "\n",
        "edges_MT_RT_after = get_MT_TR_edges(df_after)\n",
        "edges_MT_RT_after = pd.DataFrame(edges_MT_RT_after)\n",
        "edges_MT_RT_after.columns = [\"From\",\"To\",\"Company\",\"Edge_type\"]"
      ]
    },
    {
      "cell_type": "code",
      "execution_count": null,
      "metadata": {
        "id": "M6G7qdHapUhC"
      },
      "outputs": [],
      "source": [
        "activity_edges_before = edges_reply_before.append( edges_MT_RT_before )\n",
        "\n",
        "activity_edges_after = edges_reply_after.append( edges_MT_RT_after )"
      ]
    },
    {
      "cell_type": "code",
      "execution_count": null,
      "metadata": {
        "id": "nGMrIJmGPLgD"
      },
      "outputs": [],
      "source": [
        "# group by [From],[To],[Company]\n",
        "activity_edges_before = create_weighted_edges(activity_edges_before)\n",
        "# save to file\n",
        "activity_edges_before.to_csv(os.path.join(PTH,'activity_edges_before_All_chapter11_2020.csv'), index = False)\n",
        "\n",
        "\n",
        "# group by [From],[To],[Company]\n",
        "activity_edges_before = create_weighted_edges(activity_edges_after)\n",
        "# save to file\n",
        "activity_edges_before.to_csv(os.path.join(PTH,'activity_edges_after_All_chapter11_2020.csv'), index = False)"
      ]
    },
    {
      "cell_type": "markdown",
      "metadata": {
        "id": "yHZ7W3800taF"
      },
      "source": [
        "###  Statistics for BEFORE bankruptcy announcement"
      ]
    },
    {
      "cell_type": "code",
      "execution_count": null,
      "metadata": {
        "id": "zVL9RZjrgJ8O"
      },
      "outputs": [],
      "source": [
        "PTH ='/content/drive/MyDrive/Colab Notebooks/BIU_HEB/data/All_chapter11_2020'"
      ]
    },
    {
      "cell_type": "code",
      "execution_count": null,
      "metadata": {
        "id": "Y-vQEByX2rq0"
      },
      "outputs": [],
      "source": [
        "# read the activity (RT, MT, RE) edges\n",
        "activity_edges_before = pd.read_csv(os.path.join(PTH,'activity_edges_before_All_chapter11_2020.csv'))\n",
        "\n",
        "activity_edges_after = pd.read_csv(os.path.join(PTH,'activity_edges_after_All_chapter11_2020.csv'))"
      ]
    },
    {
      "cell_type": "code",
      "execution_count": null,
      "metadata": {
        "colab": {
          "base_uri": "https://localhost:8080/"
        },
        "id": "1gHySEC_pQBd",
        "outputId": "d0da982b-ea30-41b8-a22b-7e03ed1ba272"
      },
      "outputs": [
        {
          "name": "stdout",
          "output_type": "stream",
          "text": [
            "{'LATAMAirlines', 'ExideCare', 'DAVIDsTEA', 'Avianca', 'McDermott_News', 'BriggsStratton', 'Aeromexico', 'LSC_COM_', 'nyandcompany', 'SeadrillLtd', 'ShopStageStores', 'PREIT', 'MNK', 'TailorBrands', 'mcclatchy', 'Gordmans', 'MoodMedia', 'GarrettMotion', 'AskFrontier', 'chesapeake', 'INTELSAT', 'TuesdayMorning', 'amgreetings'}\n",
            "23\n",
            "{'LATAMAirlines', 'ExideCare', 'DAVIDsTEA', 'Avianca', 'McDermott_News', 'BriggsStratton', 'Aeromexico', 'LSC_COM_', 'nyandcompany', 'SeadrillLtd', 'ShopStageStores', 'PREIT', 'MNK', 'TailorBrands', 'mcclatchy', 'Gordmans', 'MoodMedia', 'GarrettMotion', 'AskFrontier', 'chesapeake', 'INTELSAT', 'TuesdayMorning', 'amgreetings'}\n",
            "23\n"
          ]
        }
      ],
      "source": [
        "# number of companies\n",
        "def num_companies(df):\n",
        "  print(set(df['Company']))\n",
        "  print(len(set(df['Company'])))\n",
        "\n",
        "\n",
        "num_companies(activity_edges_before)\n",
        "\n",
        "num_companies(activity_edges_after)"
      ]
    },
    {
      "cell_type": "code",
      "execution_count": null,
      "metadata": {
        "id": "1Mwu4loO0rRY"
      },
      "outputs": [],
      "source": [
        "# number of unique users per Company BEFORE bankruptcy announcement\n",
        "\n",
        "def plot_me(df):\n",
        "    x_axis = []\n",
        "    y_axis = []\n",
        "\n",
        "    for comp in set(df['Company']):\n",
        "      sub_df = df[df['Company'] == comp]\n",
        "      y_axis.append(len(set(sub_df['From'].tolist() + sub_df['To'].tolist())) )\n",
        "      x_axis.append(comp)\n",
        "\n",
        "    g = pd.DataFrame({\"Company\":x_axis, \"y\":y_axis})\n",
        "    return(g)"
      ]
    },
    {
      "cell_type": "code",
      "execution_count": null,
      "metadata": {
        "id": "928CGxpmhocA"
      },
      "outputs": [],
      "source": [
        "df_bar_before = plot_me(activity_edges_before)\n",
        "\n",
        "df_bar_after = plot_me(activity_edges_after)"
      ]
    },
    {
      "cell_type": "code",
      "execution_count": null,
      "metadata": {
        "id": "84n5SA8VxCk5"
      },
      "outputs": [],
      "source": [
        "df_bar_after['before'] = df_bar_before['y']\n",
        "df_all = df_bar_after\n",
        "df_all.columns =['Company','After','Before']\n",
        "\n",
        "del df_bar_after"
      ]
    },
    {
      "cell_type": "code",
      "execution_count": null,
      "metadata": {
        "colab": {
          "base_uri": "https://localhost:8080/",
          "height": 771
        },
        "id": "JK2BPh2z2a6c",
        "outputId": "b372893f-6106-4d65-fc4a-203bf48d4137"
      },
      "outputs": [
        {
          "data": {
            "text/html": [
              "\n",
              "  <div id=\"df-116ee28e-eaa2-43f2-beb9-e23df7669d75\">\n",
              "    <div class=\"colab-df-container\">\n",
              "      <div>\n",
              "<style scoped>\n",
              "    .dataframe tbody tr th:only-of-type {\n",
              "        vertical-align: middle;\n",
              "    }\n",
              "\n",
              "    .dataframe tbody tr th {\n",
              "        vertical-align: top;\n",
              "    }\n",
              "\n",
              "    .dataframe thead th {\n",
              "        text-align: right;\n",
              "    }\n",
              "</style>\n",
              "<table border=\"1\" class=\"dataframe\">\n",
              "  <thead>\n",
              "    <tr style=\"text-align: right;\">\n",
              "      <th></th>\n",
              "      <th>Company</th>\n",
              "      <th>After</th>\n",
              "      <th>Before</th>\n",
              "    </tr>\n",
              "  </thead>\n",
              "  <tbody>\n",
              "    <tr>\n",
              "      <th>0</th>\n",
              "      <td>LATAMAirlines</td>\n",
              "      <td>464</td>\n",
              "      <td>320</td>\n",
              "    </tr>\n",
              "    <tr>\n",
              "      <th>1</th>\n",
              "      <td>ExideCare</td>\n",
              "      <td>399</td>\n",
              "      <td>134</td>\n",
              "    </tr>\n",
              "    <tr>\n",
              "      <th>2</th>\n",
              "      <td>DAVIDsTEA</td>\n",
              "      <td>487</td>\n",
              "      <td>415</td>\n",
              "    </tr>\n",
              "    <tr>\n",
              "      <th>3</th>\n",
              "      <td>Avianca</td>\n",
              "      <td>602</td>\n",
              "      <td>646</td>\n",
              "    </tr>\n",
              "    <tr>\n",
              "      <th>4</th>\n",
              "      <td>McDermott_News</td>\n",
              "      <td>54</td>\n",
              "      <td>35</td>\n",
              "    </tr>\n",
              "    <tr>\n",
              "      <th>5</th>\n",
              "      <td>BriggsStratton</td>\n",
              "      <td>108</td>\n",
              "      <td>102</td>\n",
              "    </tr>\n",
              "    <tr>\n",
              "      <th>6</th>\n",
              "      <td>Aeromexico</td>\n",
              "      <td>414</td>\n",
              "      <td>7642</td>\n",
              "    </tr>\n",
              "    <tr>\n",
              "      <th>7</th>\n",
              "      <td>LSC_COM_</td>\n",
              "      <td>9</td>\n",
              "      <td>5</td>\n",
              "    </tr>\n",
              "    <tr>\n",
              "      <th>8</th>\n",
              "      <td>nyandcompany</td>\n",
              "      <td>284</td>\n",
              "      <td>111</td>\n",
              "    </tr>\n",
              "    <tr>\n",
              "      <th>9</th>\n",
              "      <td>SeadrillLtd</td>\n",
              "      <td>4</td>\n",
              "      <td>13</td>\n",
              "    </tr>\n",
              "    <tr>\n",
              "      <th>10</th>\n",
              "      <td>ShopStageStores</td>\n",
              "      <td>5</td>\n",
              "      <td>4</td>\n",
              "    </tr>\n",
              "    <tr>\n",
              "      <th>11</th>\n",
              "      <td>PREIT</td>\n",
              "      <td>27</td>\n",
              "      <td>5</td>\n",
              "    </tr>\n",
              "    <tr>\n",
              "      <th>12</th>\n",
              "      <td>MNK</td>\n",
              "      <td>326</td>\n",
              "      <td>175</td>\n",
              "    </tr>\n",
              "    <tr>\n",
              "      <th>13</th>\n",
              "      <td>TailorBrands</td>\n",
              "      <td>66</td>\n",
              "      <td>74</td>\n",
              "    </tr>\n",
              "    <tr>\n",
              "      <th>14</th>\n",
              "      <td>mcclatchy</td>\n",
              "      <td>3758</td>\n",
              "      <td>636</td>\n",
              "    </tr>\n",
              "    <tr>\n",
              "      <th>15</th>\n",
              "      <td>Gordmans</td>\n",
              "      <td>21</td>\n",
              "      <td>30</td>\n",
              "    </tr>\n",
              "    <tr>\n",
              "      <th>16</th>\n",
              "      <td>MoodMedia</td>\n",
              "      <td>20</td>\n",
              "      <td>14</td>\n",
              "    </tr>\n",
              "    <tr>\n",
              "      <th>17</th>\n",
              "      <td>GarrettMotion</td>\n",
              "      <td>199</td>\n",
              "      <td>59</td>\n",
              "    </tr>\n",
              "    <tr>\n",
              "      <th>18</th>\n",
              "      <td>AskFrontier</td>\n",
              "      <td>398</td>\n",
              "      <td>583</td>\n",
              "    </tr>\n",
              "    <tr>\n",
              "      <th>19</th>\n",
              "      <td>chesapeake</td>\n",
              "      <td>123</td>\n",
              "      <td>77</td>\n",
              "    </tr>\n",
              "    <tr>\n",
              "      <th>20</th>\n",
              "      <td>INTELSAT</td>\n",
              "      <td>287</td>\n",
              "      <td>285</td>\n",
              "    </tr>\n",
              "    <tr>\n",
              "      <th>21</th>\n",
              "      <td>TuesdayMorning</td>\n",
              "      <td>127</td>\n",
              "      <td>69</td>\n",
              "    </tr>\n",
              "    <tr>\n",
              "      <th>22</th>\n",
              "      <td>amgreetings</td>\n",
              "      <td>613</td>\n",
              "      <td>394</td>\n",
              "    </tr>\n",
              "  </tbody>\n",
              "</table>\n",
              "</div>\n",
              "      <button class=\"colab-df-convert\" onclick=\"convertToInteractive('df-116ee28e-eaa2-43f2-beb9-e23df7669d75')\"\n",
              "              title=\"Convert this dataframe to an interactive table.\"\n",
              "              style=\"display:none;\">\n",
              "        \n",
              "  <svg xmlns=\"http://www.w3.org/2000/svg\" height=\"24px\"viewBox=\"0 0 24 24\"\n",
              "       width=\"24px\">\n",
              "    <path d=\"M0 0h24v24H0V0z\" fill=\"none\"/>\n",
              "    <path d=\"M18.56 5.44l.94 2.06.94-2.06 2.06-.94-2.06-.94-.94-2.06-.94 2.06-2.06.94zm-11 1L8.5 8.5l.94-2.06 2.06-.94-2.06-.94L8.5 2.5l-.94 2.06-2.06.94zm10 10l.94 2.06.94-2.06 2.06-.94-2.06-.94-.94-2.06-.94 2.06-2.06.94z\"/><path d=\"M17.41 7.96l-1.37-1.37c-.4-.4-.92-.59-1.43-.59-.52 0-1.04.2-1.43.59L10.3 9.45l-7.72 7.72c-.78.78-.78 2.05 0 2.83L4 21.41c.39.39.9.59 1.41.59.51 0 1.02-.2 1.41-.59l7.78-7.78 2.81-2.81c.8-.78.8-2.07 0-2.86zM5.41 20L4 18.59l7.72-7.72 1.47 1.35L5.41 20z\"/>\n",
              "  </svg>\n",
              "      </button>\n",
              "      \n",
              "  <style>\n",
              "    .colab-df-container {\n",
              "      display:flex;\n",
              "      flex-wrap:wrap;\n",
              "      gap: 12px;\n",
              "    }\n",
              "\n",
              "    .colab-df-convert {\n",
              "      background-color: #E8F0FE;\n",
              "      border: none;\n",
              "      border-radius: 50%;\n",
              "      cursor: pointer;\n",
              "      display: none;\n",
              "      fill: #1967D2;\n",
              "      height: 32px;\n",
              "      padding: 0 0 0 0;\n",
              "      width: 32px;\n",
              "    }\n",
              "\n",
              "    .colab-df-convert:hover {\n",
              "      background-color: #E2EBFA;\n",
              "      box-shadow: 0px 1px 2px rgba(60, 64, 67, 0.3), 0px 1px 3px 1px rgba(60, 64, 67, 0.15);\n",
              "      fill: #174EA6;\n",
              "    }\n",
              "\n",
              "    [theme=dark] .colab-df-convert {\n",
              "      background-color: #3B4455;\n",
              "      fill: #D2E3FC;\n",
              "    }\n",
              "\n",
              "    [theme=dark] .colab-df-convert:hover {\n",
              "      background-color: #434B5C;\n",
              "      box-shadow: 0px 1px 3px 1px rgba(0, 0, 0, 0.15);\n",
              "      filter: drop-shadow(0px 1px 2px rgba(0, 0, 0, 0.3));\n",
              "      fill: #FFFFFF;\n",
              "    }\n",
              "  </style>\n",
              "\n",
              "      <script>\n",
              "        const buttonEl =\n",
              "          document.querySelector('#df-116ee28e-eaa2-43f2-beb9-e23df7669d75 button.colab-df-convert');\n",
              "        buttonEl.style.display =\n",
              "          google.colab.kernel.accessAllowed ? 'block' : 'none';\n",
              "\n",
              "        async function convertToInteractive(key) {\n",
              "          const element = document.querySelector('#df-116ee28e-eaa2-43f2-beb9-e23df7669d75');\n",
              "          const dataTable =\n",
              "            await google.colab.kernel.invokeFunction('convertToInteractive',\n",
              "                                                     [key], {});\n",
              "          if (!dataTable) return;\n",
              "\n",
              "          const docLinkHtml = 'Like what you see? Visit the ' +\n",
              "            '<a target=\"_blank\" href=https://colab.research.google.com/notebooks/data_table.ipynb>data table notebook</a>'\n",
              "            + ' to learn more about interactive tables.';\n",
              "          element.innerHTML = '';\n",
              "          dataTable['output_type'] = 'display_data';\n",
              "          await google.colab.output.renderOutput(dataTable, element);\n",
              "          const docLink = document.createElement('div');\n",
              "          docLink.innerHTML = docLinkHtml;\n",
              "          element.appendChild(docLink);\n",
              "        }\n",
              "      </script>\n",
              "    </div>\n",
              "  </div>\n",
              "  "
            ],
            "text/plain": [
              "            Company  After  Before\n",
              "0     LATAMAirlines    464     320\n",
              "1         ExideCare    399     134\n",
              "2         DAVIDsTEA    487     415\n",
              "3           Avianca    602     646\n",
              "4    McDermott_News     54      35\n",
              "5    BriggsStratton    108     102\n",
              "6        Aeromexico    414    7642\n",
              "7          LSC_COM_      9       5\n",
              "8      nyandcompany    284     111\n",
              "9       SeadrillLtd      4      13\n",
              "10  ShopStageStores      5       4\n",
              "11            PREIT     27       5\n",
              "12              MNK    326     175\n",
              "13     TailorBrands     66      74\n",
              "14        mcclatchy   3758     636\n",
              "15         Gordmans     21      30\n",
              "16        MoodMedia     20      14\n",
              "17    GarrettMotion    199      59\n",
              "18      AskFrontier    398     583\n",
              "19       chesapeake    123      77\n",
              "20         INTELSAT    287     285\n",
              "21   TuesdayMorning    127      69\n",
              "22      amgreetings    613     394"
            ]
          },
          "execution_count": 55,
          "metadata": {},
          "output_type": "execute_result"
        }
      ],
      "source": [
        "df_all"
      ]
    },
    {
      "cell_type": "markdown",
      "metadata": {
        "id": "1E1pQwh51_2z"
      },
      "source": [
        "Plot using R"
      ]
    },
    {
      "cell_type": "code",
      "execution_count": null,
      "metadata": {
        "id": "YwZ6DJy-yPMr"
      },
      "outputs": [],
      "source": [
        "%load_ext rpy2.ipython\n",
        "\n",
        "# https://www.askpython.com/python/examples/use-r-and-python-in-the-same-notebook#:~:text=Using%20R%20along%20with%20Python%20in%20Google%20Colab&text=To%20use%20R%20and%20python%20simultaneously%20in%20the%20same%20notebook,activate%20the%20rpy2%20package%20first.&text=rpy2%20is%20a%20high%2Dlevel,NumPy%20and%20pandas%20data%20structures."
      ]
    },
    {
      "cell_type": "code",
      "execution_count": null,
      "metadata": {
        "id": "8cd5TPvMyht4"
      },
      "outputs": [],
      "source": [
        "%%R\n",
        "install.packages('reshape2',repos = \"http://cran.us.r-project.org\")"
      ]
    },
    {
      "cell_type": "code",
      "execution_count": null,
      "metadata": {
        "id": "VytGdq5DyU4T"
      },
      "outputs": [],
      "source": [
        "%%R\n",
        "library('ggplot2')\n",
        "library('reshape2')"
      ]
    },
    {
      "cell_type": "code",
      "execution_count": null,
      "metadata": {
        "id": "9lDVfTHCwGdB"
      },
      "outputs": [],
      "source": [
        "# move pyton object to R\n",
        "%R -i df_all"
      ]
    },
    {
      "cell_type": "code",
      "execution_count": null,
      "metadata": {
        "colab": {
          "base_uri": "https://localhost:8080/",
          "height": 497
        },
        "id": "c5Qi49hu0lwl",
        "outputId": "4a92f75b-5fe5-43d1-93fa-bc32bba1345d"
      },
      "outputs": [
        {
          "data": {
            "image/png": "[encoded data removed]"
          },
          "metadata": {},
          "output_type": "display_data"
        }
      ],
      "source": [
        "%%R\n",
        "\n",
        "df_all <- melt(df_all, id.vars='Company')\n",
        "\n",
        "ggplot(df_all, aes(x=Company, y=value, fill=variable)) +\n",
        "    geom_bar(stat='identity', position='dodge') +\n",
        "    theme(axis.text.x = element_text(angle = 90, vjust = 0.5, hjust=1))+\n",
        "    coord_flip()"
      ]
    },
    {
      "cell_type": "markdown",
      "metadata": {
        "id": "j82xlzJWXNiA"
      },
      "source": [
        "## Get followers ids of a user"
      ]
    },
    {
      "cell_type": "code",
      "execution_count": null,
      "metadata": {
        "id": "PqY5yA8i4OII"
      },
      "outputs": [],
      "source": [
        "# load data\n",
        "PTH ='/content/drive/MyDrive/Colab Notebooks/BIU_HEB/data/All_chapter11_2020'\n",
        "\n",
        "activity_edges_before = pd.read_csv(os.path.join(PTH,'activity_edges_before_All_chapter11_2020.csv'))\n",
        "\n",
        "activity_edges_after = pd.read_csv(os.path.join(PTH,'activity_edges_after_All_chapter11_2020.csv'))"
      ]
    },
    {
      "cell_type": "code",
      "execution_count": null,
      "metadata": {
        "id": "Yy0BEmgI5G0A"
      },
      "outputs": [],
      "source": [
        "all_users_activity_edges = list(set(\n",
        "  activity_edges_after['From'].tolist() + activity_edges_after['To'].tolist() +\n",
        "  activity_edges_before['From'].tolist() + activity_edges_before['To'].tolist()\n",
        "))"
      ]
    },
    {
      "cell_type": "code",
      "execution_count": null,
      "metadata": {
        "colab": {
          "background_save": true,
          "base_uri": "https://localhost:8080/"
        },
        "id": "4CX20TWt7Jg0",
        "outputId": "bab25d4e-dea4-47a5-9416-85e00d0373fa"
      },
      "outputs": [
        {
          "name": "stdout",
          "output_type": "stream",
          "text": [
            "777999138864496640\n",
            "1206\n",
            "868871804831531008\n",
            "5000\n",
            "7018\n",
            "875637231112683522\n",
            "4994\n",
            "964650094686502912\n",
            "790\n",
            "1265471809828290564\n",
            "20\n",
            "830075628183486464\n",
            "error\n",
            "859141161105096710\n",
            "error\n",
            "1604714503\n",
            "4352\n",
            "973732153887424512\n",
            "error\n",
            "908267811390226432\n",
            "70\n",
            "793024367227699201\n",
            "757\n",
            "973732153887424514\n"
          ]
        },
        {
          "name": "stderr",
          "output_type": "stream",
          "text": [
            "WARNING:tweepy.api:Rate limit reached. Sleeping for: 208\n"
          ]
        },
        {
          "name": "stdout",
          "output_type": "stream",
          "text": [
            "26\n",
            "140509196\n",
            "356\n",
            "908496858569375749\n",
            "14\n",
            "3105882127\n",
            "992\n",
            "245628946\n",
            "18\n",
            "479985705\n",
            "4761\n",
            "240779305\n",
            "186\n",
            "259784760\n",
            "4445\n",
            "2153119800\n",
            "85\n",
            "234225722\n",
            "17\n",
            "898236474\n",
            "276\n",
            "521797692\n",
            "85\n",
            "42467395\n",
            "246\n",
            "776259451284295680\n",
            "799\n",
            "50200655\n",
            "692\n",
            "485884004\n"
          ]
        },
        {
          "name": "stderr",
          "output_type": "stream",
          "text": [
            "WARNING:tweepy.api:Rate limit reached. Sleeping for: 897\n"
          ]
        },
        {
          "name": "stdout",
          "output_type": "stream",
          "text": [
            "2180\n",
            "624296036\n",
            "76\n",
            "2901803110\n",
            "2391\n",
            "2786721901\n",
            "5000\n",
            "10000\n",
            "14862\n",
            "45744244\n",
            "221\n",
            "30670965\n",
            "1096\n",
            "82706551\n",
            "5000\n",
            "10000\n",
            "15000\n",
            "20000\n",
            "25000\n",
            "30000\n"
          ]
        },
        {
          "name": "stderr",
          "output_type": "stream",
          "text": [
            "WARNING:tweepy.api:Rate limit reached. Sleeping for: 897\n"
          ]
        },
        {
          "name": "stdout",
          "output_type": "stream",
          "text": [
            "35000\n",
            "40000\n",
            "45000\n",
            "50000\n",
            "55000\n",
            "60000\n",
            "65000\n",
            "70000\n",
            "73756\n",
            "901559453182451712\n",
            "179\n",
            "2348810371\n",
            "3\n",
            "150732943\n",
            "5000\n",
            "10000\n",
            "15000\n",
            "20000\n"
          ]
        },
        {
          "name": "stderr",
          "output_type": "stream",
          "text": [
            "WARNING:tweepy.api:Rate limit reached. Sleeping for: 896\n"
          ]
        },
        {
          "name": "stdout",
          "output_type": "stream",
          "text": [
            "25000\n",
            "30000\n",
            "34415\n",
            "87818409\n",
            "5000\n",
            "10000\n",
            "15000\n",
            "20000\n",
            "25000\n",
            "30000\n",
            "35000\n",
            "40000\n",
            "45000\n",
            "50000\n",
            "55000\n",
            "60000\n"
          ]
        },
        {
          "name": "stderr",
          "output_type": "stream",
          "text": [
            "WARNING:tweepy.api:Rate limit reached. Sleeping for: 896\n"
          ]
        },
        {
          "name": "stdout",
          "output_type": "stream",
          "text": [
            "65000\n"
          ]
        }
      ],
      "source": [
        "\n",
        "follower_list = []\n",
        "\n",
        "for user in all_users_activity_edges:\n",
        "    print(user)\n",
        "    followers = []\n",
        "    try:\n",
        "        for page in tweepy.Cursor(api.get_follower_ids, user_id=user).pages():\n",
        "            followers.extend(page)\n",
        "            print(len(followers))\n",
        "            follower_list.append(followers)\n",
        "    except tweepy.errors.TweepyException:\n",
        "        print(\"error\")\n",
        "        continue\n",
        "    follower_list = pd.DataFrame(follower_list[0])\n",
        "    follower_list.to_csv(os.path.join('/content/drive/MyDrive/Colab Notebooks/BIU_HEB/data/All_chapter11_2020/followers',str(user)+'.csv'))"
      ]
    }
  ],
  "metadata": {
    "colab": {
      "collapsed_sections": [
        "dZ0QaNAiTmyN",
        "-V9RRmumB0nC",
        "Ahpq7eKeSy7Q",
        "j82xlzJWXNiA"
      ],
      "provenance": [],
      "include_colab_link": true
    },
    "kernelspec": {
      "display_name": "Python 3",
      "name": "python3"
    },
    "language_info": {
      "name": "python"
    }
  },
  "nbformat": 4,
  "nbformat_minor": 0
}