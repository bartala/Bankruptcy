{
  "cells": [
    {
      "cell_type": "markdown",
      "metadata": {
        "id": "view-in-github",
        "colab_type": "text"
      },
      "source": [
        "<a href=\"https://colab.research.google.com/github/bartala/Bankkruptcy/blob/main/CollectTweets(NewBIUBankruptcy).ipynb\" target=\"_parent\"><img src=\"https://colab.research.google.com/assets/colab-badge.svg\" alt=\"Open In Colab\"/></a>"
      ]
    },
    {
      "cell_type": "code",
      "execution_count": null,
      "metadata": {
        "id": "Sb8kadP8f-c_"
      },
      "outputs": [],
      "source": [
        "# https://dev.to/twitterdev/a-comprehensive-guide-for-using-the-twitter-api-v2-using-tweepy-in-python-15d9\n",
        "! pip3 install tweepy --upgrade\n",
        "! pip3 install git+https://github.com/yhat/ggplot.git"
      ]
    },
    {
      "cell_type": "code",
      "execution_count": 2,
      "metadata": {
        "id": "osPhc0jKMmig"
      },
      "outputs": [],
      "source": [
        "# App name ADSResearcher\n",
        "import tweepy"
      ]
    },
    {
      "cell_type": "code",
      "execution_count": 3,
      "metadata": {
        "id": "pKEdC1rqARf-"
      },
      "outputs": [],
      "source": [
        "import pandas as pd\n",
        "import numpy as np\n",
        "from datetime import datetime, date\n",
        "import datetime\n",
        "from time import gmtime, strftime\n",
        "import subprocess\n",
        "import time\n",
        "import os, os.path\n",
        "import math\n",
        "import threading\n",
        "import json\n",
        "import gzip\n",
        "import sys\n",
        "import calendar\n",
        "import re\n",
        "from pathlib import Path\n",
        "import json\n",
        "import ast\n",
        "from plotnine import *"
      ]
    },
    {
      "cell_type": "code",
      "execution_count": 4,
      "metadata": {
        "colab": {
          "base_uri": "https://localhost:8080/"
        },
        "id": "zI5iQYqwWqTS",
        "outputId": "6d4af975-92c1-4794-8e73-bf37c286b75b"
      },
      "outputs": [
        {
          "output_type": "stream",
          "name": "stdout",
          "text": [
            "Mounted at /content/drive\n"
          ]
        }
      ],
      "source": [
        "from google.colab import drive\n",
        "drive.mount('/content/drive')"
      ]
    },
    {
      "cell_type": "code",
      "execution_count": 5,
      "metadata": {
        "id": "ayUitG4n8ypq"
      },
      "outputs": [],
      "source": [
        "PTH = '/content/drive/MyDrive/Colab Notebooks/BIU_HEB/'"
      ]
    },
    {
      "cell_type": "markdown",
      "metadata": {
        "id": "_6KogV2cpz0b"
      },
      "source": [
        "## Download tweets"
      ]
    },
    {
      "cell_type": "code",
      "source": [
        "keys = pd.read_csv(os.path.join(PTH,'code','TwitterKeys.csv'))"
      ],
      "metadata": {
        "id": "Hckj2DDX0LvK"
      },
      "execution_count": 6,
      "outputs": []
    },
    {
      "cell_type": "code",
      "execution_count": 7,
      "metadata": {
        "id": "fYiIPfRQM0Ua"
      },
      "outputs": [],
      "source": [
        "# Twitter API V2 \n",
        "# APP: ADSResearcher\n",
        "\n",
        "consumer_key = keys['value'].iloc[0]\n",
        "consumer_secret= keys['value'].iloc[1]\n",
        "access_token = keys['value'].iloc[2]\n",
        "access_token_secret = keys['value'].iloc[3]\n",
        "\n",
        "client = tweepy.Client(bearer_token= keys['value'].iloc[4],wait_on_rate_limit=True)\n",
        "\n",
        "auth = tweepy.OAuthHandler(consumer_key, consumer_secret) \n",
        "auth.set_access_token(access_token, access_token_secret)\n",
        "api = tweepy.API(auth, wait_on_rate_limit=True)"
      ]
    },
    {
      "cell_type": "code",
      "source": [
        "df = pd.read_csv(os.path.join(PTH,'data','crashed_stocks','stock_crash.csv'))\n",
        "user_names = df['Twitter_handle']\n",
        "user_names"
      ],
      "metadata": {
        "id": "4DH5Atg5Snvj"
      },
      "execution_count": null,
      "outputs": []
    },
    {
      "cell_type": "code",
      "execution_count": 20,
      "metadata": {
        "id": "m6v6Oa9sy4Tz"
      },
      "outputs": [],
      "source": [
        "user_ids  = []\n",
        "for user in user_names:\n",
        "  user1 = api.get_user(screen_name=user)\n",
        "  followers_count = user1.followers_count\n",
        "  following_count = user1.friends_count\n",
        "  user_ids.append([user1.id_str, user, user1.listed_count,followers_count,following_count]) # # [user_id, user_name,number of lists a user is on]"
      ]
    },
    {
      "cell_type": "code",
      "execution_count": null,
      "metadata": {
        "id": "nBDGH7vEnwqG"
      },
      "outputs": [],
      "source": [
        "df_users = pd.DataFrame(user_ids)\n",
        "df_users.columns = ['userid','username','lists','followers','following']\n",
        "df_users"
      ]
    },
    {
      "cell_type": "code",
      "execution_count": 11,
      "metadata": {
        "id": "LauQB4lNocFl"
      },
      "outputs": [],
      "source": [
        "def collect_tweets(company_user_name, S, E, fname):\n",
        "  print(company_user_name)\n",
        "  filename = os.path.join(PTH,'data',fname+'_'+company_user_name+'.json.gz')\n",
        "  print(filename)\n",
        "  for tweet in tweepy.Paginator(client.search_all_tweets, \n",
        "                        query= '@'+ company_user_name +' lang:en',\n",
        "                        start_time= S,\n",
        "                        end_time = E,\n",
        "                        expansions = ['author_id','referenced_tweets.id','referenced_tweets.id.author_id','in_reply_to_user_id','attachments.media_keys','entities.mentions.username'],\n",
        "                        tweet_fields=['id','text','author_id','created_at','conversation_id','entities','public_metrics','referenced_tweets'],\n",
        "                        user_fields=['id','name','username','created_at','description','public_metrics','verified'],\n",
        "                        place_fields=['full_name','id'],\n",
        "                        media_fields=['type','url','alt_text','public_metrics'],\n",
        "                        max_results=100).flatten():\n",
        "    with gzip.open(filename, 'a') as fout:\n",
        "          fout.write(json.dumps(tweet.data).encode('utf-8'))\n",
        "          fout.write('\\n'.encode('utf-8'))"
      ]
    },
    {
      "cell_type": "markdown",
      "source": [
        "### collect tweets for companies that declared bankruptcy"
      ],
      "metadata": {
        "id": "dZ0QaNAiTmyN"
      }
    },
    {
      "cell_type": "code",
      "execution_count": null,
      "metadata": {
        "id": "c9y7l1GJf9fz"
      },
      "outputs": [],
      "source": [
        "# Make sure to set the spreadsheet as public\n",
        "\n",
        "sheet_id = '1iXJlaMYkccWMnIYB07GNJQS_aN9wPfdPwE5KixaefEo'\n",
        "sheet_name = \"All_chapter_11\"\n",
        "url = f\"https://docs.google.com/spreadsheets/d/{sheet_id}/gviz/tq?tqx=out:csv&sheet={sheet_name}\"\n",
        "df = pd.read_csv(url,header=[0])\n",
        "df"
      ]
    },
    {
      "cell_type": "code",
      "execution_count": null,
      "metadata": {
        "id": "8GOIf10zgJha"
      },
      "outputs": [],
      "source": [
        "# 1 month after and before\n",
        "\n",
        "# mentiones of a company 1 month after it filed for bankruptcy\n",
        "companies_before = df[['Twitter Username', 'before_start', 'before_end']]\n",
        "\n",
        "# mentiones of the company 1 month before it filed for bankruptcy\n",
        "companies_after = df[['Twitter Username', 'after_start', 'after_end']]"
      ]
    },
    {
      "cell_type": "code",
      "source": [
        "# collect tweets and write to file\n",
        "for i in range(0, len(companies_after)):\n",
        "  collect_tweets(companies_after.iloc[i]['Twitter Username'],\n",
        "                 companies_after.iloc[i]['after_start'], \n",
        "                 companies_after.iloc[i]['after_end'],\n",
        "                 'after'\n",
        "                 )\n",
        "  time.sleep(7)"
      ],
      "metadata": {
        "id": "w3pm5SlvYKb0"
      },
      "execution_count": null,
      "outputs": []
    },
    {
      "cell_type": "markdown",
      "source": [
        "### collect tweets for companies that their stocks crashed but did not declate bankruptcy"
      ],
      "metadata": {
        "id": "q6ClRZXFZF-z"
      }
    },
    {
      "cell_type": "code",
      "execution_count": null,
      "metadata": {
        "colab": {
          "base_uri": "https://localhost:8080/"
        },
        "id": "_7NZafre9aQZ",
        "outputId": "ae4e5e9b-94c6-405c-9c8f-18a56e5549f7"
      },
      "outputs": [
        {
          "output_type": "stream",
          "name": "stdout",
          "text": [
            "AmericanAir\n",
            "/content/drive/MyDrive/Colab Notebooks/BIU_HEB/data/crashed_stocks/before_AmericanAir.json.gz\n"
          ]
        },
        {
          "output_type": "stream",
          "name": "stderr",
          "text": [
            "WARNING:tweepy.client:Rate limit exceeded. Sleeping for 899 seconds.\n"
          ]
        }
      ],
      "source": [
        "# collect tweets and write to file\n",
        "for i in range(0, len(df)):\n",
        "  collect_tweets(df.iloc[i]['Twitter_handle'],\n",
        "                 df.iloc[i]['Twitter_start_date'], \n",
        "                 df.iloc[i]['Twitter_end_date'],\n",
        "                 'crashed_stocks/before'\n",
        "                 )\n",
        "  time.sleep(7)"
      ]
    },
    {
      "cell_type": "markdown",
      "metadata": {
        "id": "-V9RRmumB0nC"
      },
      "source": [
        "### combine tweets"
      ]
    },
    {
      "cell_type": "code",
      "execution_count": null,
      "metadata": {
        "id": "pD_iZXfmieS8"
      },
      "outputs": [],
      "source": [
        "PTH ='/content/drive/MyDrive/Colab Notebooks/BIU_HEB/data/All_chapter11_2020'"
      ]
    },
    {
      "cell_type": "code",
      "execution_count": null,
      "metadata": {
        "id": "VMV8rIQYD7MA"
      },
      "outputs": [],
      "source": [
        "companies = [\n",
        "              'Aeromexico',\n",
        "              'amgreetings',\n",
        "              'Avianca',\n",
        "              'BriggsStratton',\n",
        "              'chesapeake',\n",
        "              'DAVIDsTEA',\n",
        "              'ExideCare',\n",
        "              'AskFrontier',\n",
        "              'GarrettMotion',\n",
        "              'Gordmans',\n",
        "              'INTELSAT',\n",
        "              'LATAMAirlines',\n",
        "              'LSC_COM_',\n",
        "              'MNK',\n",
        "              'mcclatchy',\n",
        "              'McDermott_News',\n",
        "              'MoodMedia',\n",
        "              'nyandcompany',\n",
        "              'PREIT',\n",
        "              'SeadrillLtd',\n",
        "              'ShopStageStores',\n",
        "              'TailorBrands',\n",
        "              'TuesdayMorning',\n",
        "              ]"
      ]
    },
    {
      "cell_type": "code",
      "execution_count": null,
      "metadata": {
        "colab": {
          "base_uri": "https://localhost:8080/"
        },
        "id": "GXYiafhwWW0G",
        "outputId": "19ecbdee-23e7-4260-b27c-9427113ec4a8"
      },
      "outputs": [
        {
          "name": "stdout",
          "output_type": "stream",
          "text": [
            "Aeromexico\n",
            "amgreetings\n",
            "Avianca\n",
            "BriggsStratton\n",
            "chesapeake\n",
            "DAVIDsTEA\n",
            "ExideCare\n",
            "AskFrontier\n",
            "GarrettMotion\n",
            "Gordmans\n",
            "INTELSAT\n",
            "LATAMAirlines\n",
            "LSC_COM_\n",
            "MNK\n",
            "mcclatchy\n",
            "McDermott_News\n",
            "MoodMedia\n",
            "nyandcompany\n",
            "PREIT\n",
            "SeadrillLtd\n",
            "ShopStageStores\n",
            "TailorBrands\n",
            "TuesdayMorning\n"
          ]
        }
      ],
      "source": [
        "# read the zipped file into a dataframe\n",
        "df = pd.DataFrame()\n",
        "\n",
        "for company in companies:\n",
        "  print(company)\n",
        "  tmp = pd.read_json(os.path.join(PTH,'before_'+company+'.json.gz'), compression='gzip',lines=True)\n",
        "  tmp['company'] = company\n",
        "  df = pd.concat([df, tmp], ignore_index=True)\n",
        "\n",
        "df.to_csv(os.path.join(PTH,'before_all_2020.csv'), index=False)\n",
        "del df"
      ]
    },
    {
      "cell_type": "code",
      "execution_count": null,
      "metadata": {
        "id": "IZEZp13x3Dr4"
      },
      "outputs": [],
      "source": [
        "df = pd.DataFrame()\n",
        "for company in companies:\n",
        "  tmp = pd.read_json(os.path.join(PTH,'after_'+company+'.json.gz'), compression='gzip',lines=True)\n",
        "  tmp['company'] = company\n",
        "  df = pd.concat([df, tmp], ignore_index=True)\n",
        "\n",
        "df.to_csv(os.path.join(PTH,'after_all_2020.csv'),index=False)"
      ]
    },
    {
      "cell_type": "markdown",
      "metadata": {
        "id": "Ahpq7eKeSy7Q"
      },
      "source": [
        "## Build the post-reply social network"
      ]
    },
    {
      "cell_type": "code",
      "execution_count": null,
      "metadata": {
        "id": "LjrZIEhWSydz"
      },
      "outputs": [],
      "source": [
        "PTH ='/content/drive/MyDrive/Colab Notebooks/BIU_HEB/data/All_chapter11_2020'"
      ]
    },
    {
      "cell_type": "code",
      "execution_count": null,
      "metadata": {
        "id": "-2aD5ZOxVDVH"
      },
      "outputs": [],
      "source": [
        "## functions\n",
        "\n",
        "# casting to string\n",
        "def read_tweets(filename):\n",
        "  df = pd.read_csv(filename)\n",
        "  df.loc[~df['in_reply_to_user_id'].isna(), 'in_reply_to_user_id'] = df.loc[~df['in_reply_to_user_id'].isna(),'in_reply_to_user_id'].astype(int).astype(str)\n",
        "  df['author_id'] = df['author_id'].astype(str)\n",
        "  return(df)\n",
        "\n",
        "\n",
        "# REply edges (in the format of from-to edges)\n",
        "def get_reply_edges(df):\n",
        "  edges_reply = df[~df['in_reply_to_user_id'].isnull()][['author_id', 'in_reply_to_user_id','company']]\n",
        "  edges_reply['Edge_type'] = \"RE\"\n",
        "  edges_reply.columns = [\"form\",\"To\",\"Company\",\"Edge_type\"]\n",
        "  return(edges_reply)\n",
        "\n",
        "\n",
        "# get the ids of mentioned users (RT or Mention)\n",
        "def get_MT_TR_edges(df):\n",
        "  edges_MT_RT = []\n",
        "  tmp = []\n",
        "\n",
        "  for i in range(len(df['entities'])):\n",
        "    TweetType = \"MT\"\n",
        "    row = df.iloc[i]['entities']\n",
        "    if type(row)!=float:\n",
        "      if 'mentions' in row:\n",
        "        row = ast.literal_eval(row)\n",
        "        if df.iloc[i]['text'].startswith(\"RT\"):\n",
        "          TweetType = 'RT'\n",
        "        tmp =  [ [x['id'],df.iloc[i]['author_id'], df.iloc[i]['company'],TweetType] for x in row['mentions']] \n",
        "        for x in tmp:\n",
        "          edges_MT_RT.append(x)\n",
        "\n",
        "  return(edges_MT_RT)\n",
        "\n",
        "\n",
        "# group by [From],[To],[Company]\n",
        "def create_weighted_edges(df):\n",
        "  df = (df.groupby(['From', 'To', 'Company']).size()\n",
        "                                            .sort_values(ascending=False)\n",
        "                                            .reset_index(name='count') \n",
        "                                            .drop_duplicates(subset='To')\n",
        "                    )\n",
        "  return(df)"
      ]
    },
    {
      "cell_type": "code",
      "execution_count": null,
      "metadata": {
        "id": "XyMKGCXvayeA"
      },
      "outputs": [],
      "source": [
        "# load the data\n",
        "df_before = read_tweets(os.path.join(PTH,'before_all_2020.csv'))\n",
        "\n",
        "df_after = read_tweets(os.path.join(PTH,'after_all_2020.csv'))"
      ]
    },
    {
      "cell_type": "code",
      "execution_count": null,
      "metadata": {
        "id": "kidBGoA_UFxz"
      },
      "outputs": [],
      "source": [
        "# create reply edges\n",
        "edges_reply_before = get_reply_edges(df_before)\n",
        "\n",
        "edges_reply_after = get_reply_edges(df_after)"
      ]
    },
    {
      "cell_type": "code",
      "execution_count": null,
      "metadata": {
        "id": "qmRJLz6_j-In"
      },
      "outputs": [],
      "source": [
        "edges_MT_RT_before = get_MT_TR_edges(df_before)\n",
        "edges_MT_RT_before = pd.DataFrame(edges_MT_RT_before)\n",
        "edges_MT_RT_before.columns = [\"From\",\"To\",\"Company\",\"Edge_type\"]\n",
        "\n",
        "edges_MT_RT_after = get_MT_TR_edges(df_after)\n",
        "edges_MT_RT_after = pd.DataFrame(edges_MT_RT_after)\n",
        "edges_MT_RT_after.columns = [\"From\",\"To\",\"Company\",\"Edge_type\"]"
      ]
    },
    {
      "cell_type": "code",
      "execution_count": null,
      "metadata": {
        "id": "M6G7qdHapUhC"
      },
      "outputs": [],
      "source": [
        "activity_edges_before = edges_reply_before.append( edges_MT_RT_before )\n",
        "\n",
        "activity_edges_after = edges_reply_after.append( edges_MT_RT_after )"
      ]
    },
    {
      "cell_type": "code",
      "execution_count": null,
      "metadata": {
        "id": "nGMrIJmGPLgD"
      },
      "outputs": [],
      "source": [
        "# group by [From],[To],[Company]\n",
        "activity_edges_before = create_weighted_edges(activity_edges_before)\n",
        "# save to file\n",
        "activity_edges_before.to_csv(os.path.join(PTH,'activity_edges_before_All_chapter11_2020.csv'), index = False)\n",
        "\n",
        "\n",
        "# group by [From],[To],[Company]\n",
        "activity_edges_before = create_weighted_edges(activity_edges_after)\n",
        "# save to file\n",
        "activity_edges_before.to_csv(os.path.join(PTH,'activity_edges_after_All_chapter11_2020.csv'), index = False)"
      ]
    },
    {
      "cell_type": "markdown",
      "metadata": {
        "id": "yHZ7W3800taF"
      },
      "source": [
        "###  Statistics for BEFORE bankruptcy announcement"
      ]
    },
    {
      "cell_type": "code",
      "execution_count": null,
      "metadata": {
        "id": "zVL9RZjrgJ8O"
      },
      "outputs": [],
      "source": [
        "PTH ='/content/drive/MyDrive/Colab Notebooks/BIU_HEB/data/All_chapter11_2020'"
      ]
    },
    {
      "cell_type": "code",
      "execution_count": null,
      "metadata": {
        "id": "Y-vQEByX2rq0"
      },
      "outputs": [],
      "source": [
        "# read the activity (RT, MT, RE) edges\n",
        "activity_edges_before = pd.read_csv(os.path.join(PTH,'activity_edges_before_All_chapter11_2020.csv'))\n",
        "\n",
        "activity_edges_after = pd.read_csv(os.path.join(PTH,'activity_edges_after_All_chapter11_2020.csv'))"
      ]
    },
    {
      "cell_type": "code",
      "execution_count": null,
      "metadata": {
        "id": "1gHySEC_pQBd"
      },
      "outputs": [],
      "source": [
        "# number of companies\n",
        "def num_companies(df):\n",
        "  print(set(df['Company']))\n",
        "  print(len(set(df['Company'])))\n",
        "\n",
        "\n",
        "num_companies(activity_edges_before)\n",
        "\n",
        "num_companies(activity_edges_after)"
      ]
    },
    {
      "cell_type": "code",
      "execution_count": null,
      "metadata": {
        "id": "1Mwu4loO0rRY"
      },
      "outputs": [],
      "source": [
        "# number of unique users per Company BEFORE bankruptcy announcement\n",
        "\n",
        "def plot_me(df):\n",
        "    x_axis = []\n",
        "    y_axis = []\n",
        "\n",
        "    for comp in set(df['Company']):\n",
        "      sub_df = df[df['Company'] == comp]\n",
        "      y_axis.append(len(set(sub_df['From'].tolist() + sub_df['To'].tolist())) )\n",
        "      x_axis.append(comp)\n",
        "\n",
        "    g = pd.DataFrame({\"Company\":x_axis, \"y\":y_axis})\n",
        "    return(g)"
      ]
    },
    {
      "cell_type": "code",
      "execution_count": null,
      "metadata": {
        "id": "928CGxpmhocA"
      },
      "outputs": [],
      "source": [
        "df_bar_before = plot_me(activity_edges_before)\n",
        "\n",
        "df_bar_after = plot_me(activity_edges_after)"
      ]
    },
    {
      "cell_type": "code",
      "execution_count": null,
      "metadata": {
        "id": "84n5SA8VxCk5"
      },
      "outputs": [],
      "source": [
        "df_bar_after['before'] = df_bar_before['y']\n",
        "df_all = df_bar_after\n",
        "df_all.columns =['Company','After','Before']\n",
        "\n",
        "del df_bar_after"
      ]
    },
    {
      "cell_type": "markdown",
      "metadata": {
        "id": "1E1pQwh51_2z"
      },
      "source": [
        "Plot using R"
      ]
    },
    {
      "cell_type": "code",
      "execution_count": null,
      "metadata": {
        "id": "YwZ6DJy-yPMr"
      },
      "outputs": [],
      "source": [
        "%load_ext rpy2.ipython\n",
        "\n",
        "# https://www.askpython.com/python/examples/use-r-and-python-in-the-same-notebook#:~:text=Using%20R%20along%20with%20Python%20in%20Google%20Colab&text=To%20use%20R%20and%20python%20simultaneously%20in%20the%20same%20notebook,activate%20the%20rpy2%20package%20first.&text=rpy2%20is%20a%20high%2Dlevel,NumPy%20and%20pandas%20data%20structures."
      ]
    },
    {
      "cell_type": "code",
      "execution_count": null,
      "metadata": {
        "id": "8cd5TPvMyht4"
      },
      "outputs": [],
      "source": [
        "%%R\n",
        "install.packages('reshape2',repos = \"http://cran.us.r-project.org\")"
      ]
    },
    {
      "cell_type": "code",
      "execution_count": null,
      "metadata": {
        "id": "VytGdq5DyU4T"
      },
      "outputs": [],
      "source": [
        "%%R\n",
        "library('ggplot2')\n",
        "library('reshape2')"
      ]
    },
    {
      "cell_type": "code",
      "execution_count": null,
      "metadata": {
        "id": "9lDVfTHCwGdB"
      },
      "outputs": [],
      "source": [
        "# move pyton object to R\n",
        "%R -i df_all"
      ]
    },
    {
      "cell_type": "code",
      "execution_count": null,
      "metadata": {
        "colab": {
          "base_uri": "https://localhost:8080/",
          "height": 497
        },
        "id": "c5Qi49hu0lwl",
        "outputId": "4a92f75b-5fe5-43d1-93fa-bc32bba1345d"
      },
      "outputs": [
        {
          "data": {
            "image/png": "[encoded data removed]"
          },
          "metadata": {},
          "output_type": "display_data"
        }
      ],
      "source": [
        "%%R\n",
        "\n",
        "df_all <- melt(df_all, id.vars='Company')\n",
        "\n",
        "ggplot(df_all, aes(x=Company, y=value, fill=variable)) +\n",
        "    geom_bar(stat='identity', position='dodge') +\n",
        "    theme(axis.text.x = element_text(angle = 90, vjust = 0.5, hjust=1))+\n",
        "    coord_flip()"
      ]
    },
    {
      "cell_type": "markdown",
      "metadata": {
        "id": "j82xlzJWXNiA"
      },
      "source": [
        "## Get followers ids of a user"
      ]
    },
    {
      "cell_type": "code",
      "execution_count": null,
      "metadata": {
        "id": "PqY5yA8i4OII"
      },
      "outputs": [],
      "source": [
        "# load data\n",
        "PTH ='/content/drive/MyDrive/Colab Notebooks/BIU_HEB/data/All_chapter11_2020'\n",
        "\n",
        "activity_edges_before = pd.read_csv(os.path.join(PTH,'activity_edges_before_All_chapter11_2020.csv'))\n",
        "\n",
        "activity_edges_after = pd.read_csv(os.path.join(PTH,'activity_edges_after_All_chapter11_2020.csv'))"
      ]
    },
    {
      "cell_type": "code",
      "execution_count": null,
      "metadata": {
        "id": "Yy0BEmgI5G0A"
      },
      "outputs": [],
      "source": [
        "all_users_activity_edges = list(set(\n",
        "  activity_edges_after['From'].tolist() + activity_edges_after['To'].tolist() +\n",
        "  activity_edges_before['From'].tolist() + activity_edges_before['To'].tolist()\n",
        "))"
      ]
    },
    {
      "cell_type": "code",
      "execution_count": null,
      "metadata": {
        "colab": {
          "background_save": true
        },
        "id": "4CX20TWt7Jg0"
      },
      "outputs": [],
      "source": [
        "\n",
        "follower_list = []\n",
        "\n",
        "for user in all_users_activity_edges:\n",
        "    print(user)\n",
        "    followers = []\n",
        "    try:\n",
        "        for page in tweepy.Cursor(api.get_follower_ids, user_id=user).pages():\n",
        "            followers.extend(page)\n",
        "            print(len(followers))\n",
        "            follower_list.append(followers)\n",
        "    except tweepy.errors.TweepyException:\n",
        "        print(\"error\")\n",
        "        continue\n",
        "    follower_list = pd.DataFrame(follower_list[0])\n",
        "    follower_list.to_csv(os.path.join('/content/drive/MyDrive/Colab Notebooks/BIU_HEB/data/All_chapter11_2020/followers',str(user)+'.csv'))"
      ]
    }
  ],
  "metadata": {
    "colab": {
      "collapsed_sections": [
        "-V9RRmumB0nC"
      ],
      "provenance": [],
      "include_colab_link": true
    },
    "kernelspec": {
      "display_name": "Python 3",
      "name": "python3"
    },
    "language_info": {
      "name": "python"
    }
  },
  "nbformat": 4,
  "nbformat_minor": 0
}