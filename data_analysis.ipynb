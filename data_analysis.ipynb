{
  "cells": [
    {
      "cell_type": "markdown",
      "metadata": {
        "id": "view-in-github",
        "colab_type": "text"
      },
      "source": [
        "<a href=\"https://colab.research.google.com/github/bartala/Bankruptcy/blob/main/data_analysis.ipynb\" target=\"_parent\"><img src=\"https://colab.research.google.com/assets/colab-badge.svg\" alt=\"Open In Colab\"/></a>"
      ]
    },
    {
      "cell_type": "code",
      "source": [
        "!pip uninstall rpy2 -y\n",
        "!pip install rpy2==3.0.0"
      ],
      "metadata": {
        "id": "3x2qTLB9RiBi"
      },
      "execution_count": null,
      "outputs": []
    },
    {
      "cell_type": "code",
      "execution_count": 1,
      "metadata": {
        "id": "rmSThJ7xXJ_w",
        "colab": {
          "base_uri": "https://localhost:8080/"
        },
        "outputId": "8dd76a54-415e-41b1-bac8-a856ba9c8b1d"
      },
      "outputs": [
        {
          "output_type": "stream",
          "name": "stderr",
          "text": [
            "/usr/local/lib/python3.9/dist-packages/rpy2/robjects/pandas2ri.py:15: FutureWarning: pandas.core.index is deprecated and will be removed in a future version. The public classes are available in the top-level namespace.\n",
            "  from pandas.core.index import Index as PandasIndex\n"
          ]
        }
      ],
      "source": [
        "%load_ext rpy2.ipython"
      ]
    },
    {
      "cell_type": "code",
      "source": [
        "from google.colab import drive\n",
        "drive.mount('/content/drive')"
      ],
      "metadata": {
        "colab": {
          "base_uri": "https://localhost:8080/"
        },
        "id": "RqOZlyIb3kme",
        "outputId": "175aca70-59c4-4b1a-bb57-0d6f5589c266"
      },
      "execution_count": 2,
      "outputs": [
        {
          "output_type": "stream",
          "name": "stdout",
          "text": [
            "Mounted at /content/drive\n"
          ]
        }
      ]
    },
    {
      "cell_type": "code",
      "source": [
        "%%R\n",
        "lib_loc <- \"/content/drive/MyDrive/Colab Notebooks/r-lib\""
      ],
      "metadata": {
        "id": "xxQ3F75eI6a7"
      },
      "execution_count": 3,
      "outputs": []
    },
    {
      "cell_type": "code",
      "execution_count": null,
      "metadata": {
        "id": "LTznazgAlv60"
      },
      "outputs": [],
      "source": [
        "%%R\n",
        "install.packages(\"data.table\", lib =lib_loc)\n",
        "install.packages(\"ggpubr\",lib =lib_loc)\n",
        "install.packages(\"DescTools\", lib =lib_loc)\n",
        "install.packages(\"NbClust\", lib =lib_loc)\n",
        "install.packages(\"factoextra\", lib =lib_loc)\n",
        "install.packages(\"gsubfn\", lib =lib_loc)\n",
        "install.packages(\"proto\", lib =lib_loc)\n",
        "install.packages(\"ggplot2\", lib =lib_loc)\n",
        "install.packages(\"RSQLite\", lib =lib_loc)\n",
        "install.packages(\"sqldf\", lib=lib_loc)\n",
        "install.packages(\"chron\",lib= lib_loc)\n",
        "install.packages(\"minpack.lm\",repos = \"http://cran.us.r-project.org\",lib=lib_loc)\n",
        "install.packages(\"AICcmodavg\",repos = \"http://cran.us.r-project.org\", lib=lib_loc)\n",
        "install.packages(\"gridExtra\",repos = \"http://cran.us.r-project.org\", lib=lib_loc)+\n",
        "install.packages(\"rsq\",repos = \"http://cran.us.r-project.org\", lib=lib_loc)\n",
        "install.packages(\"caret\",repos = \"http://cran.us.r-project.org\", lib=lib_loc) "
      ]
    },
    {
      "cell_type": "code",
      "source": [
        "%%R\n",
        "library(RSQLite, lib.loc = lib_loc)\n",
        "library(proto, lib.loc = lib_loc) \n",
        "library(gsubfn, lib.loc = lib_loc) \n",
        "library(readr, lib.loc = lib_loc)\n",
        "library(ggplot2, lib.loc = lib_loc)\n",
        "library(ggpubr, lib.loc = lib_loc)\n",
        "library(pROC, lib.loc = lib_loc)\n",
        "library(DescTools, lib.loc = lib_loc)\n",
        "library(NbClust, lib.loc = lib_loc)\n",
        "library(factoextra, lib.loc = lib_loc)\n",
        "library(sqldf, lib.loc = lib_loc)\n",
        "library(cowplot,lib.loc = lib_loc)\n",
        "library(AICcmodavg,lib.loc = lib_loc)\n",
        "library(minpack.lm,lib.loc = lib_loc)\n",
        "library(gridExtra,lib.loc = lib_loc)\n",
        "library(rsq,lib.loc = lib_loc)\n",
        "library(caret,lib.loc = lib_loc)\n",
        "library(broom)"
      ],
      "metadata": {
        "id": "ZETkQZh35OuA"
      },
      "execution_count": null,
      "outputs": []
    },
    {
      "cell_type": "code",
      "execution_count": 5,
      "metadata": {
        "id": "7dflQ4aTF2o-"
      },
      "outputs": [],
      "source": [
        "%%R\n",
        "\n",
        "# before covid data\n",
        "PTH1 = \"/content/drive/MyDrive/Colab Notebooks/BIU_HEB/data/\""
      ]
    },
    {
      "cell_type": "markdown",
      "source": [
        "### Load datasets of tweets posted before and after the announcment"
      ],
      "metadata": {
        "id": "BzDEXbQowqZF"
      }
    },
    {
      "cell_type": "code",
      "execution_count": 7,
      "metadata": {
        "colab": {
          "base_uri": "https://localhost:8080/"
        },
        "id": "uscGMn7rF45E",
        "outputId": "c4ffae00-e91a-4fb3-b26f-31b2d17dc0c8"
      },
      "outputs": [
        {
          "output_type": "stream",
          "name": "stderr",
          "text": [
            "WARNING:rpy2.rinterface_lib.callbacks:R[write to console]: Multiple files in zip: reading '2012_2022_bankruptcy.csv'\n",
            "\n"
          ]
        }
      ],
      "source": [
        "%%R\n",
        "data <- read_csv(paste0(PTH1,\"2012_2022_bankruptcy.csv.zip\"), show_col_types = FALSE)\n",
        "\n",
        "metadata <- read_csv(paste0(PTH1,\"Metadata_All_chapter11_new.csv\"), show_col_types = FALSE)"
      ]
    },
    {
      "cell_type": "code",
      "source": [
        "%%R \n",
        "\n",
        "companies <- unique(data[data$dataset %in% c(\"before_covid\", \"covid\"),]$company)\n",
        "                    \n",
        "companies_2 <- unique(data[data$dataset == 'all_2020_new',]$company)\n",
        "companies_2 <- companies_2[companies_2 %in% metadata$`Twitter Username`]\n",
        "\n",
        "companies <- union(companies,companies_2)\n",
        "\n",
        "rm(companies_2)"
      ],
      "metadata": {
        "id": "WPcMUuBrMriK"
      },
      "execution_count": 8,
      "outputs": []
    },
    {
      "cell_type": "code",
      "source": [
        "%%R\n",
        "data <- data[data$company %in% companies,]"
      ],
      "metadata": {
        "id": "Un2TuWIdTVv4"
      },
      "execution_count": 9,
      "outputs": []
    },
    {
      "cell_type": "markdown",
      "source": [
        "### Descriptive statistics and data cleaning"
      ],
      "metadata": {
        "id": "Jf7VbYzWw7Vp"
      }
    },
    {
      "cell_type": "code",
      "source": [
        "%%R\n",
        "\n",
        "# nuber of unique users in the posts\n",
        "paste0(\"unique users: \", length(unique(data$author_id)) )"
      ],
      "metadata": {
        "colab": {
          "base_uri": "https://localhost:8080/",
          "height": 34
        },
        "id": "JXyPg_pma3AA",
        "outputId": "836a1005-97c7-4996-f3ad-e1827ef30691"
      },
      "execution_count": 10,
      "outputs": [
        {
          "output_type": "display_data",
          "data": {
            "text/plain": [
              "[1] \"unique users: 132748\"\n"
            ]
          },
          "metadata": {}
        }
      ]
    },
    {
      "cell_type": "code",
      "source": [
        "%%R\n",
        "# total number of tweets\n",
        "print(\n",
        "    paste0(\"total number of tweets (before and after the announcement): \",\n",
        "           nrow(data)\n",
        "          )\n",
        "      )\n",
        "\n",
        "\n",
        "# number of companis\n",
        "print(paste0(\"number of companies: \",length(unique(data$company))) )\n",
        "\n",
        "\n",
        "# number of tweets per company\n",
        "table(data$company)"
      ],
      "metadata": {
        "colab": {
          "base_uri": "https://localhost:8080/",
          "height": 659
        },
        "id": "rvjY6dEFNGrM",
        "outputId": "83b8bac9-852b-4cc6-80eb-f6b542af08df"
      },
      "execution_count": 11,
      "outputs": [
        {
          "output_type": "display_data",
          "data": {
            "text/plain": [
              "[1] \"total number of tweets (before and after the announcement): 248936\"\n",
              "[1] \"number of companies: 83\"\n",
              "\n",
              "    A123Systems         Abengoa     aeropostale        archcoal  ArmstrongFloor \n",
              "            110             235            7599            1108              42 \n",
              "   AvadelPharma           Avaya    beautybrands            belk  BioRestorative \n",
              "             25            6920             109            1035               4 \n",
              " BrooksBrothers      Carestream century21stores  CharlotteRusse CharmingCharlie \n",
              "           2292              88             712             555              48 \n",
              "   ChuckECheese       cineworld         claires  ClovisOncology  cobaltpowergrp \n",
              "           6216           24309            6417              17              23 \n",
              "   CumulusMedia   DeanAndDeLuca    DendreonNews          DIESEL       ECOtality \n",
              "          34762              29              54            1378              33 \n",
              "    EFCoalition  ElizabethArden   EMAS_offshore  EnergyGulfport      Ferrellgas \n",
              "             11             122              17              13              85 \n",
              "         flyPAL       Forever21      francescas      ftdflowers     GNCLiveWell \n",
              "           2437            9848             273             655            1422 \n",
              "       GoldsGym       Golfsmith    guitarcenter           Hertz         hhgregg \n",
              "           2763             403            2496            7838            1751 \n",
              "          HMHCo         HMNYHQ1     iHeartMedia IndianaTollRoad IndonesiaGaruda \n",
              "            419               5            4961              88             259 \n",
              "  investvoyager        jcpenney           jcrew   KikoMilanoUSA           Kodak \n",
              "          61899            4335            3370             217            1555 \n",
              "     linnenergy       lootcrate   lordandtaylor    LuckinCoffee      LuckyBrand \n",
              "             87            5120             482               3             302 \n",
              "        MadCatz MarieCallenders    MattressFirm         Modells       Momentive \n",
              "           1267              52            1719             856              13 \n",
              "          MtGox     MusclePharm    neimanmarcus        NineWest   peabodyenergy \n",
              "           4698              74            3661             544            1705 \n",
              "     Perfumania           pier1       PyxusIntl       RealGoods RepublicAirways \n",
              "            784             499              42               2             245 \n",
              "         revlon        Rockport           rue21             SAS           Sears \n",
              "           2753             251            2956            4445           10831 \n",
              "      steinmart       sugarfina       SunEdison Suntech_Connect    TailorBrands \n",
              "            379             632            1319              21             190 \n",
              "       terravia    TrueReligion     verso_group \n",
              "             32            1465             145 \n"
            ]
          },
          "metadata": {}
        }
      ]
    },
    {
      "cell_type": "code",
      "source": [
        "# split data into before and after the announcement\n",
        "%%R \n",
        "\n",
        "\n",
        "before <- data[grepl( 'before', data$data, fixed = TRUE),]\n",
        "\n",
        "after <- data[grepl( 'after', data$data, fixed = TRUE),]\n",
        "\n",
        "\n",
        "x_after <- nrow(after)\n",
        "x_before <- nrow(before)\n",
        "\n",
        "# delete messages originated by the companies\n",
        "\n",
        "after <- after[!after$author_id %in% metadata$UserID,]\n",
        "\n",
        "before <- before[!before$author_id %in% metadata$UserID,]\n",
        "\n",
        "\n",
        "print( paste0(\"deleted tweets by companies after: \", x_after - nrow(after) ) )\n",
        "print( paste0(\"deleted tweets by companies before: \", x_before - nrow(before) ) )"
      ],
      "metadata": {
        "colab": {
          "base_uri": "https://localhost:8080/",
          "height": 52
        },
        "id": "4tMX_OukNtRx",
        "outputId": "8a2ae82d-8f58-4b00-e490-fa7aab2d3558"
      },
      "execution_count": 12,
      "outputs": [
        {
          "output_type": "display_data",
          "data": {
            "text/plain": [
              "[1] \"deleted tweets by companies after: 238\"\n",
              "[1] \"deleted tweets by companies before: 218\"\n"
            ]
          },
          "metadata": {}
        }
      ]
    },
    {
      "cell_type": "markdown",
      "source": [
        "### Temporal analysis: number of mentions per day and company"
      ],
      "metadata": {
        "id": "q53sBIjV1kur"
      }
    },
    {
      "cell_type": "code",
      "execution_count": 13,
      "metadata": {
        "id": "z9T1Xx3pGTU4"
      },
      "outputs": [],
      "source": [
        "%%R\n",
        "\n",
        "before$created_at<-as.character(before$created_at)\n",
        "after$created_at<-as.character(after$created_at)\n",
        "\n",
        "# keep only day date (no time)\n",
        "before$date <- substr(before$created_at,0,10)\n",
        "after$date <- substr(after$created_at,0,10)\n",
        "\n",
        "temp_before <- sqldf(\"select company, date, count(1) as freq from before group by company, date\")\n",
        "\n",
        "temp_before$when<-'before'\n",
        "\n",
        "temp_after <-  sqldf(\"select company, date, count(1) as freq from after group by company, date\")\n",
        "\n",
        "temp_after$when<-'after'\n",
        "\n",
        "tmp <- rbind(temp_before, temp_after)\n",
        "\n",
        "tmp <- merge(tmp,metadata, by.x='company', by.y='Twitter Username')\n",
        "\n",
        "tmp$number <- as.Date(tmp$date) - as.Date(tmp$`Date of Bankruptcy`,format = \"%B %d, %Y\") # day diff from bankruptcy (in unix timestamp)\n",
        "\n",
        "tmp <- tmp[(tmp$number) < 31 & (tmp$number) > (-31),] # remove tweets more than 30 pre/post announcement\n",
        "\n",
        "tmp <- tmp[ tmp$company %in% intersect(tmp[tmp$when == 'before',]$company, tmp[tmp$when == 'after',]$company),] # keep only companies that appear in both the `before` and `after` datasets\n",
        "\n",
        "# save temporary file for future analyses\n",
        "write.csv(tmp,file='data0.csv', row.names = FALSE)"
      ]
    },
    {
      "cell_type": "code",
      "source": [
        "# analyzed companies after data cleaning\n",
        "%%R \n",
        "unique(tmp$company)"
      ],
      "metadata": {
        "colab": {
          "base_uri": "https://localhost:8080/",
          "height": 382
        },
        "id": "cp_83BqWOlBX",
        "outputId": "1375247b-d9e5-47cd-e275-4e5b778aaef1"
      },
      "execution_count": 14,
      "outputs": [
        {
          "output_type": "display_data",
          "data": {
            "text/plain": [
              " [1] \"A123Systems\"     \"Abengoa\"         \"aeropostale\"     \"archcoal\"       \n",
              " [5] \"ArmstrongFloor\"  \"AvadelPharma\"    \"Avaya\"           \"beautybrands\"   \n",
              " [9] \"belk\"            \"BioRestorative\"  \"BrooksBrothers\"  \"Carestream\"     \n",
              "[13] \"century21stores\" \"CharlotteRusse\"  \"ChuckECheese\"    \"cineworld\"      \n",
              "[17] \"claires\"         \"ClovisOncology\"  \"cobaltpowergrp\"  \"CumulusMedia\"   \n",
              "[21] \"DeanAndDeLuca\"   \"DendreonNews\"    \"DIESEL\"          \"ECOtality\"      \n",
              "[25] \"EFCoalition\"     \"ElizabethArden\"  \"EMAS_offshore\"   \"EnergyGulfport\" \n",
              "[29] \"Ferrellgas\"      \"flyPAL\"          \"Forever21\"       \"francescas\"     \n",
              "[33] \"ftdflowers\"      \"GNCLiveWell\"     \"GoldsGym\"        \"Golfsmith\"      \n",
              "[37] \"guitarcenter\"    \"Hertz\"           \"hhgregg\"         \"HMHCo\"          \n",
              "[41] \"HMNYHQ1\"         \"iHeartMedia\"     \"IndianaTollRoad\" \"IndonesiaGaruda\"\n",
              "[45] \"investvoyager\"   \"jcpenney\"        \"jcrew\"           \"KikoMilanoUSA\"  \n",
              "[49] \"Kodak\"           \"linnenergy\"      \"lootcrate\"       \"lordandtaylor\"  \n",
              "[53] \"LuckinCoffee\"    \"LuckyBrand\"      \"MadCatz\"         \"MarieCallenders\"\n",
              "[57] \"MattressFirm\"    \"Modells\"         \"Momentive\"       \"MtGox\"          \n",
              "[61] \"MusclePharm\"     \"neimanmarcus\"    \"NineWest\"        \"peabodyenergy\"  \n",
              "[65] \"Perfumania\"      \"pier1\"           \"PyxusIntl\"       \"RealGoods\"      \n",
              "[69] \"RepublicAirways\" \"revlon\"          \"Rockport\"        \"rue21\"          \n",
              "[73] \"Sears\"           \"steinmart\"       \"sugarfina\"       \"SunEdison\"      \n",
              "[77] \"Suntech_Connect\" \"TailorBrands\"    \"terravia\"        \"TrueReligion\"   \n",
              "[81] \"verso_group\"    \n"
            ]
          },
          "metadata": {}
        }
      ]
    },
    {
      "cell_type": "code",
      "source": [
        "# calc avg. mention time before and after the bankruptcy announcment\n",
        "\n",
        "%%R\n",
        "\n",
        "df1 <- sqldf(\"select company, avg(freq) as avg_freq from tmp where `when`='after' group by company\") # after\n",
        "df1$When = \"After\"\n",
        "\n",
        "df2 <- sqldf(\"select company, avg(freq) as avg_freq from tmp where `when`='before' group by company\") # before\n",
        "df2$When = \"Before\"\n",
        "\n",
        "df_1 <- rbind(df1,df2)"
      ],
      "metadata": {
        "id": "m2F7bbKDCRfs"
      },
      "execution_count": 15,
      "outputs": []
    },
    {
      "cell_type": "markdown",
      "source": [
        "#### Companies with more tweets after the announcement (on average) than before the announcment \n",
        "\n",
        "(i.e., they were not forgotten by the public)\n"
      ],
      "metadata": {
        "id": "rTbNe7f4YN64"
      }
    },
    {
      "cell_type": "code",
      "source": [
        "%%R \n",
        "df_2 <- data.frame(\n",
        "              Company = df1$company, \n",
        "              After = df1$avg_freq, \n",
        "              Before = df2$avg_freq\n",
        "              )"
      ],
      "metadata": {
        "id": "-9tQyhXvSzx5"
      },
      "execution_count": 16,
      "outputs": []
    },
    {
      "cell_type": "code",
      "source": [
        "# unforgotten companies\n",
        "%%R\n",
        "\n",
        "unforgotten_comp <- df_1[df_1$company %in% (df_2[df_2$After >= df_2$Before,'Company']),]\n",
        "print(unique(unforgotten_comp$company))\n",
        "\n",
        "ggplot(unforgotten_comp, aes(company, avg_freq, fill=When)) +\n",
        "  geom_bar(stat = \"identity\", position = 'dodge') +\n",
        "  theme_bw() +\n",
        "  ggtitle(\"Unforgotten Companies\") +\n",
        "  ylab(\"Average company mention 30 days before and after the announcement\") + xlab(\"Company's Twitter Handle\")+\n",
        "  coord_flip()"
      ],
      "metadata": {
        "colab": {
          "base_uri": "https://localhost:8080/",
          "height": 723
        },
        "id": "QD9ZC-wgO4I7",
        "outputId": "16fe754b-38f6-47d4-9220-c61748db28e9"
      },
      "execution_count": 17,
      "outputs": [
        {
          "output_type": "display_data",
          "data": {
            "text/plain": [
              " [1] \"A123Systems\"     \"Abengoa\"         \"AvadelPharma\"    \"Avaya\"          \n",
              " [5] \"BioRestorative\"  \"BrooksBrothers\"  \"CharlotteRusse\"  \"ChuckECheese\"   \n",
              " [9] \"ClovisOncology\"  \"DendreonNews\"    \"ECOtality\"       \"EMAS_offshore\"  \n",
              "[13] \"ElizabethArden\"  \"Ferrellgas\"      \"Forever21\"       \"GNCLiveWell\"    \n",
              "[17] \"GoldsGym\"        \"Golfsmith\"       \"HMHCo\"           \"HMNYHQ1\"        \n",
              "[21] \"Hertz\"           \"IndonesiaGaruda\" \"Kodak\"           \"LuckinCoffee\"   \n",
              "[25] \"LuckyBrand\"      \"MadCatz\"         \"MarieCallenders\" \"MattressFirm\"   \n",
              "[29] \"Modells\"         \"MusclePharm\"     \"NineWest\"        \"RealGoods\"      \n",
              "[33] \"RepublicAirways\" \"Sears\"           \"TrueReligion\"    \"archcoal\"       \n",
              "[37] \"beautybrands\"    \"century21stores\" \"claires\"         \"francescas\"     \n",
              "[41] \"jcpenney\"        \"jcrew\"           \"linnenergy\"      \"lordandtaylor\"  \n",
              "[45] \"neimanmarcus\"    \"peabodyenergy\"   \"pier1\"           \"revlon\"         \n",
              "[49] \"steinmart\"       \"terravia\"       \n"
            ]
          },
          "metadata": {}
        },
        {
          "output_type": "display_data",
          "data": {
            "image/png": "[encoded data removed]"
          },
          "metadata": {}
        }
      ]
    },
    {
      "cell_type": "code",
      "source": [
        "# forgotten companies\n",
        "\n",
        "%%R\n",
        "\n",
        "forgotten_comp <- df_1[df_1$company %in% (df_2[df_2$After < df_2$Before,'Company']),]\n",
        "print(unique(forgotten_comp$company))\n",
        "\n",
        "\n",
        "ggplot(forgotten_comp, aes(company, avg_freq, fill=When)) +\n",
        "  geom_bar(stat = \"identity\", position = 'dodge') +\n",
        "  theme_bw() +\n",
        "  ggtitle(\"Forgotten Companies\") +\n",
        "  ylab(\"Average company mention 30 days before and after the announcement\") + xlab(\"Company's Twitter Handle\")+\n",
        "  coord_flip()"
      ],
      "metadata": {
        "colab": {
          "base_uri": "https://localhost:8080/",
          "height": 636
        },
        "id": "5oc1mX8xV9jO",
        "outputId": "7e79d88e-aa1e-4d99-ea6e-cb9d109c79e5"
      },
      "execution_count": 18,
      "outputs": [
        {
          "output_type": "display_data",
          "data": {
            "text/plain": [
              " [1] \"ArmstrongFloor\"  \"Carestream\"      \"CumulusMedia\"    \"DIESEL\"         \n",
              " [5] \"DeanAndDeLuca\"   \"EFCoalition\"     \"EnergyGulfport\"  \"IndianaTollRoad\"\n",
              " [9] \"KikoMilanoUSA\"   \"Momentive\"       \"MtGox\"           \"Perfumania\"     \n",
              "[13] \"PyxusIntl\"       \"Rockport\"        \"SunEdison\"       \"Suntech_Connect\"\n",
              "[17] \"TailorBrands\"    \"aeropostale\"     \"belk\"            \"cineworld\"      \n",
              "[21] \"cobaltpowergrp\"  \"flyPAL\"          \"ftdflowers\"      \"guitarcenter\"   \n",
              "[25] \"hhgregg\"         \"iHeartMedia\"     \"investvoyager\"   \"lootcrate\"      \n",
              "[29] \"rue21\"           \"sugarfina\"       \"verso_group\"    \n"
            ]
          },
          "metadata": {}
        },
        {
          "output_type": "display_data",
          "data": {
            "image/png": "[encoded data removed]"
          },
          "metadata": {}
        }
      ]
    },
    {
      "cell_type": "markdown",
      "source": [
        "### Model comparison: **Unforgotten**"
      ],
      "metadata": {
        "id": "FIb4aovwnWAx"
      }
    },
    {
      "cell_type": "code",
      "source": [
        "# Unforgotten companies\n",
        "\n",
        "%%R\n",
        "\n",
        "Unforgotten <- tmp[ (tmp$company) %in% (df_2[df_2$After >= df_2$Before,'Company']) & tmp$number >=0, ] # number:= number of days since bankruptcy announcement\n",
        "\n",
        "Unforgotten <- sqldf(\"select avg(freq) as avg, number from Unforgotten group by number\",method = \"name__class\")\n",
        "\n",
        "Unforgotten_companies <- df_2[df_2$After >= df_2$Before,'Company']\n",
        "\n",
        "# number of companies\n",
        "print( Unforgotten_companies )"
      ],
      "metadata": {
        "colab": {
          "base_uri": "https://localhost:8080/",
          "height": 243
        },
        "id": "Plx-awbhqn9R",
        "outputId": "30d3abda-f362-41b8-8f64-57089e6d5971"
      },
      "execution_count": 19,
      "outputs": [
        {
          "output_type": "display_data",
          "data": {
            "text/plain": [
              " [1] \"A123Systems\"     \"Abengoa\"         \"AvadelPharma\"    \"Avaya\"          \n",
              " [5] \"BioRestorative\"  \"BrooksBrothers\"  \"CharlotteRusse\"  \"ChuckECheese\"   \n",
              " [9] \"ClovisOncology\"  \"DendreonNews\"    \"ECOtality\"       \"EMAS_offshore\"  \n",
              "[13] \"ElizabethArden\"  \"Ferrellgas\"      \"Forever21\"       \"GNCLiveWell\"    \n",
              "[17] \"GoldsGym\"        \"Golfsmith\"       \"HMHCo\"           \"HMNYHQ1\"        \n",
              "[21] \"Hertz\"           \"IndonesiaGaruda\" \"Kodak\"           \"LuckinCoffee\"   \n",
              "[25] \"LuckyBrand\"      \"MadCatz\"         \"MarieCallenders\" \"MattressFirm\"   \n",
              "[29] \"Modells\"         \"MusclePharm\"     \"NineWest\"        \"RealGoods\"      \n",
              "[33] \"RepublicAirways\" \"Sears\"           \"TrueReligion\"    \"archcoal\"       \n",
              "[37] \"beautybrands\"    \"century21stores\" \"claires\"         \"francescas\"     \n",
              "[41] \"jcpenney\"        \"jcrew\"           \"linnenergy\"      \"lordandtaylor\"  \n",
              "[45] \"neimanmarcus\"    \"peabodyenergy\"   \"pier1\"           \"revlon\"         \n",
              "[49] \"steinmart\"       \"terravia\"       \n"
            ]
          },
          "metadata": {}
        }
      ]
    },
    {
      "cell_type": "code",
      "source": [
        "# models\n",
        "%%R\n",
        "\n",
        "Unforgotten$x = Unforgotten$number\n",
        "Unforgotten$y = Unforgotten$avg\n",
        "\n",
        "# Exponential\n",
        "expmodel_uf <- lm(y~exp(x), data = Unforgotten)\n",
        "print(summary(expmodel_uf))\n",
        "\n",
        "# Log\n",
        "logmodel_uf <- lm(y~log(x+0.01), data = Unforgotten)\n",
        "print(summary(logmodel_uf))\n",
        "\n",
        "# Hyperbolic\n",
        "hyper_fit_uf <- nlsLM(y ~ a/(1 + b * x), data = Unforgotten, start = list(a = 1, b = 1))\n",
        "print(summary(hyper_fit_uf))\n",
        "\n",
        "# Biexponential\n",
        "biexp_fit_uf <- nlsLM(y ~ a1*exp(-b1*x) + a2*exp(-b2*x), data = Unforgotten, start = c(a1 = 5, b1 = 2, a2 = 3, b2 = 0.5))\n",
        "print(summary(biexp_fit_uf))\n",
        "\n",
        "# Fit a power law curve using nls\n",
        "power_fit_uf <- nls(y ~ a * (x+0.0001)^(-b), data = Unforgotten, start = list(a = 1, b = 1))\n",
        "summary(power_fit_uf)"
      ],
      "metadata": {
        "colab": {
          "base_uri": "https://localhost:8080/",
          "height": 1000
        },
        "id": "r0d66gjf1AFb",
        "outputId": "2983de72-3f99-4c3a-9366-a5e9e5b227d9"
      },
      "execution_count": 20,
      "outputs": [
        {
          "output_type": "display_data",
          "data": {
            "text/plain": [
              "\n",
              "Call:\n",
              "lm(formula = y ~ exp(x), data = Unforgotten)\n",
              "\n",
              "Residuals:\n",
              "    Min      1Q  Median      3Q     Max \n",
              "-30.649 -22.445 -13.304   2.087 172.756 \n",
              "\n",
              "Coefficients:\n",
              "              Estimate Std. Error t value Pr(>|t|)    \n",
              "(Intercept)  5.314e+01  8.783e+00   6.050 1.39e-06 ***\n",
              "exp(x)      -1.259e-12  4.255e-12  -0.296     0.77    \n",
              "---\n",
              "Signif. codes:  0 ‘***’ 0.001 ‘**’ 0.01 ‘*’ 0.05 ‘.’ 0.1 ‘ ’ 1\n",
              "\n",
              "Residual standard error: 47.16 on 29 degrees of freedom\n",
              "Multiple R-squared:  0.003008,\tAdjusted R-squared:  -0.03137 \n",
              "F-statistic: 0.08749 on 1 and 29 DF,  p-value: 0.7695\n",
              "\n",
              "\n",
              "Call:\n",
              "lm(formula = y ~ log(x + 0.01), data = Unforgotten)\n",
              "\n",
              "Residuals:\n",
              "    Min      1Q  Median      3Q     Max \n",
              "-30.450 -17.058  -1.963   8.728  97.778 \n",
              "\n",
              "Coefficients:\n",
              "              Estimate Std. Error t value Pr(>|t|)    \n",
              "(Intercept)    110.212      8.382  13.148 9.53e-14 ***\n",
              "log(x + 0.01)  -25.546      3.090  -8.267 4.10e-09 ***\n",
              "---\n",
              "Signif. codes:  0 ‘***’ 0.001 ‘**’ 0.01 ‘*’ 0.05 ‘.’ 0.1 ‘ ’ 1\n",
              "\n",
              "Residual standard error: 25.78 on 29 degrees of freedom\n",
              "Multiple R-squared:  0.7021,\tAdjusted R-squared:  0.6918 \n",
              "F-statistic: 68.34 on 1 and 29 DF,  p-value: 4.097e-09\n",
              "\n",
              "\n",
              "Formula: y ~ a/(1 + b * x)\n",
              "\n",
              "Parameters:\n",
              "    Estimate Std. Error t value Pr(>|t|)    \n",
              "a  2.259e+02  5.842e+01   3.867 0.000573 ***\n",
              "b -4.243e+07  3.667e+14   0.000 1.000000    \n",
              "---\n",
              "Signif. codes:  0 ‘***’ 0.001 ‘**’ 0.01 ‘*’ 0.05 ‘.’ 0.1 ‘ ’ 1\n",
              "\n",
              "Residual standard error: 58.42 on 29 degrees of freedom\n",
              "\n",
              "Number of iterations to convergence: 36 \n",
              "Achieved convergence tolerance: 1.49e-08\n",
              "\n",
              "\n",
              "Formula: y ~ a1 * exp(-b1 * x) + a2 * exp(-b2 * x)\n",
              "\n",
              "Parameters:\n",
              "    Estimate Std. Error t value Pr(>|t|)    \n",
              "a1 216.43915   16.09337  13.449 1.75e-13 ***\n",
              "b1   0.46211    0.07389   6.254 1.09e-06 ***\n",
              "a2  23.53964    7.81131   3.014  0.00556 ** \n",
              "b2  -0.02236    0.01501  -1.490  0.14779    \n",
              "---\n",
              "Signif. codes:  0 ‘***’ 0.001 ‘**’ 0.01 ‘*’ 0.05 ‘.’ 0.1 ‘ ’ 1\n",
              "\n",
              "Residual standard error: 16.48 on 27 degrees of freedom\n",
              "\n",
              "Number of iterations to convergence: 14 \n",
              "Achieved convergence tolerance: 1.49e-08\n",
              "\n",
              "\n",
              "Formula: y ~ a * (x + 1e-04)^(-b)\n",
              "\n",
              "Parameters:\n",
              "  Estimate Std. Error t value Pr(>|t|)    \n",
              "a 66.14404    6.36843  10.386 2.77e-11 ***\n",
              "b  0.13782    0.01496   9.211 4.12e-10 ***\n",
              "---\n",
              "Signif. codes:  0 ‘***’ 0.001 ‘**’ 0.01 ‘*’ 0.05 ‘.’ 0.1 ‘ ’ 1\n",
              "\n",
              "Residual standard error: 30.24 on 29 degrees of freedom\n",
              "\n",
              "Number of iterations to convergence: 9 \n",
              "Achieved convergence tolerance: 3.677e-06\n",
              "\n"
            ]
          },
          "metadata": {}
        }
      ]
    },
    {
      "cell_type": "code",
      "source": [
        "%%R \n",
        "\n",
        "gof <- function(model){\n",
        "    \n",
        "    return( \n",
        "              glance(model) %>% \n",
        "                  dplyr::select(adj.r.squared, sigma, AIC, BIC, p.value)\n",
        "    )\n",
        "\n",
        "}\n",
        "\n",
        "\n",
        "print(paste0(\"AIC exp: \", gof(expmodel_uf)$AIC))\n",
        "print(paste0(\"AIC log: \",gof(logmodel_uf)$AIC))\n",
        "print(paste0(\"AIC hypr: \",AIC(hyper_fit_uf)))\n",
        "print(paste0(\"AIC biex: \",AIC(biexp_fit_uf)))\n",
        "print(paste0(\"AIC power: \",AIC(power_fit_uf)))"
      ],
      "metadata": {
        "colab": {
          "base_uri": "https://localhost:8080/",
          "height": 104
        },
        "id": "sKfbH211gugn",
        "outputId": "74d1e306-4ee2-4bfb-d1ae-cf30569e1851"
      },
      "execution_count": 21,
      "outputs": [
        {
          "output_type": "display_data",
          "data": {
            "text/plain": [
              "[1] \"AIC exp: 330.831344149559\"\n",
              "[1] \"AIC log: 293.385717126216\"\n",
              "[1] \"AIC hypr: 344.096713867418\"\n",
              "[1] \"AIC biex: 267.41810172333\"\n",
              "[1] \"AIC power: 303.281272923105\"\n"
            ]
          },
          "metadata": {}
        }
      ]
    },
    {
      "cell_type": "code",
      "source": [
        "# clac R^2 for non-linear models\n",
        "%%R\n",
        "r_sqared <- function(model){\n",
        "    \n",
        "                    y <- Unforgotten$y\n",
        "                    # Calculate R-squared\n",
        "                    y_hat <- predict(model) # predicted values\n",
        "                    rss <- sum(resid(model)^2) # residual sum of squares\n",
        "                    tss <- sum((y - mean(y))^2) # total sum of squares\n",
        "                    r_squared <- 1 - rss/tss # R-squared\n",
        "                    return(r_squared)\n",
        "\n",
        "}\n",
        "\n",
        "print(paste0(\"AIC exp: \",   round(r_sqared(expmodel_uf),2)))\n",
        "print(paste0(\"AIC log: \",   round(r_sqared(logmodel_uf),2)))\n",
        "print(paste0(\"AIC hypr: \",  round(r_sqared(hyper_fit_uf),2)))\n",
        "print(paste0(\"AIC biex: \",  round(r_sqared(biexp_fit_uf),2)))\n",
        "print(paste0(\"AIC power: \", round(r_sqared(power_fit_uf),2)))"
      ],
      "metadata": {
        "colab": {
          "base_uri": "https://localhost:8080/",
          "height": 104
        },
        "id": "Ge5zN--VwR4N",
        "outputId": "6b82a722-b0b6-4e15-afda-57366367f2cc"
      },
      "execution_count": 22,
      "outputs": [
        {
          "output_type": "display_data",
          "data": {
            "text/plain": [
              "[1] \"AIC exp: 0\"\n",
              "[1] \"AIC log: 0.7\"\n",
              "[1] \"AIC hypr: -0.53\"\n",
              "[1] \"AIC biex: 0.89\"\n",
              "[1] \"AIC power: 0.59\"\n"
            ]
          },
          "metadata": {}
        }
      ]
    },
    {
      "cell_type": "code",
      "source": [
        "%%R\n",
        "\n",
        "ggplot(Unforgotten, aes(x=number, y=avg)) + \n",
        "  geom_point(shape = 21, colour = \"black\", fill = \"black\", size = 2, stroke = 1) +\n",
        "  #scale_x_continuous(trans = \"log10\", limits = c(1, 30)) +\n",
        "  scale_y_continuous(trans = \"log10\", limits = c(10, 400)) +\n",
        "  #coord_cartesian(ylim = c(0,500)) +\n",
        "  geom_smooth(method=\"lm\", aes(color=\"Exponential\"), formula= (y ~ exp(x)), se=FALSE, linetype = 1) +\n",
        "  geom_smooth(method = \"glm\", aes(color=\"Log\"), formula = y~x, se=FALSE, method.args = list(family = gaussian(link = 'log')),linetype = 1) +\n",
        "  geom_smooth(method = \"nls\", aes(color = \"Hyperbolic\"), formula = y ~ a/(1 + b * x), start = list(a = 1, b = 1), se = FALSE, linetype = 1) +\n",
        "  geom_smooth(method = \"nls\", aes(color = \"Power-law\"), formula = y ~ a * (x+0.0000001)^(-b), se = FALSE, method.args = list(start = list(a = 1, b = 1))) +\n",
        "  geom_smooth(method = \"nls\", aes(color = \"Biexponential\"), formula = y ~ a1*exp(-b1*x) + a2*exp(-b2*x), se = FALSE, method.args = list(start = c(a1 = 5, b1 = 2, a2 = 3, b2 = 0.5))) +\n",
        "  ggtitle(\"Unforgotten Companies (log-log scale)\") +\n",
        "    ylab(\"Average company mention\") + xlab(\"Days since the announcement\")+\n",
        "  annotate(\"text\", x=3, y=255,  label= paste0(\"AIC Biexponential: \",round(AIC(biexp_fit_uf),2),(\"; R^2 = \") ,round(r_sqared(biexp_fit_uf),2)),hjust = 0)+\n",
        "  annotate(\"text\", x=3, y=215, label= paste0(\"AIC Exponential: \", round(gof(expmodel_uf)$AIC,2), \"; R^2 = \" ,round(r_sqared(expmodel_uf),2)),hjust = 0) +\n",
        "  annotate(\"text\", x=3, y=182, label= paste0(\"AIC Hyperbolic: \",round(AIC(hyper_fit_uf),2), \";R^2 = \" ,round(r_sqared(hyper_fit_uf),2)),hjust = 0)+\n",
        "  annotate(\"text\", x=3, y=155, label= paste0(\"AIC Log: \",round(gof(logmodel_uf)$AIC,2),\"; R^2 = \" ,round(r_sqared(logmodel_uf),2)),hjust = 0)+\n",
        "  annotate(\"text\", x=3, y=130, label= paste0(\"AIC Power-law: \",round(AIC(power_fit_uf),2),\"; R^2 = \" ,round(r_sqared(power_fit_uf),2)),hjust = 0)+\n",
        "  theme_bw()"
      ],
      "metadata": {
        "colab": {
          "base_uri": "https://localhost:8080/",
          "height": 497
        },
        "id": "2GK36wFYw3PY",
        "outputId": "da195d6c-77a7-4cd7-b3de-0e853ac6d2d7"
      },
      "execution_count": 23,
      "outputs": [
        {
          "output_type": "display_data",
          "data": {
            "image/png": "[encoded data removed]"
          },
          "metadata": {}
        }
      ]
    },
    {
      "cell_type": "markdown",
      "source": [
        "### Model comparison: **Forgotten** companies"
      ],
      "metadata": {
        "id": "u83VDFoF5ZiR"
      }
    },
    {
      "cell_type": "code",
      "source": [
        "# Forgotten companies\n",
        "\n",
        "%%R\n",
        "\n",
        "forgotten <- tmp[ (tmp$company) %in% (df_2[df_2$After < df_2$Before,'Company']) & tmp$number >=0, ] # number:= number of days since bankruptcy announcement\n",
        "\n",
        "forgotten <- sqldf(\"select avg(freq) as avg, number from forgotten group by number\",method = \"name__class\")\n",
        "\n",
        "forgotten_companies <- df_2[df_2$After < df_2$Before,'Company']\n",
        "# number of companies\n",
        "print( forgotten_companies )"
      ],
      "metadata": {
        "colab": {
          "base_uri": "https://localhost:8080/",
          "height": 156
        },
        "id": "oalID39Y5bZf",
        "outputId": "9849c983-6306-4e33-ea72-ae799a1c62d6"
      },
      "execution_count": 24,
      "outputs": [
        {
          "output_type": "display_data",
          "data": {
            "text/plain": [
              " [1] \"ArmstrongFloor\"  \"Carestream\"      \"CumulusMedia\"    \"DIESEL\"         \n",
              " [5] \"DeanAndDeLuca\"   \"EFCoalition\"     \"EnergyGulfport\"  \"IndianaTollRoad\"\n",
              " [9] \"KikoMilanoUSA\"   \"Momentive\"       \"MtGox\"           \"Perfumania\"     \n",
              "[13] \"PyxusIntl\"       \"Rockport\"        \"SunEdison\"       \"Suntech_Connect\"\n",
              "[17] \"TailorBrands\"    \"aeropostale\"     \"belk\"            \"cineworld\"      \n",
              "[21] \"cobaltpowergrp\"  \"flyPAL\"          \"ftdflowers\"      \"guitarcenter\"   \n",
              "[25] \"hhgregg\"         \"iHeartMedia\"     \"investvoyager\"   \"lootcrate\"      \n",
              "[29] \"rue21\"           \"sugarfina\"       \"verso_group\"    \n"
            ]
          },
          "metadata": {}
        }
      ]
    },
    {
      "cell_type": "code",
      "source": [
        "# models\n",
        "%%R\n",
        "\n",
        "forgotten$x = forgotten$number\n",
        "forgotten$y = forgotten$avg\n",
        "\n",
        "# Exponential\n",
        "expmodel_f <- lm(y~exp(x), data = forgotten)\n",
        "print(summary(expmodel_f))\n",
        "\n",
        "# Log\n",
        "logmodel_f <- lm(y~log(x+0.01), data = forgotten)\n",
        "print(summary(logmodel_f))\n",
        "\n",
        "# Hyperbolic\n",
        "hyper_fit_f <- nlsLM(y ~ a/(1 + b * x), data = forgotten, start = list(a = 1, b = 1))\n",
        "print(summary(hyper_fit_f))\n",
        "\n",
        "# Biexponential\n",
        "biexp_fit_f <- nlsLM(y ~ a1*exp(-b1*x) + a2*exp(-b2*x), data = forgotten, start = c(a1 = 5, b1 = 2, a2 = 3, b2 = 0.5))\n",
        "print(summary(biexp_fit_f))\n",
        "\n",
        "# Fit a power law curve using nls\n",
        "power_fit_f <- nls(y ~ a * (x+0.0001)^(-b), data = forgotten, start = list(a = 1, b = 1))\n",
        "summary(power_fit_f)"
      ],
      "metadata": {
        "colab": {
          "base_uri": "https://localhost:8080/",
          "height": 1000
        },
        "id": "BoihbY3rhrFO",
        "outputId": "2f097fda-c770-49ff-da0f-35dc1c0e4632"
      },
      "execution_count": 27,
      "outputs": [
        {
          "output_type": "display_data",
          "data": {
            "text/plain": [
              "\n",
              "Call:\n",
              "lm(formula = y ~ exp(x), data = forgotten)\n",
              "\n",
              "Residuals:\n",
              "   Min     1Q Median     3Q    Max \n",
              "-31.96 -22.86  -7.89  13.81 151.58 \n",
              "\n",
              "Coefficients:\n",
              "              Estimate Std. Error t value Pr(>|t|)    \n",
              "(Intercept)  6.542e+01  6.850e+00   9.551 1.85e-10 ***\n",
              "exp(x)      -4.806e-12  3.319e-12  -1.448    0.158    \n",
              "---\n",
              "Signif. codes:  0 ‘***’ 0.001 ‘**’ 0.01 ‘*’ 0.05 ‘.’ 0.1 ‘ ’ 1\n",
              "\n",
              "Residual standard error: 36.78 on 29 degrees of freedom\n",
              "Multiple R-squared:  0.06743,\tAdjusted R-squared:  0.03527 \n",
              "F-statistic: 2.097 on 1 and 29 DF,  p-value: 0.1583\n",
              "\n",
              "\n",
              "Call:\n",
              "lm(formula = y ~ log(x + 0.01), data = forgotten)\n",
              "\n",
              "Residuals:\n",
              "    Min      1Q  Median      3Q     Max \n",
              "-26.258  -8.873   0.340   7.399  33.002 \n",
              "\n",
              "Coefficients:\n",
              "              Estimate Std. Error t value Pr(>|t|)    \n",
              "(Intercept)    113.342      5.157   21.98  < 2e-16 ***\n",
              "log(x + 0.01)  -22.352      1.901  -11.76 1.49e-12 ***\n",
              "---\n",
              "Signif. codes:  0 ‘***’ 0.001 ‘**’ 0.01 ‘*’ 0.05 ‘.’ 0.1 ‘ ’ 1\n",
              "\n",
              "Residual standard error: 15.86 on 29 degrees of freedom\n",
              "Multiple R-squared:  0.8266,\tAdjusted R-squared:  0.8206 \n",
              "F-statistic: 138.2 on 1 and 29 DF,  p-value: 1.49e-12\n",
              "\n",
              "\n",
              "Formula: y ~ a/(1 + b * x)\n",
              "\n",
              "Parameters:\n",
              "    Estimate Std. Error t value Pr(>|t|)   \n",
              "a  2.170e+02  6.359e+01   3.413  0.00192 **\n",
              "b -3.796e+07  3.326e+14   0.000  1.00000   \n",
              "---\n",
              "Signif. codes:  0 ‘***’ 0.001 ‘**’ 0.01 ‘*’ 0.05 ‘.’ 0.1 ‘ ’ 1\n",
              "\n",
              "Residual standard error: 63.59 on 29 degrees of freedom\n",
              "\n",
              "Number of iterations to convergence: 36 \n",
              "Achieved convergence tolerance: 1.49e-08\n",
              "\n",
              "\n",
              "Formula: y ~ a1 * exp(-b1 * x) + a2 * exp(-b2 * x)\n",
              "\n",
              "Parameters:\n",
              "    Estimate Std. Error t value Pr(>|t|)    \n",
              "a1 1.331e+02  1.836e+01   7.252 8.44e-08 ***\n",
              "b1 1.232e+00  4.345e-01   2.836 0.008554 ** \n",
              "a2 8.500e+01  9.745e+00   8.723 2.44e-09 ***\n",
              "b2 2.922e-02  7.513e-03   3.889 0.000593 ***\n",
              "---\n",
              "Signif. codes:  0 ‘***’ 0.001 ‘**’ 0.01 ‘*’ 0.05 ‘.’ 0.1 ‘ ’ 1\n",
              "\n",
              "Residual standard error: 15.97 on 27 degrees of freedom\n",
              "\n",
              "Number of iterations to convergence: 20 \n",
              "Achieved convergence tolerance: 1.49e-08\n",
              "\n",
              "\n",
              "Formula: y ~ a * (x + 1e-04)^(-b)\n",
              "\n",
              "Parameters:\n",
              "   Estimate Std. Error t value Pr(>|t|)    \n",
              "a 77.012538   4.164619   18.49  < 2e-16 ***\n",
              "b  0.116338   0.009516   12.22 5.76e-13 ***\n",
              "---\n",
              "Signif. codes:  0 ‘***’ 0.001 ‘**’ 0.01 ‘*’ 0.05 ‘.’ 0.1 ‘ ’ 1\n",
              "\n",
              "Residual standard error: 20.34 on 29 degrees of freedom\n",
              "\n",
              "Number of iterations to convergence: 8 \n",
              "Achieved convergence tolerance: 8.359e-06\n",
              "\n"
            ]
          },
          "metadata": {}
        }
      ]
    },
    {
      "cell_type": "code",
      "source": [
        "%%R\n",
        "print(paste0(\"AIC exp: \", gof(expmodel_f)$AIC))\n",
        "print(paste0(\"AIC log: \",gof(logmodel_f)$AIC))\n",
        "print(paste0(\"AIC hypr: \",AIC(hyper_fit_f)))\n",
        "print(paste0(\"AIC biex: \",AIC(biexp_fit_f)))\n",
        "print(paste0(\"AIC power: \",AIC(power_fit_f)))"
      ],
      "metadata": {
        "colab": {
          "base_uri": "https://localhost:8080/",
          "height": 104
        },
        "id": "PRmv3y5ShwhE",
        "outputId": "a88b2d75-f13d-4fb4-b89a-7961a65778f7"
      },
      "execution_count": 28,
      "outputs": [
        {
          "output_type": "display_data",
          "data": {
            "text/plain": [
              "[1] \"AIC exp: 315.418623805469\"\n",
              "[1] \"AIC log: 263.274084155152\"\n",
              "[1] \"AIC hypr: 349.355827761681\"\n",
              "[1] \"AIC biex: 265.473980251324\"\n",
              "[1] \"AIC power: 278.691842631233\"\n"
            ]
          },
          "metadata": {}
        }
      ]
    },
    {
      "cell_type": "code",
      "source": [
        "%%R\n",
        "\n",
        "ggplot(forgotten, aes(x=number, y=avg)) + \n",
        "  geom_point(shape = 21, colour = \"black\", fill = \"black\", size = 2, stroke = 1) +\n",
        "  #scale_x_continuous(trans = \"log10\", limits = c(1, 30)) +\n",
        "  scale_y_continuous(trans = \"log10\", limits = c(10, 400)) +\n",
        "  #coord_cartesian(ylim = c(0,500)) +\n",
        "  geom_smooth(method=\"lm\", aes(color=\"Exponential\"), formula= (y ~ exp(x)), se=FALSE, linetype = 1) +\n",
        "  geom_smooth(method = \"glm\", aes(color=\"Log\"), formula = y~x, se=FALSE, method.args = list(family = gaussian(link = 'log')),linetype = 1) +\n",
        "  geom_smooth(method = \"nls\", aes(color = \"Hyperbolic\"), formula = y ~ a/(1 + b * x), start = list(a = 1, b = 1), se = FALSE, linetype = 1) +\n",
        "  geom_smooth(method = \"nls\", aes(color = \"Power-law\"), formula = y ~ a * (x+0.0000001)^(-b), se = FALSE, method.args = list(start = list(a = 1, b = 1))) +\n",
        "  geom_smooth(method = \"nls\", aes(color = \"Biexponential\"), formula = y ~ a1*exp(-b1*x) + a2*exp(-b2*x), se = FALSE, method.args = list(start = c(a1 = 5, b1 = 2, a2 = 3, b2 = 0.5))) +\n",
        "  ggtitle(\"Forgotten Companies (log-log scale)\") +\n",
        "    ylab(\"Average company mention\") + xlab(\"Days since the announcement\")+\n",
        "  annotate(\"text\", x=1, y=25,  label= paste0(\"AIC Biexponential: \",round(AIC(biexp_fit_f),2),\"; \",expression(R^2), \"= \" ,round(r_sqared(biexp_fit_f),2)),hjust = 0)+\n",
        "  annotate(\"text\", x=1, y=19.5, label= paste0(\"AIC Exponential: \", round(gof(expmodel_f)$AIC,2), \"; R^2 = \" ,round(r_sqared(expmodel_f),2)),hjust = 0) +\n",
        "  annotate(\"text\", x=1, y=16, label= paste0(\"AIC Hyperbolic: \",round(AIC(hyper_fit_f),2), \"; R^2 = \" ,round(r_sqared(hyper_fit_f),2)),hjust = 0)+\n",
        "  annotate(\"text\", x=1, y=12.5, label= paste0(\"AIC Log: \",round(gof(logmodel_f)$AIC,2),\"; R^2 = \" ,round(r_sqared(logmodel_f),2)),hjust = 0)+\n",
        "  annotate(\"text\", x=1, y=10, label= paste0(\"AIC Power-law: \",round(AIC(power_fit_f),2),\"; R^2 = \" ,round(r_sqared(power_fit_f),2)),hjust = 0)+\n",
        "  theme_bw()"
      ],
      "metadata": {
        "colab": {
          "base_uri": "https://localhost:8080/",
          "height": 497
        },
        "id": "ajEueYmniIxV",
        "outputId": "6f338545-3779-4af6-d937-c1d4dde50f68"
      },
      "execution_count": 29,
      "outputs": [
        {
          "output_type": "display_data",
          "data": {
            "image/png": "[encoded data removed]"
          },
          "metadata": {}
        }
      ]
    },
    {
      "cell_type": "markdown",
      "source": [
        "### Inter tweet time"
      ],
      "metadata": {
        "id": "M8-KdHuekst3"
      }
    },
    {
      "cell_type": "code",
      "source": [
        "%%R\n",
        "data <- read_csv(paste0(PTH1,\"2012_2022_bankruptcy.csv.zip\"), show_col_types = FALSE)\n",
        "\n",
        "\n",
        "# split data into before and after the announcement\n",
        "before <- data[grepl( 'before', data$data, fixed = TRUE),]\n",
        "after <- data[grepl( 'after', data$data, fixed = TRUE),]\n",
        "\n",
        "# delete messages originated by the companies\n",
        "after <- after[!after$author_id %in% metadata$UserID,]\n",
        "before <- before[!before$author_id %in% metadata$UserID,]\n",
        "\n",
        "\n",
        "\n",
        "# keep only companies that we want to analyze\n",
        "after<-after[after$company %in% tmp$company,]\n",
        "before<-before[before$company %in% tmp$company,]\n"
      ],
      "metadata": {
        "id": "LWhJEVddky-1",
        "colab": {
          "base_uri": "https://localhost:8080/"
        },
        "outputId": "49dbfd3e-e87c-4352-9149-7b2524e8b76b"
      },
      "execution_count": 30,
      "outputs": [
        {
          "output_type": "stream",
          "name": "stderr",
          "text": [
            "WARNING:rpy2.rinterface_lib.callbacks:R[write to console]: Multiple files in zip: reading '2012_2022_bankruptcy.csv'\n",
            "\n"
          ]
        }
      ]
    },
    {
      "cell_type": "code",
      "source": [
        "%%R\n",
        "# before unforgotten\n",
        "before_unforgot <- before[before$company %in% (Unforgotten_companies),]\n",
        "my_datetime <- as.POSIXct(before_unforgot$created_at, format=\"%Y-%m-%d %H:%M:%S\", tz=\"UTC\")\n",
        "my_datetime <- my_datetime[order(as.Date(my_datetime), decreasing = TRUE)]\n",
        "my_datetime <- cbind(my_datetime[1:(length(my_datetime)-1)], my_datetime[2:(length(my_datetime))])\n",
        "\n",
        "# inter Tweet time\n",
        "inter_Tweet_time_before_unforgot <- data.frame(my_datetime[,1] - my_datetime[,2])\n",
        "names(inter_Tweet_time_before_unforgot) <- \"diff_before_unforgot\""
      ],
      "metadata": {
        "id": "oXUPoeKslS_u"
      },
      "execution_count": 31,
      "outputs": []
    },
    {
      "cell_type": "code",
      "source": [
        "%%R\n",
        "# before forgotten\n",
        "before_forgot <- before[before$company %in% (forgotten_companies),]\n",
        "my_datetime <- as.POSIXct(before_forgot$created_at, format=\"%Y-%m-%d %H:%M:%S\", tz=\"UTC\")\n",
        "my_datetime <- my_datetime[order(as.Date(my_datetime), decreasing = TRUE)]\n",
        "my_datetime <- cbind(my_datetime[1:(length(my_datetime)-1)], my_datetime[2:(length(my_datetime))])\n",
        "\n",
        "# inter Tweet time\n",
        "inter_Tweet_time_before_forgot <- data.frame(my_datetime[,1] - my_datetime[,2])\n",
        "names(inter_Tweet_time_before_forgot) <- \"diff_before_forgot\""
      ],
      "metadata": {
        "id": "Kf35AoIVj973"
      },
      "execution_count": 32,
      "outputs": []
    },
    {
      "cell_type": "code",
      "source": [
        "%%R\n",
        "library(ggplot2)\n",
        "\n",
        "# Create example data with two vectors of unequal lengths\n",
        "set.seed(123)\n",
        "x <- inter_Tweet_time_before_forgot$diff_before_forgot\n",
        "y <- inter_Tweet_time_before_unforgot$diff_before_unforgot\n",
        "\n",
        "# Merge the two vectors into a single data frame\n",
        "df <- data.frame(Inter_Tweet_Time = c(x, y),\n",
        "                 Group = factor(rep(c(\"Forgot\", \"Unforgot\"), c(length(x), length(y)))))\n",
        "\n",
        "# Create ECDF plot\n",
        "ggplot(df, aes(Inter_Tweet_Time, color = Group)) +\n",
        "  stat_ecdf() +\n",
        "  scale_x_log10() +\n",
        "  #scale_y_log10() +\n",
        "  ggtitle(\"ECDF of inter-tweet time before bankruptcy announcement. \\n The tweets mention forgotten and unforgotten companies\") +\n",
        "    ylab(expression(P(X<x))) + xlab(\"Inter-tweet time [Seconds]\")+\n",
        "  theme_bw()\n"
      ],
      "metadata": {
        "colab": {
          "base_uri": "https://localhost:8080/",
          "height": 497
        },
        "id": "BMMvq8_ozkxI",
        "outputId": "3e87c496-518c-43ce-f0f4-2507231fa1e2"
      },
      "execution_count": 33,
      "outputs": [
        {
          "output_type": "display_data",
          "data": {
            "image/png": "[encoded data removed]"
          },
          "metadata": {}
        }
      ]
    },
    {
      "cell_type": "markdown",
      "source": [
        "To test H1 and reveal whether forgotten and unforgotten companies have different temporal inforamtion spreading patterns, we compare the distribution of the ECDFs by using the Kolmogorov-Smirnov (KS) D-statistic test. \n",
        "The D-statistic is defined as the maximum distance: D = max(|F1(x) − F2(x)|), where x represents the range of the random variable, and F1 and F2 represent the empirical cumulative distributions functions. \n",
        "The smaller the distance, the more similar the distribution curves and, hence, the more likely are the two samples to come from the same distribution.\n",
        "In the KS-test, a p_value < 0.05 indicates that the samples are **not** drawn from the same distribution"
      ],
      "metadata": {
        "id": "gcOcdpzIjrmp"
      }
    },
    {
      "cell_type": "code",
      "source": [
        "# KS-test\n",
        "%%R\n",
        "\n",
        "ks.test(x, y)"
      ],
      "metadata": {
        "colab": {
          "base_uri": "https://localhost:8080/",
          "height": 139
        },
        "id": "vkSCH62jjsOX",
        "outputId": "58975d03-ea6b-4148-8664-913c476e6573"
      },
      "execution_count": 34,
      "outputs": [
        {
          "output_type": "display_data",
          "data": {
            "text/plain": [
              "\n",
              "\tAsymptotic two-sample Kolmogorov-Smirnov test\n",
              "\n",
              "data:  x and y\n",
              "D = 0.36003, p-value < 2.2e-16\n",
              "alternative hypothesis: two-sided\n",
              "\n"
            ]
          },
          "metadata": {}
        }
      ]
    },
    {
      "cell_type": "markdown",
      "source": [
        "### Logistic regression\n",
        "\n",
        "\n",
        "1. **avg_time_from_first** - Time difference from the posting of the FIRST tweet about the company.\n",
        "  * Captures bursty user interactions [59, 60], which can explain contagion spread [61].\n",
        "\n",
        "2. ***Pre-announcement mean***: Arithmetic mean of number of mentions in days $t \\in [-30, 0]$, prior to bankruptcy announcement.\n",
        "\n",
        "\n",
        "3. ***Num_of_tweets_before***   \n",
        "  * Captures contagion spread similar to non-structural models (Section 2.2).\n",
        "\n",
        "\n",
        "4. ***Followers***\n",
        "\n",
        "\n",
        "5. ***Short-term boost***: Maximum mentions during days $t=0$ through $t=6$ following bankruptcy announcement, minus the pre-announcement mean.\n",
        "\n",
        "\n",
        "\n",
        "\n",
        "%----------\n",
        "\n",
        "3. Long-term boost: arithmetic mean of days 7 through 30 after bankruptcy announcement, minus the pre-announcement mean.\n",
        "\n",
        "4. Halving time: number of days required to accumulate half of the total area between the post-announcement curve (including the day of the announcement) and the minimum post-announcement value."
      ],
      "metadata": {
        "id": "o7MJdQa1i6lY"
      }
    },
    {
      "cell_type": "markdown",
      "source": [
        "#### data preperation"
      ],
      "metadata": {
        "id": "Nem2SeTyrf6k"
      }
    },
    {
      "cell_type": "code",
      "source": [
        "# 1) Average time difference betweeb the posting time of a tweet and the posting of the FIRST tweet about the company\n",
        "\n",
        "%%R\n",
        "\n",
        "before <- before %>% group_by(company) %>% mutate(min_value = min(created_at)) # find the time of the first post\n",
        "\n",
        "before$time_from_first <- as.Date(before$created_at) - as.Date(before$min_value)\n",
        "\n",
        "\n",
        "result <- sqldf(\"select company, avg(time_from_first) as avg_time_from_first from before group by company\")"
      ],
      "metadata": {
        "id": "jhG-H7imPnA4"
      },
      "execution_count": 42,
      "outputs": []
    },
    {
      "cell_type": "code",
      "execution_count": 43,
      "metadata": {
        "id": "0ak2R_LkSNWy"
      },
      "outputs": [],
      "source": [
        "# 2) Pre-announcement mean\n",
        "%%R\n",
        "\n",
        "Pre_announcement_mean = sqldf(\"select avg(freq) as Pre_announcement_mean, company from tmp where `when`='before' group by company\")\n",
        "\n",
        "result <- merge(result, Pre_announcement_mean, by = 'company')"
      ]
    },
    {
      "cell_type": "code",
      "source": [
        "# 3) number of tweet before the announcement\n",
        "%%R\n",
        "\n",
        "number_of_tweets_before = sqldf(\"select company, count(1) as number_of_tweets_before from before group by company\")\n",
        "\n",
        "result <- merge(result, number_of_tweets_before, by = 'company')"
      ],
      "metadata": {
        "id": "kMCetnyAaFaI"
      },
      "execution_count": 44,
      "outputs": []
    },
    {
      "cell_type": "code",
      "source": [
        "# 4) Followers\n",
        "\n",
        "%%R\n",
        "df <- metadata[,c('Company Name','Twitter Username','Twitter Followers', 'Twitter Following','Twitter Lists','Avg_Google_Trends')]\n",
        "\n",
        "result <- merge(result, df,  by.x = 'company', by.y = 'Twitter Username')"
      ],
      "metadata": {
        "id": "yUOZOloCflzs"
      },
      "execution_count": 45,
      "outputs": []
    },
    {
      "cell_type": "code",
      "execution_count": 46,
      "metadata": {
        "id": "SF1KoZmdWLS4"
      },
      "outputs": [],
      "source": [
        "# 5) Short-term boost\n",
        "%%R\n",
        "\n",
        "Short_term_boost <- sqldf(\"select max(freq) as shrt_boost, company from tmp where `when`='after'and number between 0 and 11 group by company\")\n"
      ]
    },
    {
      "cell_type": "code",
      "source": [
        "%%R\n",
        "\n",
        "result <- merge(result, Short_term_boost, by = 'company')\n",
        "\n",
        "result$shrt_boost <- result$shrt_boost - result$Pre_announcement_mean"
      ],
      "metadata": {
        "id": "CPUwTUsF_AZz"
      },
      "execution_count": 47,
      "outputs": []
    },
    {
      "cell_type": "code",
      "source": [
        "# confidence intervals\n",
        "\n",
        "%%R\n",
        "\n",
        "library(DescTools)\n",
        "MedianCI(Short_term_boost$shrt_boost,\n",
        "         conf.level = 0.95,\n",
        "         na.rm = FALSE,\n",
        "         method = \"exact\",\n",
        "         R = 10000)"
      ],
      "metadata": {
        "colab": {
          "base_uri": "https://localhost:8080/",
          "height": 86
        },
        "id": "pVSUYVcZjBC0",
        "outputId": "ddcb90ac-d8f9-4a4f-e576-0249970e7cc9"
      },
      "execution_count": 517,
      "outputs": [
        {
          "output_type": "display_data",
          "data": {
            "text/plain": [
              "median lwr.ci upr.ci \n",
              "    41     17    104 \n",
              "attr(,\"conf.level\")\n",
              "[1] 0.9578346\n"
            ]
          },
          "metadata": {}
        }
      ]
    },
    {
      "cell_type": "code",
      "source": [
        "# set target variable\n",
        "%%R\n",
        "result$y <- 0\n",
        "result[result$company %in% forgotten_companies, 'y'] <- 1\n",
        "\n",
        "result$company_name <- NULL"
      ],
      "metadata": {
        "id": "ODQTBPwllNCY"
      },
      "execution_count": 48,
      "outputs": []
    },
    {
      "cell_type": "markdown",
      "source": [
        "#### Regression"
      ],
      "metadata": {
        "id": "GBzftl8jrahk"
      }
    },
    {
      "cell_type": "code",
      "source": [
        "%%R\n",
        "result$y <- as.factor(result$y)"
      ],
      "metadata": {
        "id": "LCs9ZpLptq60"
      },
      "execution_count": 49,
      "outputs": []
    },
    {
      "cell_type": "code",
      "source": [
        "%%R\n",
        "\n",
        "# Specify the proportion of data to be used for train\n",
        "train_proportion <- 0.8\n",
        "\n",
        "# Split the data into training and test sets\n",
        "set.seed(123) # Set a random seed for reproducibility\n",
        "train_indices <- createDataPartition(y = result$y, p = train_proportion, list = FALSE)\n",
        "train_data <- result[train_indices, ]\n",
        "test_data <- result[-train_indices, ]"
      ],
      "metadata": {
        "id": "qDDwNiIrYCSg"
      },
      "execution_count": 70,
      "outputs": []
    },
    {
      "cell_type": "code",
      "source": [
        "# logistic regression\n",
        "\n",
        "%%R\n",
        "\n",
        "# define training control cross validation\n",
        "train_control <- trainControl(method = \"cv\", number = 10)\n",
        "\n",
        "# train the model on training set\n",
        "model <- train(y ~ avg_time_from_first + Pre_announcement_mean + number_of_tweets_before + `Twitter Followers` + `Twitter Following` + shrt_boost,\n",
        "               family = binomial(),\n",
        "               trControl = train_control,\n",
        "               method = \"glmStepAIC\",\n",
        "               direction =\"backward\", # forward\n",
        "               data = train_data,\n",
        "               trace = 2)"
      ],
      "metadata": {
        "id": "HOqOWqVpfUdb"
      },
      "execution_count": null,
      "outputs": []
    },
    {
      "cell_type": "code",
      "source": [
        "%%R\n",
        "# print cv scores\n",
        "print(summary(model))\n",
        "\n",
        "\n",
        "# check varibale importance\n",
        "varImp(model$finalModel)"
      ],
      "metadata": {
        "colab": {
          "base_uri": "https://localhost:8080/",
          "height": 486
        },
        "id": "0rj5GHDtf4J-",
        "outputId": "10570349-b423-49a8-a7c8-2ba81df0731e"
      },
      "execution_count": 98,
      "outputs": [
        {
          "output_type": "display_data",
          "data": {
            "text/plain": [
              "\n",
              "Call:\n",
              "NULL\n",
              "\n",
              "Deviance Residuals: \n",
              "    Min       1Q   Median       3Q      Max  \n",
              "-1.5945  -0.4602   0.0000   0.1194   2.4414  \n",
              "\n",
              "Coefficients:\n",
              "                      Estimate Std. Error z value Pr(>|z|)  \n",
              "(Intercept)           -1.05879    0.62576  -1.692   0.0906 .\n",
              "Pre_announcement_mean  0.63883    0.29166   2.190   0.0285 *\n",
              "shrt_boost            -0.14894    0.06626  -2.248   0.0246 *\n",
              "---\n",
              "Signif. codes:  0 ‘***’ 0.001 ‘**’ 0.01 ‘*’ 0.05 ‘.’ 0.1 ‘ ’ 1\n",
              "\n",
              "(Dispersion parameter for binomial family taken to be 1)\n",
              "\n",
              "    Null deviance: 85.635  on 63  degrees of freedom\n",
              "Residual deviance: 39.799  on 61  degrees of freedom\n",
              "AIC: 45.799\n",
              "\n",
              "Number of Fisher Scoring iterations: 12\n",
              "\n",
              "                       Overall\n",
              "Pre_announcement_mean 2.190339\n",
              "shrt_boost            2.247676\n"
            ]
          },
          "metadata": {}
        }
      ]
    },
    {
      "cell_type": "code",
      "source": [
        "# Evaluation of the best model of the cross validation\n",
        "\n",
        "%%R\n",
        "\n",
        "threshold=0.3\n",
        "predicted_values<-as.factor(ifelse(predict(model$finalModel,type=\"response\")>threshold,1,0))\n",
        "actual_values<-as.factor(model$finalModel$y)\n",
        "confusionMatrix(predicted_values, actual_values, mode = \"everything\", positive=\"0\")"
      ],
      "metadata": {
        "colab": {
          "base_uri": "https://localhost:8080/",
          "height": 538
        },
        "id": "Gm8SEfi4gC8Z",
        "outputId": "e7dc67c9-8e2a-4682-b2c7-53c700d7f620"
      },
      "execution_count": 100,
      "outputs": [
        {
          "output_type": "display_data",
          "data": {
            "text/plain": [
              "Confusion Matrix and Statistics\n",
              "\n",
              "          Reference\n",
              "Prediction  0  1\n",
              "         0 27  1\n",
              "         1 12 24\n",
              "                                          \n",
              "               Accuracy : 0.7969          \n",
              "                 95% CI : (0.6777, 0.8872)\n",
              "    No Information Rate : 0.6094          \n",
              "    P-Value [Acc > NIR] : 0.001100        \n",
              "                                          \n",
              "                  Kappa : 0.6046          \n",
              "                                          \n",
              " Mcnemar's Test P-Value : 0.005546        \n",
              "                                          \n",
              "            Sensitivity : 0.6923          \n",
              "            Specificity : 0.9600          \n",
              "         Pos Pred Value : 0.9643          \n",
              "         Neg Pred Value : 0.6667          \n",
              "              Precision : 0.9643          \n",
              "                 Recall : 0.6923          \n",
              "                     F1 : 0.8060          \n",
              "             Prevalence : 0.6094          \n",
              "         Detection Rate : 0.4219          \n",
              "   Detection Prevalence : 0.4375          \n",
              "      Balanced Accuracy : 0.8262          \n",
              "                                          \n",
              "       'Positive' Class : 0               \n",
              "                                          \n"
            ]
          },
          "metadata": {}
        }
      ]
    },
    {
      "cell_type": "code",
      "source": [
        "# Make predictions on the test set\n",
        "%%R\n",
        "\n",
        "test_predictions <- predict(model$finalModel, newdata = test_data,type = \"response\")\n",
        "\n",
        "# Set a threshold value (e.g., 0.5) for binary classification\n",
        "threshold <- 0.5\n",
        "\n",
        "# Convert predicted probabilities to binary values based on the threshold\n",
        "test_predictions <- as.factor(ifelse(test_predictions > threshold, 1, 0))\n",
        "\n",
        "test_data$y <- as.factor(test_data$y)\n",
        "\n",
        "# Compute the confusion matrix\n",
        "confusionMatrix(test_predictions, test_data$y, mode = \"everything\", positive=\"1\")\n"
      ],
      "metadata": {
        "colab": {
          "base_uri": "https://localhost:8080/",
          "height": 538
        },
        "id": "X8QI0l2fZx1h",
        "outputId": "d2729189-59d5-461c-bf13-a986ed50f921"
      },
      "execution_count": 102,
      "outputs": [
        {
          "output_type": "display_data",
          "data": {
            "text/plain": [
              "Confusion Matrix and Statistics\n",
              "\n",
              "          Reference\n",
              "Prediction 0 1\n",
              "         0 7 0\n",
              "         1 2 6\n",
              "                                          \n",
              "               Accuracy : 0.8667          \n",
              "                 95% CI : (0.5954, 0.9834)\n",
              "    No Information Rate : 0.6             \n",
              "    P-Value [Acc > NIR] : 0.02711         \n",
              "                                          \n",
              "                  Kappa : 0.7368          \n",
              "                                          \n",
              " Mcnemar's Test P-Value : 0.47950         \n",
              "                                          \n",
              "            Sensitivity : 1.0000          \n",
              "            Specificity : 0.7778          \n",
              "         Pos Pred Value : 0.7500          \n",
              "         Neg Pred Value : 1.0000          \n",
              "              Precision : 0.7500          \n",
              "                 Recall : 1.0000          \n",
              "                     F1 : 0.8571          \n",
              "             Prevalence : 0.4000          \n",
              "         Detection Rate : 0.4000          \n",
              "   Detection Prevalence : 0.5333          \n",
              "      Balanced Accuracy : 0.8889          \n",
              "                                          \n",
              "       'Positive' Class : 1               \n",
              "                                          \n"
            ]
          },
          "metadata": {}
        }
      ]
    },
    {
      "cell_type": "markdown",
      "source": [
        "# Other measures"
      ],
      "metadata": {
        "id": "n7dEqYAJ7W5N"
      }
    },
    {
      "cell_type": "code",
      "execution_count": null,
      "metadata": {
        "id": "vPPAzJ25XaQm"
      },
      "outputs": [],
      "source": [
        "# 3) Long-term boost\n",
        "%%R\n",
        "\n",
        "Long_term_boost = sqldf(\"select avg(freq) as lng_boost, company from tmp where `when`='after' and number between 7 and 40 group by company\")\n",
        "Long_term_boost$shrt_boost <- Long_term_boost$lng_boost - Pre_announcement_mean$avgfreq\n",
        "\n",
        "print(Long_term_boost)\n",
        "\n",
        "library(DescTools)\n",
        "MedianCI(Long_term_boost$shrt_boost,\n",
        "         conf.level = 0.95,\n",
        "         na.rm = FALSE,\n",
        "         method = \"exact\",\n",
        "         R = 10000)"
      ]
    },
    {
      "cell_type": "code",
      "execution_count": null,
      "metadata": {
        "id": "O3cPBpcyiXRb",
        "colab": {
          "base_uri": "https://localhost:8080/",
          "height": 34
        },
        "outputId": "5f0e978a-3678-4350-f8e1-e17edddc9be4"
      },
      "outputs": [
        {
          "output_type": "display_data",
          "data": {
            "text/plain": [
              "[1] 0.5923533\n"
            ]
          },
          "metadata": {}
        }
      ],
      "source": [
        "%%R\n",
        "# Halving time - manual run: play with `win` variable to detect when the area under the graph (`x`) is 0.5\n",
        "# calculate AUC\n",
        "\n",
        "comp = 'TrueReligion'\n",
        "win = 3\n",
        "x = AUC(x=tmp[tmp$when =='after'& tmp$company==comp,]$number[1:win], y=tmp[tmp$when =='after'& tmp$company==comp,]$freq[1:win]) / \n",
        "                                                                    AUC(x=tmp[tmp$when =='after'& tmp$company==comp,]$number, y=tmp[tmp$when =='after'& tmp$company==comp,]$freq)\n",
        "\n",
        "print(x)"
      ]
    },
    {
      "cell_type": "code",
      "execution_count": null,
      "metadata": {
        "colab": {
          "base_uri": "https://localhost:8080/",
          "height": 295
        },
        "id": "uzd_xz5sHBqE",
        "outputId": "058524f2-0c31-4bb4-d8fc-d8843730d8de"
      },
      "outputs": [
        {
          "output_type": "display_data",
          "data": {
            "text/plain": [
              "          company halving\n",
              "1    beautybrands       7\n",
              "2  CharlotteRusse       5\n",
              "3         claires      21\n",
              "4          DIESEL      17\n",
              "5       Forever21       7\n",
              "6      ftdflowers      14\n",
              "7         hhgregg       9\n",
              "8    MattressFirm      14\n",
              "9        NineWest       5\n",
              "10     Perfumania      12\n",
              "11       Rockport      11\n",
              "12          rue21      15\n",
              "13          Sears       4\n",
              "14      sugarfina      13\n",
              "15   TrueReligion       3\n"
            ]
          },
          "metadata": {}
        }
      ],
      "source": [
        "%%R\n",
        "\n",
        "\n",
        "\n",
        "halving = rbind(\n",
        "    c('beautybrands',\t7),\n",
        "    c('CharlotteRusse',\t5),\n",
        "    #c('CharmingCharlie',\t5),\n",
        "    c('claires',\t21),\n",
        "    c('DIESEL',\t17),\n",
        "    c('Forever21',\t7),\n",
        "    c('ftdflowers',\t14),\n",
        "    c('hhgregg',\t9),\n",
        "    c('MattressFirm',\t14),\n",
        "    c('NineWest',\t5),\n",
        "    c('Perfumania',\t12),\n",
        "    c('Rockport',\t11),\n",
        "    c('rue21',\t15),\n",
        "    c('Sears',\t4),\n",
        "    c('sugarfina',\t13),\n",
        "    c('TrueReligion',\t3)\n",
        ")\n",
        "\n",
        "\n",
        "halving = data.frame(halving)\n",
        "names(halving) = c(\"company\",\"halving\")\n",
        "halving"
      ]
    },
    {
      "cell_type": "markdown",
      "source": [
        "#### plot daily tweet count per company"
      ],
      "metadata": {
        "id": "qxpi_vMWYVoz"
      }
    },
    {
      "cell_type": "code",
      "execution_count": null,
      "metadata": {
        "id": "70XAQBh3GbRq"
      },
      "outputs": [],
      "source": [
        "%%R\n",
        "# create a list of ggplots\n",
        "\n",
        "figures <- list()\n",
        "i = 1\n",
        "for(comp in unique(tmp$company)){\n",
        "  figures[[i]] <- ggplot(data=tmp[tmp$company==comp,], aes(x=number, y=freq)) +\n",
        "                      geom_line()+\n",
        "                      theme_bw() +\n",
        "                      labs(x=\"Days from bankruptcy announcment\", y = \"Number of tweets\")+\n",
        "                      ggtitle(paste0(\"@\",comp)) +\n",
        "                      theme(plot.title = element_text(hjust = 0.5)) +\n",
        "                      geom_point()\n",
        "  i = i +1\n",
        "}"
      ]
    },
    {
      "cell_type": "code",
      "execution_count": null,
      "metadata": {
        "id": "p2ic-dLXGvke"
      },
      "outputs": [],
      "source": [
        "# plot the figures\n",
        "\n",
        "p<-ggarrange(figures[[1]],figures[[2]],figures[[3]],figures[[4]],figures[[5]],figures[[6]],figures[[7]],\n",
        "          figures[[8]],figures[[9]],figures[[10]],figures[[11]],figures[[12]],figures[[13]],figures[[14]],\n",
        "          figures[[15]], figures[[16]],\n",
        "          ncol = 4, nrow = 5)\n",
        "options(repr.plot.width = 12, repr.plot.height = 12) # set canvas size\n",
        "print(p)\n",
        "ggexport(p, filename = \"figures.pdf\", width = 12, height = 12) # write figure to pdf"
      ]
    },
    {
      "cell_type": "markdown",
      "source": [
        "#### plot average number of tweets before vs. after the announcement for all companies"
      ],
      "metadata": {
        "id": "9u1uVXgqYsoe"
      }
    },
    {
      "cell_type": "code",
      "execution_count": null,
      "metadata": {
        "id": "th4cdrR9QBZM"
      },
      "outputs": [],
      "source": [
        "%%R\n",
        "# average number of tweets before and after the announcement\n",
        "fig2 <- sqldf(\"select number, avg(freq) as n_d from tmp group by number\",method = \"name__class\")\n",
        "write.csv(fig2, file=\"fig2.csv\")"
      ]
    },
    {
      "cell_type": "code",
      "execution_count": null,
      "metadata": {
        "id": "LuXgpG5_K5mh",
        "colab": {
          "base_uri": "https://localhost:8080/",
          "height": 532
        },
        "outputId": "65a5fa1c-bb82-42b9-d148-44ef7051d2fd"
      },
      "outputs": [
        {
          "output_type": "stream",
          "name": "stderr",
          "text": [
            "WARNING:rpy2.rinterface_lib.callbacks:R[write to console]: file saved to figures3.pdf\n",
            "\n"
          ]
        },
        {
          "output_type": "display_data",
          "data": {
            "image/png": "[encoded data removed]"
          },
          "metadata": {}
        }
      ],
      "source": [
        "%%R\n",
        "p2<-ggplot(data=fig2, aes(x=number, y=n_d)) +\n",
        "                      geom_line()+\n",
        "                      #scale_y_continuous(trans='log10')+\n",
        "                      theme_bw() +\n",
        "                      labs(x=\"Days from bankruptcy announcment\", y = \"Average number of tweets\")+\n",
        "                      ggtitle(\"Average mention time series\") +\n",
        "                      theme(plot.title = element_text(hjust = 0.5)) +\n",
        "                      #geom_hline(yintercept=mean(fig2[fig2$number!=0,]$n_d), linetype=\"dashed\", color = \"red\") +\n",
        "                      geom_point()\n",
        "\n",
        "print(p2)\n",
        "\n",
        "ggexport(p2, filename = \"figures3.pdf\", width = 6, height = 6) # write figure to pdf"
      ]
    },
    {
      "cell_type": "markdown",
      "metadata": {
        "id": "ute8tPcvN5qR"
      },
      "source": [
        "## clustering"
      ]
    },
    {
      "cell_type": "code",
      "execution_count": null,
      "metadata": {
        "id": "TdL3CslQkIJp",
        "colab": {
          "base_uri": "https://localhost:8080/"
        },
        "outputId": "c1fb066e-fb2d-42a7-8ffb-aaa858568890"
      },
      "outputs": [
        {
          "output_type": "stream",
          "name": "stdout",
          "text": [
            "   Pre_announcement_mean Short_term_boost Long_term_boost Halving\n",
            "1               7.633333      79.36666667        6.523810       7\n",
            "2               1.941176       0.05882353        1.375000       5\n",
            "3              23.888889      15.11111111       22.458333       5\n",
            "4             172.766667     847.23333333      106.739130      21\n",
            "5              18.344828     201.65517241       28.291667      17\n",
            "6               6.633333      57.36666667        5.772727       7\n",
            "7              16.782609      -0.78260870       19.833333      14\n",
            "8               4.913043      12.08695652        3.500000       9\n",
            "9             130.689655    1632.31034483       95.625000      14\n",
            "10              9.827586     384.17241379       12.208333       5\n",
            "11              1.954545      14.04545455        3.181818      12\n",
            "12             71.740741     189.25925926      151.333333      11\n",
            "13             19.857143       3.14285714        2.789474      15\n",
            "14             46.666667      34.33333333       11.375000       4\n",
            "15             52.758621      22.24137931       42.541667      13\n",
            "16             17.482759      -4.48275862        3.850000       3\n"
          ]
        }
      ],
      "source": [
        "%%R\n",
        "df_four_measures = data.frame(\n",
        "                              'Pre_announcement_mean' = Pre_announcement_mean$avgfreq, \n",
        "                              'Short_term_boost' = Short_term_boost$shrt_boost,\n",
        "                              'Long_term_boost' = Long_term_boost$lng_boost,\n",
        "                              'Halving' = as.numeric(halving$halving)\n",
        "                              )\n",
        "\n",
        "df_four_measures"
      ]
    },
    {
      "cell_type": "code",
      "execution_count": null,
      "metadata": {
        "id": "5kbl7vo8SG5M"
      },
      "outputs": [],
      "source": [
        "%%R\n",
        "mat = as.matrix(df_four_measures)"
      ]
    },
    {
      "cell_type": "code",
      "execution_count": null,
      "metadata": {
        "id": "DEXX8K-iQ4v1"
      },
      "outputs": [],
      "source": [
        "%%R\n",
        "\n",
        "res<-NbClust(mat, distance = \"euclidean\", min.nc=2, max.nc=10, method = \"kmeans\", index = \"all\")\n",
        "\n",
        "# plot\n",
        "library(\"factoextra\")\n",
        "fviz_nbclust(res)"
      ]
    },
    {
      "cell_type": "code",
      "execution_count": null,
      "metadata": {
        "colab": {
          "base_uri": "https://localhost:8080/"
        },
        "id": "euzHFHEhWCtZ",
        "outputId": "07069df4-bdfc-4ccf-c66f-2a52a769ecec"
      },
      "outputs": [
        {
          "output_type": "stream",
          "name": "stdout",
          "text": [
            "   Pre_announcement_mean Short_term_boost Long_term_boost Halving\n",
            "1               7.633333      79.36666667        6.523810       7\n",
            "2               1.941176       0.05882353        1.375000       5\n",
            "3              23.888889      15.11111111       22.458333       5\n",
            "4             172.766667     847.23333333      106.739130      21\n",
            "5              18.344828     201.65517241       28.291667      17\n",
            "6               6.633333      57.36666667        5.772727       7\n",
            "7              16.782609      -0.78260870       19.833333      14\n",
            "8               4.913043      12.08695652        3.500000       9\n",
            "9             130.689655    1632.31034483       95.625000      14\n",
            "10              9.827586     384.17241379       12.208333       5\n",
            "11              1.954545      14.04545455        3.181818      12\n",
            "12             71.740741     189.25925926      151.333333      11\n",
            "13             19.857143       3.14285714        2.789474      15\n",
            "14             46.666667      34.33333333       11.375000       4\n",
            "15             52.758621      22.24137931       42.541667      13\n",
            "16             17.482759      -4.48275862        3.850000       3\n",
            "           company kmeans\n",
            "1     beautybrands      2\n",
            "2   CharlotteRusse      2\n",
            "3  CharmingCharlie      2\n",
            "4          claires      1\n",
            "5           DIESEL      2\n",
            "6        Forever21      2\n",
            "7       ftdflowers      2\n",
            "8          hhgregg      2\n",
            "9     MattressFirm      1\n",
            "10        NineWest      2\n",
            "11      Perfumania      2\n",
            "12        Rockport      1\n",
            "13           rue21      2\n",
            "14           Sears      2\n",
            "15       sugarfina      2\n",
            "16    TrueReligion      2\n"
          ]
        }
      ],
      "source": [
        "%%R\n",
        "# do k-means\n",
        "kmeans_fancy <- kmeans(scale(mat), 2, nstart = 100)\n",
        "\n",
        "\n",
        "df_four_measures$company <- halving$company\n",
        "df_four_measures$kmeans <- kmeans_fancy$cluster\n",
        "df_four_measures"
      ]
    },
    {
      "cell_type": "code",
      "execution_count": null,
      "metadata": {
        "colab": {
          "base_uri": "https://localhost:8080/",
          "height": 532
        },
        "id": "VDrjTX1kYCSS",
        "outputId": "d97e43b3-35a0-46af-b853-eec737997c6c"
      },
      "outputs": [
        {
          "output_type": "stream",
          "name": "stderr",
          "text": [
            "R[write to console]: file saved to figures3c.pdf\n",
            "\n"
          ]
        },
        {
          "output_type": "display_data",
          "data": {
            "image/png": "[encoded data removed]"
          },
          "metadata": {}
        }
      ],
      "source": [
        "%%R\n",
        "df_centroids = data.frame(kmeans_fancy$centers)\n",
        "df_centroids <- t(df_centroids)\n",
        "df_centroids <- data.frame(df_centroids)\n",
        "df_centroids$measure<-row.names(df_centroids)\n",
        "row.names(df_centroids)<-NULL\n",
        "\n",
        "one <- data.frame(df_centroids[,c(1,3)])\n",
        "one$group<-\"1\"\n",
        "names(one)[1]<-\"z-scores\"\n",
        "two <- data.frame(df_centroids[,c(2,3)])\n",
        "two$group<-'2'\n",
        "names(two)[1]<-\"z-scores\"\n",
        "\n",
        "df_centroids<-rbind(one, two)\n",
        "\n",
        "# do k-means\n",
        "g<- ggplot(df_centroids, aes(measure,`z-scores`,fill=group)) +\n",
        "  geom_col()+\n",
        "  theme_bw() +\n",
        "  coord_flip()\n",
        "\n",
        "print(g)\n",
        "ggexport(g, filename = \"figures3c.pdf\", width = 4, height = 4) # write figure to pdf"
      ]
    },
    {
      "cell_type": "code",
      "execution_count": null,
      "metadata": {
        "id": "xb9q7gFvi_gc"
      },
      "outputs": [],
      "source": [
        "%%R\n",
        "df_four_measures"
      ]
    },
    {
      "cell_type": "markdown",
      "metadata": {
        "id": "x9A2MNCPOCHK"
      },
      "source": [
        "## figure 3. average mention time series by group"
      ]
    },
    {
      "cell_type": "code",
      "execution_count": null,
      "metadata": {
        "colab": {
          "base_uri": "https://localhost:8080/"
        },
        "id": "XvDX2WXTjvNH",
        "outputId": "1b3eca33-142f-4773-8c2d-b72aa2df9ef3"
      },
      "outputs": [
        {
          "output_type": "stream",
          "name": "stdout",
          "text": [
            "New names:\n",
            "• `` -> `...6`\n",
            "• `` -> `...7`\n",
            "• `` -> `...8`\n",
            "• `` -> `...9`\n",
            "# A tibble: 6 × 9\n",
            "  company      date        freq when  number ...6  ...7  ...8  ...9 \n",
            "  <chr>        <chr>      <dbl> <chr>  <dbl> <lgl> <lgl> <lgl> <lgl>\n",
            "1 beautybrands 07/01/2019    16 after      1 NA    NA    NA    NA   \n",
            "2 beautybrands 08/01/2019     3 after      2 NA    NA    NA    NA   \n",
            "3 beautybrands 09/01/2019     7 after      3 NA    NA    NA    NA   \n",
            "4 beautybrands 12/01/2019     5 after      6 NA    NA    NA    NA   \n",
            "5 beautybrands 13/01/2019     6 after      7 NA    NA    NA    NA   \n",
            "6 beautybrands 16/01/2019     3 after     10 NA    NA    NA    NA   \n"
          ]
        }
      ],
      "source": [
        "%%R\n",
        "tmp <- read_csv(\"/content/drive/MyDrive/Colab Notebooks/BIU_HEB/data/data_rebuttle.csv\", show_col_types = FALSE)\n",
        "\n",
        "# remove TailorBrands\n",
        "tmp <- tmp[!tmp$company %in% c('KikoMilanoUSA', ''),]\n",
        "\n",
        "head(tmp[tmp$when == 'after',])"
      ]
    },
    {
      "cell_type": "code",
      "execution_count": null,
      "metadata": {
        "colab": {
          "base_uri": "https://localhost:8080/"
        },
        "id": "qKjj5DOniKYh",
        "outputId": "3d4d8382-8c9c-4b9c-ee4e-1d34bbcfd2b2"
      },
      "outputs": [
        {
          "output_type": "stream",
          "name": "stdout",
          "text": [
            "  number group       n_d\n",
            "1    -31    C2 126.28571\n",
            "2    -30    C1  14.50000\n",
            "3    -30    C2 103.36364\n",
            "4    -29    C1  10.00000\n",
            "5    -29    C2  44.72727\n",
            "6    -28    C1  17.66667\n"
          ]
        }
      ],
      "source": [
        "%%R\n",
        "group1<-tmp[tmp$company %in% df_four_measures[df_four_measures$kmeans==1,]$company,]\n",
        "group1$group<-'C1'\n",
        "group2<-tmp[tmp$company %in% df_four_measures[df_four_measures$kmeans==2,]$company,]\n",
        "group2$group<-'C2'\n",
        "group_data <- rbind(group1,group2)\n",
        "fig3b <- sqldf(\"select number, `group`, avg(freq) as n_d from group_data group by number, `group`\")\n",
        "fig3b$group <- as.factor(fig3b$group)\n",
        "head(fig3b)"
      ]
    },
    {
      "cell_type": "code",
      "execution_count": null,
      "metadata": {
        "colab": {
          "base_uri": "https://localhost:8080/",
          "height": 532
        },
        "id": "sNDB_w_FhtnC",
        "outputId": "9f170148-2fa5-4954-f2e6-e68c30f3e3f2"
      },
      "outputs": [
        {
          "output_type": "stream",
          "name": "stderr",
          "text": [
            "R[write to console]: file saved to figures3b.pdf\n",
            "\n"
          ]
        },
        {
          "output_type": "display_data",
          "data": {
            "image/png": "[encoded data removed]"
          },
          "metadata": {}
        }
      ],
      "source": [
        "%%R\n",
        "p2<-ggplot(data=fig3b, aes(x=number, y=n_d, group=group, colour=group)) +\n",
        "                      geom_line()+\n",
        "                      theme_bw() +\n",
        "                      labs(x=\"Days from bankruptcy announcment\", y = \"Average number of tweets\")+\n",
        "                      ggtitle(\"Average mention time series by group\") +\n",
        "                      theme(plot.title = element_text(hjust = 0.5)) +\n",
        "                      geom_point()\n",
        "\n",
        "print(p2)\n",
        "\n",
        "ggexport(p2, filename = \"figures3b.pdf\", width = 6, height = 6) # write figure to pdf"
      ]
    },
    {
      "cell_type": "code",
      "source": [
        "%%R\n",
        "boxplot(fig3b[fig3b$group=='C1',]$n_d, fig3b[fig3b$group=='C2',]$n_d)"
      ],
      "metadata": {
        "colab": {
          "base_uri": "https://localhost:8080/",
          "height": 497
        },
        "id": "uhP07bHkMt0A",
        "outputId": "166da626-668f-49aa-bc12-6e9856e0ec6d"
      },
      "execution_count": null,
      "outputs": [
        {
          "output_type": "display_data",
          "data": {
            "image/png": "[encoded data removed]"
          },
          "metadata": {}
        }
      ]
    },
    {
      "cell_type": "code",
      "execution_count": null,
      "metadata": {
        "colab": {
          "base_uri": "https://localhost:8080/"
        },
        "id": "_snMD2TwTEKE",
        "outputId": "0cb65abc-51c4-4c34-bdda-5723d5a242c5"
      },
      "outputs": [
        {
          "output_type": "stream",
          "name": "stdout",
          "text": [
            "[1] 62.94734\n"
          ]
        }
      ],
      "source": [
        "%%R\n",
        "# mean of 3 out of the 4 parameters in each cluster\n",
        "# mean(df_four_measures$Short_term_boost\n",
        "\n",
        "#mean(df_four_measures[df_four_measures$kmeans=='1',]$Short_term_boost)\n",
        "mean(df_four_measures[df_four_measures$kmeans=='2',]$Short_term_boost)\n",
        "\n",
        "# Short_term_boost      C1: 617.7155           C2: 107.0955            ALL  298.578\n",
        "# Long_term_boost       C1: 70.03487           C2 15.3411              ALL  35.85126\n",
        "# Pre_announcement_mean C1: 51.11              C2 16.80455             ALL  29.67202"
      ]
    },
    {
      "cell_type": "markdown",
      "metadata": {
        "id": "xWk77W9TM0FT"
      },
      "source": [
        "## regression\n",
        "\n",
        "1. Pre-announcement mean mention frequency.\n",
        "2. Company age (year) at the day of bankruptcy announcement.\n",
        "3. Bankruptcy strategy (factor with 5 levels: restructuring, reorganization, purchased, sold, closed all stores).\n",
        "4. Market cup category (factor with 6 levels: specifying the main business of the company: sports, clothes, etc.\n",
        "5. Market capitalization.\n",
        "6. Gender of owners (factor with 3 levels: female, male, mixed).\n",
        "\n",
        "\n"
      ]
    },
    {
      "cell_type": "code",
      "execution_count": null,
      "metadata": {
        "colab": {
          "base_uri": "https://localhost:8080/"
        },
        "id": "Z45w9UCZM2xS",
        "outputId": "8ce92669-baed-4acd-83bf-c40a6f60aceb"
      },
      "outputs": [
        {
          "output_type": "stream",
          "name": "stdout",
          "text": [
            "      avgfreq         company\n",
            "1  -0.6115239  CharlotteRusse\n",
            "2  -0.7271324 CharmingCharlie\n",
            "3  -0.2813710          DIESEL\n",
            "4   2.7423597       Forever21\n",
            "5  -0.3939717    MattressFirm\n",
            "6  -0.6318340        NineWest\n",
            "7  -0.4257007      Perfumania\n",
            "8  -0.6667734        Rockport\n",
            "9   1.8877691           Sears\n",
            "10 -0.5669582    TrueReligion\n",
            "11 -0.7268609    beautybrands\n",
            "12  0.6905075         claires\n",
            "13 -0.3632564      ftdflowers\n",
            "14  0.1812492         hhgregg\n",
            "15  0.3049777           rue21\n",
            "16 -0.4114805       sugarfina\n"
          ]
        }
      ],
      "source": [
        "%%R\n",
        "Pre_announcement_mean$avgfreq<-scale(Pre_announcement_mean$avgfreq)\n",
        "Pre_announcement_mean"
      ]
    },
    {
      "cell_type": "code",
      "execution_count": null,
      "metadata": {
        "colab": {
          "base_uri": "https://localhost:8080/"
        },
        "id": "3zsm_gBmsJ9-",
        "outputId": "3e22ba4a-f578-4241-f6d7-fbf76c6c3971"
      },
      "outputs": [
        {
          "output_type": "stream",
          "name": "stdout",
          "text": [
            "New names:\n",
            "• `` -> `...1`\n"
          ]
        }
      ],
      "source": [
        "# average sentiment analysis of each company\n",
        "# load before and after datasets\n",
        "%%R\n",
        "\n",
        "before <- read_csv(paste0(PTH1,\"/before.csv\"),col_types = cols(...1 = col_skip(), id = col_character(),\n",
        "                                                                       in_reply_to_user_id = col_character(),\n",
        "                                                                       author_id = col_character(), \n",
        "                                                                       conversation_id = col_character()))\n",
        "\n",
        "\n",
        "before<-before[!before$company %in% c('DeanAndDeLuca', 'TailorBrands'),]"
      ]
    },
    {
      "cell_type": "code",
      "source": [
        "%%R\n",
        "tweets_R = before$text"
      ],
      "metadata": {
        "id": "6xGRpnCFdbKA"
      },
      "execution_count": null,
      "outputs": []
    },
    {
      "cell_type": "code",
      "execution_count": null,
      "metadata": {
        "colab": {
          "base_uri": "https://localhost:8080/",
          "height": 58
        },
        "id": "wRFdenNqCqAr",
        "outputId": "5a63cef6-3a79-489b-ac8b-ee4513ae005b"
      },
      "outputs": [
        {
          "output_type": "execute_result",
          "data": {
            "text/plain": [
              "<rpy2.robjects.vectors.StrVector object at 0x7f2f022980f0> [RTYPES.STRSXP]\n",
              "R classes: ('character',)\n",
              "[\"There we..., 'RT @Nint..., 'RT @Nint..., 'RT @Nint..., ..., 'RT @hhgr..., 'RT @hhgr..., 'RT @hhgr..., \"@hhgregg...]"
            ],
            "text/html": [
              "\n",
              "        <span>StrVector with 17399 elements.</span>\n",
              "        <table>\n",
              "        <tbody>\n",
              "          <tr>\n",
              "          \n",
              "            <td>\n",
              "            \"There we...\n",
              "            </td>\n",
              "          \n",
              "            <td>\n",
              "            'RT @Nint...\n",
              "            </td>\n",
              "          \n",
              "            <td>\n",
              "            'RT @Nint...\n",
              "            </td>\n",
              "          \n",
              "            <td>\n",
              "            ...\n",
              "            </td>\n",
              "          \n",
              "            <td>\n",
              "            'RT @hhgr...\n",
              "            </td>\n",
              "          \n",
              "            <td>\n",
              "            'RT @hhgr...\n",
              "            </td>\n",
              "          \n",
              "            <td>\n",
              "            \"@hhgregg...\n",
              "            </td>\n",
              "          \n",
              "          </tr>\n",
              "        </tbody>\n",
              "        </table>\n",
              "        "
            ]
          },
          "metadata": {},
          "execution_count": 179
        }
      ],
      "source": [
        "%R -o tweets_R tweets_R"
      ]
    },
    {
      "cell_type": "code",
      "execution_count": null,
      "metadata": {
        "id": "lLj0ROzcDH5n"
      },
      "outputs": [],
      "source": [
        "import re\n",
        "result = [re.sub(r'http\\S+', '', x) for x in tweets_R]"
      ]
    },
    {
      "cell_type": "code",
      "execution_count": null,
      "metadata": {
        "id": "s6q6RqRz2eGA"
      },
      "outputs": [],
      "source": [
        "# https://textblob.readthedocs.io/en/dev/quickstart.html#sentiment-analysis\n",
        "from textblob import TextBlob\n",
        "\n",
        "sentiment = []\n",
        "subjectivity = []\n",
        "\n",
        "for text in result:\n",
        "  x = TextBlob(text)\n",
        "  sentiment.append( x.sentiment[0] )\n",
        "  subjectivity.append( x.sentiment[1] ) # The subjectivity is a float within the range [0.0, 1.0] where 0.0 is very objective and 1.0 is very subjective."
      ]
    },
    {
      "cell_type": "code",
      "execution_count": null,
      "metadata": {
        "id": "SdITL6h90zjK"
      },
      "outputs": [],
      "source": [
        "# send back sentiment to R\n",
        "%R -i sentiment sentiment\n",
        "%R -i subjectivity subjectivity"
      ]
    },
    {
      "cell_type": "markdown",
      "metadata": {
        "id": "sdndAUUUCXIj"
      },
      "source": [
        "## T-tests"
      ]
    },
    {
      "cell_type": "code",
      "execution_count": null,
      "metadata": {
        "colab": {
          "base_uri": "https://localhost:8080/"
        },
        "id": "9zmt6nuk8MCm",
        "outputId": "9cfc5c9a-1d00-43af-f488-74d84c0aa4f0"
      },
      "outputs": [
        {
          "output_type": "stream",
          "name": "stdout",
          "text": [
            "\n",
            "\tWilcoxon rank sum exact test\n",
            "\n",
            "data:  cl1 and cl2\n",
            "W = 27, p-value = 0.7925\n",
            "alternative hypothesis: true location shift is not equal to 0\n",
            "\n"
          ]
        }
      ],
      "source": [
        "%%R\n",
        "# reputation ratio\n",
        "cl1=c(36.01754386,\n",
        "56.8627451,\n",
        "132.7731092,\n",
        "146.4516129,\n",
        "162.406015,\n",
        "67700)\n",
        "\n",
        "\n",
        "cl2=c(49.26624738,\n",
        "85.17520216,\n",
        "111.9669421,\n",
        "113.8297872,\n",
        "117.0572207,\n",
        "144.9460647,\n",
        "169.4719472,\n",
        "203.6018957,\n",
        "311.2852665,\n",
        "74100)\n",
        "\n",
        "\n",
        "wilcox.test(cl1,cl2)"
      ]
    },
    {
      "cell_type": "code",
      "execution_count": null,
      "metadata": {
        "colab": {
          "base_uri": "https://localhost:8080/"
        },
        "id": "LtzD-QDL4xzD",
        "outputId": "e2e14fad-7faa-4478-b2e3-5ed37cb6a42e"
      },
      "outputs": [
        {
          "output_type": "stream",
          "name": "stdout",
          "text": [
            "\n",
            "\tWelch Two Sample t-test\n",
            "\n",
            "data:  cluster1 and cluster2\n",
            "t = -3.0489, df = 11.109, p-value = 0.01095\n",
            "alternative hypothesis: true difference in means is not equal to 0\n",
            "95 percent confidence interval:\n",
            " -251248.32  -40725.35\n",
            "sample estimates:\n",
            "mean of x mean of y \n",
            " 44143.17 190130.00 \n",
            "\n"
          ]
        }
      ],
      "source": [
        "%%R\n",
        "# difference in the number of Followers\n",
        "\n",
        "cluster1=c(67700,\n",
        "43200,\n",
        "22700,\n",
        "14500,\n",
        "110600,\n",
        "6159)\n",
        "\n",
        "\n",
        "cluster2=c(192600,\n",
        "102700,\n",
        "74100,\n",
        "23500,\n",
        "99300,\n",
        "214800,\n",
        "429600,\n",
        "338700,\n",
        "63200,\n",
        "362800)\n",
        "\n",
        "\n",
        "t.test(cluster1,cluster2)"
      ]
    },
    {
      "cell_type": "code",
      "execution_count": null,
      "metadata": {
        "colab": {
          "base_uri": "https://localhost:8080/"
        },
        "id": "YsHvlQMi6YPt",
        "outputId": "9864890d-bc4e-4c9d-8c78-3cfadd40396e"
      },
      "outputs": [
        {
          "output_type": "stream",
          "name": "stdout",
          "text": [
            "\n",
            "\tWelch Two Sample t-test\n",
            "\n",
            "data:  clst1 and clst2\n",
            "t = -3.0244, df = 11.129, p-value = 0.01143\n",
            "alternative hypothesis: true difference in means is not equal to 0\n",
            "95 percent confidence interval:\n",
            " -1814.4995  -287.1672\n",
            "sample estimates:\n",
            "mean of x mean of y \n",
            " 280.1667 1331.0000 \n",
            "\n"
          ]
        }
      ],
      "source": [
        "%%R\n",
        "# difference in the number of lists\n",
        "\n",
        "clst1=c(171,\n",
        "255,\n",
        "833,\n",
        "155,\n",
        "266,\n",
        "1)\n",
        "\n",
        "\n",
        "clst2=c(477,\n",
        "742,\n",
        "3025,\n",
        "1692,\n",
        "1835,\n",
        "2503,\n",
        "606,\n",
        "2110,\n",
        "319,\n",
        "1)\n",
        "\n",
        "\n",
        "t.test(clst1,clst2)"
      ]
    },
    {
      "cell_type": "code",
      "execution_count": null,
      "metadata": {
        "id": "SCzqPM7r017c"
      },
      "outputs": [],
      "source": [
        "%%R\n",
        "# list into vector\n",
        "sentiment = unlist(sentiment)\n",
        "subjectivity = unlist(subjectivity)"
      ]
    },
    {
      "cell_type": "code",
      "execution_count": null,
      "metadata": {
        "id": "ATZdxLxl1avc"
      },
      "outputs": [],
      "source": [
        "%%R\n",
        "before$sentiment <- sentiment\n",
        "before$subjectivity <- subjectivity\n",
        "\n",
        "mean_sent_by_comp = sqldf(\"select avg(sentiment), company from before group by company\")\n",
        "\n",
        "mean_subj_by_comp = sqldf(\"select avg(subjectivity), company from before group by company\")\n",
        "\n",
        "\n",
        "mean_sent_by_comp<-mean_sent_by_comp[!mean_sent_by_comp$company %in% c('KikoMilanoUSA', ''),]\n",
        "mean_subj_by_comp<-mean_subj_by_comp[!mean_subj_by_comp$company %in% c('KikoMilanoUSA', ''),]"
      ]
    },
    {
      "cell_type": "code",
      "execution_count": null,
      "metadata": {
        "colab": {
          "base_uri": "https://localhost:8080/"
        },
        "id": "NS_sL_bt6GkB",
        "outputId": "a3d403f1-f13f-4b01-9633-627d18d2d44b"
      },
      "outputs": [
        {
          "output_type": "stream",
          "name": "stdout",
          "text": [
            "           company n_tweets\n",
            "1   CharlotteRusse      229\n",
            "2  CharmingCharlie       33\n",
            "3           DIESEL      645\n",
            "4        Forever21     5183\n",
            "6     MattressFirm      537\n",
            "7         NineWest      199\n",
            "8       Perfumania      386\n",
            "9         Rockport      120\n",
            "10           Sears     3797\n",
            "11    TrueReligion      286\n",
            "12    beautybrands       43\n",
            "13         claires     1938\n",
            "14      ftdflowers      557\n",
            "15         hhgregg     1260\n",
            "16           rue21     1531\n",
            "17       sugarfina      507\n"
          ]
        }
      ],
      "source": [
        "%%R\n",
        "# number of tweets before\n",
        "num_of_tweets_before = sqldf(\"select company, count(1) as n_tweets from before group by company\")\n",
        "num_of_tweets_before = num_of_tweets_before[num_of_tweets_before$company != \"KikoMilanoUSA\",]\n",
        "num_of_tweets_before"
      ]
    },
    {
      "cell_type": "code",
      "source": [
        "%%R\n",
        "unique(before$company)"
      ],
      "metadata": {
        "colab": {
          "base_uri": "https://localhost:8080/"
        },
        "id": "-MwxBjCqiAYV",
        "outputId": "9abd61ab-66af-4d96-d72f-90a9852a6f0d"
      },
      "execution_count": null,
      "outputs": [
        {
          "output_type": "stream",
          "name": "stdout",
          "text": [
            " [1] \"sugarfina\"       \"Forever21\"       \"CharmingCharlie\" \"ftdflowers\"     \n",
            " [5] \"DIESEL\"          \"CharlotteRusse\"  \"beautybrands\"    \"Sears\"          \n",
            " [9] \"MattressFirm\"    \"Rockport\"        \"NineWest\"        \"claires\"        \n",
            "[13] \"KikoMilanoUSA\"   \"Perfumania\"      \"TrueReligion\"    \"rue21\"          \n",
            "[17] \"hhgregg\"        \n"
          ]
        }
      ]
    },
    {
      "cell_type": "code",
      "execution_count": null,
      "metadata": {
        "colab": {
          "base_uri": "https://localhost:8080/"
        },
        "id": "u4iUUVmQ_UIQ",
        "outputId": "78103323-d957-4f6e-c0fb-2397bc83c351"
      },
      "outputs": [
        {
          "output_type": "stream",
          "name": "stdout",
          "text": [
            "           company    avg_inter_time\n",
            "1   CharlotteRusse -183.459210526315\n",
            "2  CharmingCharlie -20.2715711805555\n",
            "3           DIESEL -60.2850672877847\n",
            "4        Forever21 -8.32957673999743\n",
            "6     MattressFirm -77.8626865671642\n",
            "7         NineWest -214.747643097643\n",
            "8       Perfumania -106.192337662338\n",
            "9         Rockport -317.968207282913\n",
            "10           Sears -10.9990735862311\n",
            "11    TrueReligion -142.552631578947\n",
            "12    beautybrands -16.5759457671958\n",
            "13         claires  -20.065969712614\n",
            "14      ftdflowers -74.8082434052758\n",
            "15         hhgregg -30.8718030182685\n",
            "16           rue21 -27.2831045751633\n",
            "17       sugarfina -84.9220355731225\n"
          ]
        }
      ],
      "source": [
        "%%R\n",
        "# calculate mean inter-tweet time\n",
        "inter_tweet_time = data.frame()\n",
        "for(company in unique(before$company)){\n",
        "    v = as.POSIXct( before[before$company==company,]$created_at , format = \"%a %b %d %H:%M:%S %z %Y\", tz=\"GMT\")\n",
        "    v = v[order(v , decreasing = TRUE )]\n",
        "    d = diff(v)\n",
        "    inter_tweet_time = rbind(inter_tweet_time, c(company, mean(d)))\n",
        "}\n",
        "\n",
        "names(inter_tweet_time) = c('company','avg_inter_time')\n",
        "#inter_tweet_time = inter_tweet_time[order(num_of_tweets_before$company),]\n",
        "inter_tweet_time = sqldf(\"select company, avg_inter_time/60 as avg_inter_time from inter_tweet_time group by company\") # we do this to keep the order of companies\n",
        "inter_tweet_time <- inter_tweet_time[inter_tweet_time$company != 'KikoMilanoUSA',]\n",
        "inter_tweet_time"
      ]
    },
    {
      "cell_type": "code",
      "execution_count": null,
      "metadata": {
        "id": "T4ZpaCPLSW-H"
      },
      "outputs": [],
      "source": [
        "%%R\n",
        "\n",
        "Company_type = c( 'Beauty',\n",
        "                  'Clothing',\n",
        "                  'Clothing',\n",
        "                  'Department Store',\n",
        "                  'Clothing',\n",
        "                  'Clothing',\n",
        "                  'Other',\n",
        "                  'Department Store',\n",
        "                  #'Beauty',\n",
        "                  'Mattresses',\n",
        "                  'Clothing',\n",
        "                  'Beauty',\n",
        "                  'Clothing',\n",
        "                  'Other',\n",
        "                  'Department Store',\n",
        "                  'Other',\n",
        "                  'Clothing'\n",
        "                  )\n",
        "                  \n",
        "Followers = c(8403,\n",
        "              72100,\n",
        "              28500,\n",
        "              65400,\n",
        "              179000,\n",
        "              1900000,\n",
        "              12800,\n",
        "              31800,\n",
        "              #4367,\n",
        "              47200,\n",
        "              45400,\n",
        "              19000,\n",
        "              6294,\n",
        "              32400,\n",
        "              198100,\n",
        "              22300,\n",
        "              44600)\n",
        "\n",
        "\n",
        "Following = c(\n",
        "                707,\n",
        "                9438,\n",
        "                148,\n",
        "                225,\n",
        "                737,\n",
        "                351,\n",
        "                21,\n",
        "                900,\n",
        "                #47,\n",
        "                554,\n",
        "                387,\n",
        "                159,\n",
        "                940,\n",
        "                1091,\n",
        "                9293,\n",
        "                172,\n",
        "                193\n",
        "                )\n",
        "\n",
        "# mean web searched worldwide 1 month before the announcedment on Google Trends\n",
        "Google_trends = c(\n",
        "                  69.84,\n",
        "                  74.9,\n",
        "                  59.45,\n",
        "                  35.86,\n",
        "                  84.86,\n",
        "                  54.93,\n",
        "                  25.31,\n",
        "                  50.06,\n",
        "                  #\n",
        "                  30.77,\n",
        "                  64.93,\n",
        "                  62.46,\n",
        "                  87.38,\n",
        "                  65.19,\n",
        "                  28,\n",
        "                  32.75,\n",
        "                  11.51\n",
        "                  )\n",
        "\n",
        "public = c( 'Private',\n",
        "            'Private',\n",
        "            'Private',\n",
        "            'Private',\n",
        "            'Private',\n",
        "            'Private',\n",
        "            'Public',\n",
        "            'Public',\n",
        "            #'Private',\n",
        "            'Private',\n",
        "            'Private',\n",
        "            'Public',\n",
        "            'Private', \n",
        "            'Private',\n",
        "            'Public',\n",
        "            'Private', \n",
        "            'Private')"
      ]
    },
    {
      "cell_type": "code",
      "source": [
        "%%R\n",
        "\n",
        "df = data.frame(\n",
        "                  'company' = Pre_announcement_mean$company,\n",
        "                  'Pre_announcement_mean' = Pre_announcement_mean$avgfreq, \n",
        "                  'Company_type' = as.factor(Company_type), \n",
        "                  'Short_term_boost' = Short_term_boost$shrt_boost,\n",
        "                  'Long_term_boost' = Long_term_boost$shrt_boost,\n",
        "                  'avg_inter_time' = inter_tweet_time$avg_inter_time,\n",
        "                  'num_of_tweets_before' = num_of_tweets_before$n_tweets,\n",
        "                  'Followers' = Followers,\n",
        "                  'Following' = Following,\n",
        "                  'Google_trends' = Google_trends,\n",
        "                  'public' = as.factor(public)\n",
        "                )"
      ],
      "metadata": {
        "id": "xJLs5uv0eCeR"
      },
      "execution_count": null,
      "outputs": []
    },
    {
      "cell_type": "code",
      "source": [
        "%%R\n",
        "length(num_of_tweets_before$n_tweets)"
      ],
      "metadata": {
        "colab": {
          "base_uri": "https://localhost:8080/"
        },
        "id": "2z_GabdPfujb",
        "outputId": "5424dd90-6e71-40a8-bc7f-68f41ffd2628"
      },
      "execution_count": null,
      "outputs": [
        {
          "output_type": "stream",
          "name": "stdout",
          "text": [
            "[1] 16\n"
          ]
        }
      ]
    },
    {
      "cell_type": "code",
      "execution_count": null,
      "metadata": {
        "id": "Fi0Txefuzx2u",
        "colab": {
          "base_uri": "https://localhost:8080/"
        },
        "outputId": "d362129b-9e2f-4129-ead5-20b9bed03001"
      },
      "outputs": [
        {
          "output_type": "stream",
          "name": "stdout",
          "text": [
            "\n",
            "Call:\n",
            "lm(formula = df$Short_term_boost ~ df$Pre_announcement_mean + \n",
            "    df$Company_type + df$Google_trends + df$num_of_tweets_before + \n",
            "    df$public)\n",
            "\n",
            "Residuals:\n",
            "   Min     1Q Median     3Q    Max \n",
            "-85.76 -52.15 -17.59  12.49 252.08 \n",
            "\n",
            "Coefficients:\n",
            "                                  Estimate Std. Error t value Pr(>|t|)    \n",
            "(Intercept)                     -1797.9842   794.0483  -2.264  0.05796 .  \n",
            "df$Pre_announcement_mean        -2244.8735  1005.6039  -2.232  0.06076 .  \n",
            "df$Company_typeBeauty            -139.4301   127.4465  -1.094  0.31015    \n",
            "df$Company_typeDepartment Store  -151.4306   165.2964  -0.916  0.39008    \n",
            "df$Company_typeMattresses        1107.1338   181.4265   6.102  0.00049 ***\n",
            "df$Company_typeOther             -122.1629    98.9935  -1.234  0.25700    \n",
            "df$Google_trends                    2.6056     1.8317   1.422  0.19789    \n",
            "df$num_of_tweets_before             1.7068     0.7012   2.434  0.04515 *  \n",
            "df$publicPublic                   154.7660   144.9097   1.068  0.32095    \n",
            "---\n",
            "Signif. codes:  0 ‘***’ 0.001 ‘**’ 0.01 ‘*’ 0.05 ‘.’ 0.1 ‘ ’ 1\n",
            "\n",
            "Residual standard error: 121.4 on 7 degrees of freedom\n",
            "Multiple R-squared:  0.9639,\tAdjusted R-squared:  0.9227 \n",
            "F-statistic: 23.38 on 8 and 7 DF,  p-value: 0.0002197\n",
            "\n"
          ]
        }
      ],
      "source": [
        "# *** predicct short-term boost ***\n",
        "%%R\n",
        "\n",
        "df$Company_type <- relevel(df$Company_type, ref = 'Clothing') # Clothing\n",
        "df$public <- relevel(df$public, ref = 'Private')\n",
        "\n",
        "\n",
        "library(MASS)\n",
        "# Fit the full model \n",
        "full.model <-lm(df$Short_term_boost ~ \n",
        "                                df$Pre_announcement_mean +\n",
        "                                #df$mean_sent_by_comp +\n",
        "                                #df$avg_inter_time +\n",
        "                                df$Company_type +\n",
        "                                df$Google_trends +\n",
        "                                df$num_of_tweets_before +\n",
        "                                df$public\n",
        "                                #+df$Followers+\n",
        "                                #df$Following +\n",
        "                                #df$mean_subj_by_comp\n",
        "                )\n",
        "\n",
        "# Stepwise regression model\n",
        "step.model <- stepAIC(full.model, direction = \"both\", \n",
        "                      trace = FALSE)\n",
        "summary(step.model)"
      ]
    },
    {
      "cell_type": "code",
      "execution_count": null,
      "metadata": {
        "id": "nOk6ocNd9yf7",
        "colab": {
          "base_uri": "https://localhost:8080/"
        },
        "outputId": "d067f786-225b-4053-e4d4-e552d72468ba"
      },
      "outputs": [
        {
          "output_type": "stream",
          "name": "stdout",
          "text": [
            "\n",
            "Call:\n",
            "lm(formula = log(Long_term_boost) ~ Pre_announcement_mean + Followers + \n",
            "    Short_term_boost, data = df)\n",
            "\n",
            "Residuals:\n",
            "         5          7         10         11         12 \n",
            "-0.0001057  0.0251870  0.0037865 -0.0231138 -0.0057540 \n",
            "\n",
            "Coefficients:\n",
            "                        Estimate Std. Error t value Pr(>|t|)   \n",
            "(Intercept)            2.280e+00  2.640e-02  86.370  0.00737 **\n",
            "Pre_announcement_mean  2.999e+00  3.269e-02  91.756  0.00694 **\n",
            "Followers              6.765e-06  2.633e-07  25.691  0.02477 * \n",
            "Short_term_boost      -6.078e-05  1.184e-04  -0.514  0.69799   \n",
            "---\n",
            "Signif. codes:  0 ‘***’ 0.001 ‘**’ 0.01 ‘*’ 0.05 ‘.’ 0.1 ‘ ’ 1\n",
            "\n",
            "Residual standard error: 0.03487 on 1 degrees of freedom\n",
            "  (11 observations deleted due to missingness)\n",
            "Multiple R-squared:  0.9999,\tAdjusted R-squared:  0.9995 \n",
            "F-statistic:  2951 on 3 and 1 DF,  p-value: 0.01353\n",
            "\n"
          ]
        }
      ],
      "source": [
        "# *** predict long-term boost ***\n",
        "%%R\n",
        "model2<-lm(log(Long_term_boost) ~     Pre_announcement_mean +\n",
        "                                      #as.numeric(avg_inter_time) +\n",
        "                                      Followers + \n",
        "                                      Short_term_boost,\n",
        "                                    data = df\n",
        "                                      )\n",
        "                                      \n",
        "\n",
        "summary(model2)"
      ]
    },
    {
      "cell_type": "code",
      "source": [
        "%%R\n",
        "(df$Long_term_boost)"
      ],
      "metadata": {
        "colab": {
          "base_uri": "https://localhost:8080/"
        },
        "id": "SxpMkDqUzcn7",
        "outputId": "71d351f1-da56-4185-f2cf-5c44f827db4d"
      },
      "execution_count": null,
      "outputs": [
        {
          "output_type": "stream",
          "name": "stdout",
          "text": [
            " [1]  -1.1095238  -0.5661765  -1.4305556 -66.0275362   9.9468391  -0.8606061\n",
            " [7]   3.0507246  -1.4130435 -35.0646552   2.3807471   1.2272727  79.5925926\n",
            "[13] -17.0676692 -35.2916667 -10.2169540 -13.6327586\n"
          ]
        }
      ]
    },
    {
      "cell_type": "code",
      "execution_count": null,
      "metadata": {
        "id": "ZjAWcsEU_EwP",
        "colab": {
          "base_uri": "https://localhost:8080/"
        },
        "outputId": "68beb9b4-9cac-4e90-edc6-2b54ea04808a"
      },
      "outputs": [
        {
          "output_type": "stream",
          "name": "stdout",
          "text": [
            " [1] \"company\"               \"Pre_announcement_mean\" \"Company_type\"         \n",
            " [4] \"Short_term_boost\"      \"Long_term_boost\"       \"avg_inter_time\"       \n",
            " [7] \"num_of_tweets_before\"  \"Followers\"             \"Following\"            \n",
            "[10] \"Google_trends\"         \"public\"               \n"
          ]
        }
      ],
      "source": [
        "%%R\n",
        "names(df)"
      ]
    }
  ],
  "metadata": {
    "colab": {
      "provenance": [],
      "collapsed_sections": [
        "n7dEqYAJ7W5N",
        "qxpi_vMWYVoz",
        "9u1uVXgqYsoe",
        "ute8tPcvN5qR",
        "x9A2MNCPOCHK"
      ],
      "include_colab_link": true
    },
    "kernelspec": {
      "display_name": "Python 3",
      "name": "python3"
    },
    "language_info": {
      "name": "python"
    }
  },
  "nbformat": 4,
  "nbformat_minor": 0
}