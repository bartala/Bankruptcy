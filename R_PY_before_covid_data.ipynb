{
  "cells": [
    {
      "cell_type": "markdown",
      "metadata": {
        "id": "view-in-github",
        "colab_type": "text"
      },
      "source": [
        "<a href=\"https://colab.research.google.com/github/bartala/Bankruptcy/blob/main/R_PY_before_covid_data.ipynb\" target=\"_parent\"><img src=\"https://colab.research.google.com/assets/colab-badge.svg\" alt=\"Open In Colab\"/></a>"
      ]
    },
    {
      "cell_type": "code",
      "source": [
        "!pip uninstall rpy2 -y\n",
        "!pip install rpy2==3.0.0"
      ],
      "metadata": {
        "id": "3x2qTLB9RiBi",
        "colab": {
          "base_uri": "https://localhost:8080/"
        },
        "outputId": "9ab61e30-27b7-4e34-d297-a22302b42c13"
      },
      "execution_count": 1,
      "outputs": [
        {
          "output_type": "stream",
          "name": "stdout",
          "text": [
            "Found existing installation: rpy2 3.5.5\n",
            "Uninstalling rpy2-3.5.5:\n",
            "  Successfully uninstalled rpy2-3.5.5\n",
            "Looking in indexes: https://pypi.org/simple, https://us-python.pkg.dev/colab-wheels/public/simple/\n",
            "Collecting rpy2==3.0.0\n",
            "  Downloading rpy2-3.0.0.tar.gz (117 kB)\n",
            "\u001b[2K     \u001b[90m━━━━━━━━━━━━━━━━━━━━━━━━━━━━━━━━━━━━━━━\u001b[0m \u001b[32m117.0/117.0 KB\u001b[0m \u001b[31m1.9 MB/s\u001b[0m eta \u001b[36m0:00:00\u001b[0m\n",
            "\u001b[?25h  Preparing metadata (setup.py) ... \u001b[?25l\u001b[?25hdone\n",
            "Requirement already satisfied: pytest in /usr/local/lib/python3.9/dist-packages (from rpy2==3.0.0) (7.2.2)\n",
            "Requirement already satisfied: jinja2 in /usr/local/lib/python3.9/dist-packages (from rpy2==3.0.0) (3.1.2)\n",
            "Collecting simplegeneric\n",
            "  Downloading simplegeneric-0.8.1.zip (12 kB)\n",
            "  Preparing metadata (setup.py) ... \u001b[?25l\u001b[?25hdone\n",
            "Requirement already satisfied: cffi>=1.0.0 in /usr/local/lib/python3.9/dist-packages (from rpy2==3.0.0) (1.15.1)\n",
            "Requirement already satisfied: pycparser in /usr/local/lib/python3.9/dist-packages (from cffi>=1.0.0->rpy2==3.0.0) (2.21)\n",
            "Requirement already satisfied: MarkupSafe>=2.0 in /usr/local/lib/python3.9/dist-packages (from jinja2->rpy2==3.0.0) (2.1.2)\n",
            "Requirement already satisfied: attrs>=19.2.0 in /usr/local/lib/python3.9/dist-packages (from pytest->rpy2==3.0.0) (22.2.0)\n",
            "Requirement already satisfied: tomli>=1.0.0 in /usr/local/lib/python3.9/dist-packages (from pytest->rpy2==3.0.0) (2.0.1)\n",
            "Requirement already satisfied: pluggy<2.0,>=0.12 in /usr/local/lib/python3.9/dist-packages (from pytest->rpy2==3.0.0) (1.0.0)\n",
            "Requirement already satisfied: exceptiongroup>=1.0.0rc8 in /usr/local/lib/python3.9/dist-packages (from pytest->rpy2==3.0.0) (1.1.1)\n",
            "Requirement already satisfied: packaging in /usr/local/lib/python3.9/dist-packages (from pytest->rpy2==3.0.0) (23.0)\n",
            "Requirement already satisfied: iniconfig in /usr/local/lib/python3.9/dist-packages (from pytest->rpy2==3.0.0) (2.0.0)\n",
            "Building wheels for collected packages: rpy2, simplegeneric\n",
            "  Building wheel for rpy2 (setup.py) ... \u001b[?25l\u001b[?25hdone\n",
            "  Created wheel for rpy2: filename=rpy2-3.0.0-py3-none-any.whl size=106519 sha256=bce0d071f564c3afd086f8d144a771af73de6e85d5fd3256b0e8dcc2fa756f42\n",
            "  Stored in directory: /root/.cache/pip/wheels/cf/c3/f6/e528c1472dbc76917f525029a132cd7f61efc97b3d8ba7085f\n",
            "  Building wheel for simplegeneric (setup.py) ... \u001b[?25l\u001b[?25hdone\n",
            "  Created wheel for simplegeneric: filename=simplegeneric-0.8.1-py3-none-any.whl size=5077 sha256=ef751f73a77a1f799bef9644d107e8b10b5267ad7275f5644a11a02f55779f45\n",
            "  Stored in directory: /root/.cache/pip/wheels/a7/bd/0d/d95b629ee4a7368830202858e45ac76cd837a42cafa50da81e\n",
            "Successfully built rpy2 simplegeneric\n",
            "Installing collected packages: simplegeneric, rpy2\n",
            "Successfully installed rpy2-3.0.0 simplegeneric-0.8.1\n"
          ]
        }
      ]
    },
    {
      "cell_type": "code",
      "execution_count": 2,
      "metadata": {
        "id": "rmSThJ7xXJ_w",
        "colab": {
          "base_uri": "https://localhost:8080/"
        },
        "outputId": "9f2683af-cbb2-4b11-a11c-d4b9661ca666"
      },
      "outputs": [
        {
          "output_type": "stream",
          "name": "stderr",
          "text": [
            "/usr/local/lib/python3.9/dist-packages/rpy2/robjects/pandas2ri.py:15: FutureWarning: pandas.core.index is deprecated and will be removed in a future version. The public classes are available in the top-level namespace.\n",
            "  from pandas.core.index import Index as PandasIndex\n"
          ]
        }
      ],
      "source": [
        "%load_ext rpy2.ipython"
      ]
    },
    {
      "cell_type": "code",
      "source": [
        "from google.colab import drive\n",
        "drive.mount('/content/drive')"
      ],
      "metadata": {
        "colab": {
          "base_uri": "https://localhost:8080/"
        },
        "id": "RqOZlyIb3kme",
        "outputId": "6b25c452-9697-4194-b212-7de6e2029623"
      },
      "execution_count": 3,
      "outputs": [
        {
          "output_type": "stream",
          "name": "stdout",
          "text": [
            "Mounted at /content/drive\n"
          ]
        }
      ]
    },
    {
      "cell_type": "code",
      "source": [
        "%%R\n",
        "lib_loc <- \"/content/drive/MyDrive/Colab Notebooks/r-lib\""
      ],
      "metadata": {
        "id": "xxQ3F75eI6a7"
      },
      "execution_count": 4,
      "outputs": []
    },
    {
      "cell_type": "code",
      "execution_count": null,
      "metadata": {
        "id": "LTznazgAlv60"
      },
      "outputs": [],
      "source": [
        "%%R\n",
        "install.packages(\"data.table\", lib =lib_loc)\n",
        "install.packages(\"ggpubr\",lib =lib_loc)\n",
        "install.packages(\"DescTools\", lib =lib_loc)\n",
        "install.packages(\"NbClust\", lib =lib_loc)\n",
        "install.packages(\"factoextra\", lib =lib_loc)\n",
        "install.packages(\"gsubfn\", lib =lib_loc)\n",
        "install.packages(\"proto\", lib =lib_loc)\n",
        "install.packages(\"ggplot2\", lib =lib_loc)\n",
        "install.packages(\"RSQLite\", lib =lib_loc)\n",
        "install.packages(\"sqldf\", lib=lib_loc)\n",
        "install.packages(\"chron\",lib= lib_loc)\n",
        "install.packages(\"minpack.lm\",repos = \"http://cran.us.r-project.org\",lib=lib_loc)\n",
        "install.packages(\"AICcmodavg\",repos = \"http://cran.us.r-project.org\", lib=lib_loc)\n",
        "install.packages(\"gridExtra\",repos = \"http://cran.us.r-project.org\", lib=lib_loc)+\n",
        "install.packages(\"rsq\",repos = \"http://cran.us.r-project.org\", lib=lib_loc)\n"
      ]
    },
    {
      "cell_type": "code",
      "source": [
        "%%R\n",
        "library(RSQLite, lib.loc = lib_loc)\n",
        "library(proto, lib.loc = lib_loc) \n",
        "library(gsubfn, lib.loc = lib_loc) \n",
        "library(readr, lib.loc = lib_loc)\n",
        "library(ggplot2, lib.loc = lib_loc)\n",
        "library(ggpubr, lib.loc = lib_loc)\n",
        "library(pROC, lib.loc = lib_loc)\n",
        "library(DescTools, lib.loc = lib_loc)\n",
        "library(NbClust, lib.loc = lib_loc)\n",
        "library(factoextra, lib.loc = lib_loc)\n",
        "library(sqldf, lib.loc = lib_loc)\n",
        "library(cowplot,lib.loc = lib_loc)\n",
        "library(AICcmodavg,lib.loc = lib_loc)\n",
        "library(minpack.lm,lib.loc = lib_loc)\n",
        "library(gridExtra,lib.loc = lib_loc)\n",
        "library(rsq,lib.loc = lib_loc)\n",
        "library(broom)"
      ],
      "metadata": {
        "id": "ZETkQZh35OuA",
        "colab": {
          "base_uri": "https://localhost:8080/"
        },
        "outputId": "95dbf6ed-d33f-4795-ecb2-4eafad0b6232"
      },
      "execution_count": 5,
      "outputs": [
        {
          "output_type": "stream",
          "name": "stderr",
          "text": [
            "WARNING:rpy2.rinterface_lib.callbacks:R[write to console]: Type 'citation(\"pROC\")' for a citation.\n",
            "\n",
            "WARNING:rpy2.rinterface_lib.callbacks:R[write to console]: \n",
            "Attaching package: ‘pROC’\n",
            "\n",
            "\n",
            "WARNING:rpy2.rinterface_lib.callbacks:R[write to console]: The following objects are masked from ‘package:stats’:\n",
            "\n",
            "    cov, smooth, var\n",
            "\n",
            "\n",
            "WARNING:rpy2.rinterface_lib.callbacks:R[write to console]: Welcome! Want to learn more? See two factoextra-related books at https://goo.gl/ve3WBa\n",
            "\n",
            "WARNING:rpy2.rinterface_lib.callbacks:R[write to console]: \n",
            "Attaching package: ‘cowplot’\n",
            "\n",
            "\n",
            "WARNING:rpy2.rinterface_lib.callbacks:R[write to console]: The following object is masked from ‘package:ggpubr’:\n",
            "\n",
            "    get_legend\n",
            "\n",
            "\n"
          ]
        }
      ]
    },
    {
      "cell_type": "code",
      "execution_count": 6,
      "metadata": {
        "id": "7dflQ4aTF2o-"
      },
      "outputs": [],
      "source": [
        "%%R\n",
        "\n",
        "# before covid data\n",
        "PTH1 = \"/content/drive/MyDrive/Colab Notebooks/BIU_HEB/data/before_covid_data\""
      ]
    },
    {
      "cell_type": "markdown",
      "source": [
        "### Load datasets of tweets posted before and after the announcment"
      ],
      "metadata": {
        "id": "BzDEXbQowqZF"
      }
    },
    {
      "cell_type": "code",
      "execution_count": 7,
      "metadata": {
        "colab": {
          "base_uri": "https://localhost:8080/"
        },
        "id": "uscGMn7rF45E",
        "outputId": "46d84cbc-98fa-4bf0-9f9f-3f9daa05ff5f"
      },
      "outputs": [
        {
          "output_type": "stream",
          "name": "stderr",
          "text": [
            "WARNING:rpy2.rinterface_lib.callbacks:R[write to console]: New names:\n",
            "• `` -> `...1`\n",
            "\n",
            "WARNING:rpy2.rinterface_lib.callbacks:R[write to console]: New names:\n",
            "• `` -> `...1`\n",
            "\n"
          ]
        }
      ],
      "source": [
        "%%R\n",
        "\n",
        "after <- read_csv(paste0(PTH1,\"/after.csv\"),col_types = cols(...1 = col_skip(), id = col_character(),\n",
        "                                                                     conversation_id = col_character(),\n",
        "                                                                     author_id = col_character(), \n",
        "                                                                     in_reply_to_user_id = col_character()))\n",
        "\n",
        "before <- read_csv(paste0(PTH1,\"/before.csv\"),col_types = cols(...1 = col_skip(), id = col_character(),\n",
        "                                                                       in_reply_to_user_id = col_character(),\n",
        "                                                                       author_id = col_character(), \n",
        "                                                                       conversation_id = col_character()))"
      ]
    },
    {
      "cell_type": "markdown",
      "source": [
        "### Descriptive statistics and data cleaning"
      ],
      "metadata": {
        "id": "Jf7VbYzWw7Vp"
      }
    },
    {
      "cell_type": "code",
      "source": [
        "%%R\n",
        "\n",
        "# nuber of unique users in the posts\n",
        "print(paste0(\"unique users: \",\n",
        "              length(\n",
        "                        union(after$author_id,before$author_id)\n",
        "                        )\n",
        "            )\n",
        "    )\n",
        "\n",
        "\n",
        "# total number of tweets\n",
        "print(\n",
        "    paste0(\"total number of tweets (before and after the announcement): \",\n",
        "           nrow(before) + nrow(after)\n",
        "          )\n",
        "      )\n",
        "\n",
        "# number of tweets per company\n",
        "table(after$company)"
      ],
      "metadata": {
        "colab": {
          "base_uri": "https://localhost:8080/",
          "height": 0
        },
        "id": "JXyPg_pma3AA",
        "outputId": "9dcb8a53-38d8-4bbb-bc4e-b68c06e97548"
      },
      "execution_count": 8,
      "outputs": [
        {
          "output_type": "display_data",
          "data": {
            "text/plain": [
              "[1] \"unique users: 26915\"\n",
              "[1] \"total number of tweets (before and after the announcement): 40125\"\n",
              "\n",
              "   beautybrands  CharlotteRusse CharmingCharlie         claires          DIESEL \n",
              "             66             326              15            4479             733 \n",
              "      Forever21      ftdflowers         hhgregg   KikoMilanoUSA    MattressFirm \n",
              "           4665              98             491              69            1192 \n",
              "       NineWest      Perfumania        Rockport           rue21           Sears \n",
              "            345             398             131            1425            7034 \n",
              "      sugarfina    TrueReligion \n",
              "            125            1134 \n"
            ]
          },
          "metadata": {}
        }
      ]
    },
    {
      "cell_type": "code",
      "source": [
        "%%R\n",
        "\n",
        "companies = data.frame(\n",
        "    user_id = c(  '568555816',\n",
        "                  '28384755',\n",
        "                  '44379956',\n",
        "                  '204812327',\n",
        "                  '205671915',\n",
        "                  '9635662',\n",
        "                  '137761841',\n",
        "                  '19464428',\n",
        "                  '18455097',\n",
        "                  '69634216',\n",
        "                  '115748758',\n",
        "                  '22148825',\n",
        "                  '94142495',\n",
        "                  '23860949',\n",
        "                  '17972364',\n",
        "                  '23480462'\n",
        "                        ),\n",
        "   user_name = c( 'sugarfina',\n",
        "                  'Forever21',\n",
        "                  'CharmingCharlie',\n",
        "                  'ftdflowers',\n",
        "                  'DIESEL',\n",
        "                  'CharlotteRusse',\n",
        "                  'beautybrands',\n",
        "                  'Sears',\n",
        "                  'MattressFirm',\n",
        "                  'Rockport',\n",
        "                  'NineWest',\n",
        "                  'claires',\n",
        "                  'Perfumania',\n",
        "                  'TrueReligion',\n",
        "                  'rue21',\n",
        "                  'hhgregg'\n",
        "      )\n",
        " )\n",
        "\n",
        "\n",
        "\n",
        "x_after <- nrow(after)\n",
        "x_before <- nrow(before)\n",
        "\n",
        "# delete messages originated by the companies\n",
        "after <- after[!after$author_id %in% companies$user_id,]\n",
        "before <- before[!before$author_id %in% companies$user_id,]\n",
        "\n",
        "print( paste0(\"deleted tweets by companies after: \", x_after - nrow(after) ) )\n",
        "print( paste0(\"deleted tweets by companies before: \", x_before - nrow(before) ) )"
      ],
      "metadata": {
        "colab": {
          "base_uri": "https://localhost:8080/",
          "height": 0
        },
        "id": "OicDpuEGxyiG",
        "outputId": "acb0defc-35c3-49e4-89e0-06361b826e90"
      },
      "execution_count": 9,
      "outputs": [
        {
          "output_type": "display_data",
          "data": {
            "text/plain": [
              "[1] \"deleted tweets by companies after: 52\"\n",
              "[1] \"deleted tweets by companies before: 23\"\n"
            ]
          },
          "metadata": {}
        }
      ]
    },
    {
      "cell_type": "markdown",
      "source": [
        "### Temporal analysis: number of mentions per day and company"
      ],
      "metadata": {
        "id": "q53sBIjV1kur"
      }
    },
    {
      "cell_type": "code",
      "execution_count": 10,
      "metadata": {
        "id": "z9T1Xx3pGTU4"
      },
      "outputs": [],
      "source": [
        "%%R\n",
        "\n",
        "before$created_at<-as.character(before$created_at)\n",
        "after$created_at<-as.character(after$created_at)\n",
        "\n",
        "# keep only day date (no time)\n",
        "before$date <- substr(before$created_at,0,10)\n",
        "after$date <- substr(after$created_at,0,10)\n",
        "\n",
        "temp_before <- sqldf(\"select company, date, count(1) as freq from before group by company, date\")\n",
        "\n",
        "temp_before$when<-'before'\n",
        "\n",
        "temp_after <- sqldf(\"select company, date, count(1) as freq \n",
        "                      from after group by company, date\")\n",
        "\n",
        "temp_after$when<-'after'\n",
        "\n",
        "tmp <- rbind(temp_before, temp_after)\n",
        "\n",
        "# save temporary file for future analyses\n",
        "write.csv(tmp,file='data0.csv')"
      ]
    },
    {
      "cell_type": "code",
      "source": [
        "import pandas as pd\n",
        "\n",
        "SHEET_ID = '1XSarc8ncWfJzZ2MmQI6ysPNeEPmXk9C3I7leca-k3q0'\n",
        "SHEET_NAME = 'Sheet1'\n",
        "url = f'https://docs.google.com/spreadsheets/d/{SHEET_ID}/gviz/tq?tqx=out:csv&sheet={SHEET_NAME}'\n",
        "df = pd.read_csv(url)\n",
        "df['Date_of_Bankruptcy'] = pd.to_datetime(df[\"Date of Bankruptcy\"]).dt.strftime('%Y-%m-%d')\n",
        "df = df[['Twitter Username', 'Date_of_Bankruptcy']]"
      ],
      "metadata": {
        "id": "U_HsOwgr-Ump"
      },
      "execution_count": 11,
      "outputs": []
    },
    {
      "cell_type": "code",
      "source": [
        "# move df into R\n",
        "%R -i df"
      ],
      "metadata": {
        "id": "pyLRelrqGjYL"
      },
      "execution_count": 12,
      "outputs": []
    },
    {
      "cell_type": "code",
      "source": [
        "%%R \n",
        "tmp <- merge(tmp,df, by.x='company', by.y='Twitter.Username')\n",
        "\n",
        "tmp$number <- as.Date(tmp$date) - as.Date(tmp$Date_of_Bankruptcy) # day diff from bankruptcy\n",
        "\n",
        "tmp <- tmp[!tmp$company %in% c('KikoMilanoUSA','CharmingCharlie'),]"
      ],
      "metadata": {
        "id": "gb0ZnMJ524Nl"
      },
      "execution_count": 13,
      "outputs": []
    },
    {
      "cell_type": "code",
      "source": [
        "%R tmp"
      ],
      "metadata": {
        "colab": {
          "base_uri": "https://localhost:8080/",
          "height": 0
        },
        "id": "f0kqZW5IemJp",
        "outputId": "b1d360ad-386d-464d-cabd-bdf9c5ea1f22"
      },
      "execution_count": 14,
      "outputs": [
        {
          "output_type": "execute_result",
          "data": {
            "text/plain": [
              "          company        date  freq    when Date_of_Bankruptcy  number\n",
              "1    beautybrands  2018-12-06     1  before         2019-01-06   -31.0\n",
              "2    beautybrands  2018-12-24     1  before         2019-01-06   -13.0\n",
              "3    beautybrands  2018-12-25     1  before         2019-01-06   -12.0\n",
              "4    beautybrands  2018-12-27     2  before         2019-01-06   -10.0\n",
              "5    beautybrands  2018-12-28     3  before         2019-01-06    -9.0\n",
              "..            ...         ...   ...     ...                ...     ...\n",
              "860  TrueReligion  2017-07-30    15   after         2017-07-05    25.0\n",
              "861  TrueReligion  2017-07-31     7   after         2017-07-05    26.0\n",
              "862  TrueReligion  2017-08-01     5   after         2017-07-05    27.0\n",
              "863  TrueReligion  2017-08-02    13   after         2017-07-05    28.0\n",
              "864  TrueReligion  2017-08-04    15   after         2017-07-05    30.0\n",
              "\n",
              "[836 rows x 6 columns]"
            ],
            "text/html": [
              "\n",
              "  <div id=\"df-b0679ff6-4291-4add-8536-31d49c89c6a1\">\n",
              "    <div class=\"colab-df-container\">\n",
              "      <div>\n",
              "<style scoped>\n",
              "    .dataframe tbody tr th:only-of-type {\n",
              "        vertical-align: middle;\n",
              "    }\n",
              "\n",
              "    .dataframe tbody tr th {\n",
              "        vertical-align: top;\n",
              "    }\n",
              "\n",
              "    .dataframe thead th {\n",
              "        text-align: right;\n",
              "    }\n",
              "</style>\n",
              "<table border=\"1\" class=\"dataframe\">\n",
              "  <thead>\n",
              "    <tr style=\"text-align: right;\">\n",
              "      <th></th>\n",
              "      <th>company</th>\n",
              "      <th>date</th>\n",
              "      <th>freq</th>\n",
              "      <th>when</th>\n",
              "      <th>Date_of_Bankruptcy</th>\n",
              "      <th>number</th>\n",
              "    </tr>\n",
              "  </thead>\n",
              "  <tbody>\n",
              "    <tr>\n",
              "      <th>1</th>\n",
              "      <td>beautybrands</td>\n",
              "      <td>2018-12-06</td>\n",
              "      <td>1</td>\n",
              "      <td>before</td>\n",
              "      <td>2019-01-06</td>\n",
              "      <td>-31.0</td>\n",
              "    </tr>\n",
              "    <tr>\n",
              "      <th>2</th>\n",
              "      <td>beautybrands</td>\n",
              "      <td>2018-12-24</td>\n",
              "      <td>1</td>\n",
              "      <td>before</td>\n",
              "      <td>2019-01-06</td>\n",
              "      <td>-13.0</td>\n",
              "    </tr>\n",
              "    <tr>\n",
              "      <th>3</th>\n",
              "      <td>beautybrands</td>\n",
              "      <td>2018-12-25</td>\n",
              "      <td>1</td>\n",
              "      <td>before</td>\n",
              "      <td>2019-01-06</td>\n",
              "      <td>-12.0</td>\n",
              "    </tr>\n",
              "    <tr>\n",
              "      <th>4</th>\n",
              "      <td>beautybrands</td>\n",
              "      <td>2018-12-27</td>\n",
              "      <td>2</td>\n",
              "      <td>before</td>\n",
              "      <td>2019-01-06</td>\n",
              "      <td>-10.0</td>\n",
              "    </tr>\n",
              "    <tr>\n",
              "      <th>5</th>\n",
              "      <td>beautybrands</td>\n",
              "      <td>2018-12-28</td>\n",
              "      <td>3</td>\n",
              "      <td>before</td>\n",
              "      <td>2019-01-06</td>\n",
              "      <td>-9.0</td>\n",
              "    </tr>\n",
              "    <tr>\n",
              "      <th>...</th>\n",
              "      <td>...</td>\n",
              "      <td>...</td>\n",
              "      <td>...</td>\n",
              "      <td>...</td>\n",
              "      <td>...</td>\n",
              "      <td>...</td>\n",
              "    </tr>\n",
              "    <tr>\n",
              "      <th>860</th>\n",
              "      <td>TrueReligion</td>\n",
              "      <td>2017-07-30</td>\n",
              "      <td>15</td>\n",
              "      <td>after</td>\n",
              "      <td>2017-07-05</td>\n",
              "      <td>25.0</td>\n",
              "    </tr>\n",
              "    <tr>\n",
              "      <th>861</th>\n",
              "      <td>TrueReligion</td>\n",
              "      <td>2017-07-31</td>\n",
              "      <td>7</td>\n",
              "      <td>after</td>\n",
              "      <td>2017-07-05</td>\n",
              "      <td>26.0</td>\n",
              "    </tr>\n",
              "    <tr>\n",
              "      <th>862</th>\n",
              "      <td>TrueReligion</td>\n",
              "      <td>2017-08-01</td>\n",
              "      <td>5</td>\n",
              "      <td>after</td>\n",
              "      <td>2017-07-05</td>\n",
              "      <td>27.0</td>\n",
              "    </tr>\n",
              "    <tr>\n",
              "      <th>863</th>\n",
              "      <td>TrueReligion</td>\n",
              "      <td>2017-08-02</td>\n",
              "      <td>13</td>\n",
              "      <td>after</td>\n",
              "      <td>2017-07-05</td>\n",
              "      <td>28.0</td>\n",
              "    </tr>\n",
              "    <tr>\n",
              "      <th>864</th>\n",
              "      <td>TrueReligion</td>\n",
              "      <td>2017-08-04</td>\n",
              "      <td>15</td>\n",
              "      <td>after</td>\n",
              "      <td>2017-07-05</td>\n",
              "      <td>30.0</td>\n",
              "    </tr>\n",
              "  </tbody>\n",
              "</table>\n",
              "<p>836 rows × 6 columns</p>\n",
              "</div>\n",
              "      <button class=\"colab-df-convert\" onclick=\"convertToInteractive('df-b0679ff6-4291-4add-8536-31d49c89c6a1')\"\n",
              "              title=\"Convert this dataframe to an interactive table.\"\n",
              "              style=\"display:none;\">\n",
              "        \n",
              "  <svg xmlns=\"http://www.w3.org/2000/svg\" height=\"24px\"viewBox=\"0 0 24 24\"\n",
              "       width=\"24px\">\n",
              "    <path d=\"M0 0h24v24H0V0z\" fill=\"none\"/>\n",
              "    <path d=\"M18.56 5.44l.94 2.06.94-2.06 2.06-.94-2.06-.94-.94-2.06-.94 2.06-2.06.94zm-11 1L8.5 8.5l.94-2.06 2.06-.94-2.06-.94L8.5 2.5l-.94 2.06-2.06.94zm10 10l.94 2.06.94-2.06 2.06-.94-2.06-.94-.94-2.06-.94 2.06-2.06.94z\"/><path d=\"M17.41 7.96l-1.37-1.37c-.4-.4-.92-.59-1.43-.59-.52 0-1.04.2-1.43.59L10.3 9.45l-7.72 7.72c-.78.78-.78 2.05 0 2.83L4 21.41c.39.39.9.59 1.41.59.51 0 1.02-.2 1.41-.59l7.78-7.78 2.81-2.81c.8-.78.8-2.07 0-2.86zM5.41 20L4 18.59l7.72-7.72 1.47 1.35L5.41 20z\"/>\n",
              "  </svg>\n",
              "      </button>\n",
              "      \n",
              "  <style>\n",
              "    .colab-df-container {\n",
              "      display:flex;\n",
              "      flex-wrap:wrap;\n",
              "      gap: 12px;\n",
              "    }\n",
              "\n",
              "    .colab-df-convert {\n",
              "      background-color: #E8F0FE;\n",
              "      border: none;\n",
              "      border-radius: 50%;\n",
              "      cursor: pointer;\n",
              "      display: none;\n",
              "      fill: #1967D2;\n",
              "      height: 32px;\n",
              "      padding: 0 0 0 0;\n",
              "      width: 32px;\n",
              "    }\n",
              "\n",
              "    .colab-df-convert:hover {\n",
              "      background-color: #E2EBFA;\n",
              "      box-shadow: 0px 1px 2px rgba(60, 64, 67, 0.3), 0px 1px 3px 1px rgba(60, 64, 67, 0.15);\n",
              "      fill: #174EA6;\n",
              "    }\n",
              "\n",
              "    [theme=dark] .colab-df-convert {\n",
              "      background-color: #3B4455;\n",
              "      fill: #D2E3FC;\n",
              "    }\n",
              "\n",
              "    [theme=dark] .colab-df-convert:hover {\n",
              "      background-color: #434B5C;\n",
              "      box-shadow: 0px 1px 3px 1px rgba(0, 0, 0, 0.15);\n",
              "      filter: drop-shadow(0px 1px 2px rgba(0, 0, 0, 0.3));\n",
              "      fill: #FFFFFF;\n",
              "    }\n",
              "  </style>\n",
              "\n",
              "      <script>\n",
              "        const buttonEl =\n",
              "          document.querySelector('#df-b0679ff6-4291-4add-8536-31d49c89c6a1 button.colab-df-convert');\n",
              "        buttonEl.style.display =\n",
              "          google.colab.kernel.accessAllowed ? 'block' : 'none';\n",
              "\n",
              "        async function convertToInteractive(key) {\n",
              "          const element = document.querySelector('#df-b0679ff6-4291-4add-8536-31d49c89c6a1');\n",
              "          const dataTable =\n",
              "            await google.colab.kernel.invokeFunction('convertToInteractive',\n",
              "                                                     [key], {});\n",
              "          if (!dataTable) return;\n",
              "\n",
              "          const docLinkHtml = 'Like what you see? Visit the ' +\n",
              "            '<a target=\"_blank\" href=https://colab.research.google.com/notebooks/data_table.ipynb>data table notebook</a>'\n",
              "            + ' to learn more about interactive tables.';\n",
              "          element.innerHTML = '';\n",
              "          dataTable['output_type'] = 'display_data';\n",
              "          await google.colab.output.renderOutput(dataTable, element);\n",
              "          const docLink = document.createElement('div');\n",
              "          docLink.innerHTML = docLinkHtml;\n",
              "          element.appendChild(docLink);\n",
              "        }\n",
              "      </script>\n",
              "    </div>\n",
              "  </div>\n",
              "  "
            ]
          },
          "metadata": {},
          "execution_count": 14
        }
      ]
    },
    {
      "cell_type": "code",
      "source": [
        "# calc avg. mention time before and after the bankruptcy announcment\n",
        "\n",
        "%%R\n",
        "\n",
        "df1 <- sqldf(\"select company, avg(freq) as avg_freq from tmp where `when`='after' group by company\") # after\n",
        "df1$When = \"After\"\n",
        "\n",
        "df2 <- sqldf(\"select company, avg(freq) as avg_freq from tmp where `when`='before' group by company\") # before\n",
        "df2$When = \"Before\"\n",
        "\n",
        "df_1 <- rbind(df1,df2)\n",
        "\n",
        "df_1"
      ],
      "metadata": {
        "colab": {
          "base_uri": "https://localhost:8080/",
          "height": 0
        },
        "id": "m2F7bbKDCRfs",
        "outputId": "7a4ba87f-38bc-4326-afb2-89fc2b409820"
      },
      "execution_count": 15,
      "outputs": [
        {
          "output_type": "display_data",
          "data": {
            "text/plain": [
              "          company   avg_freq   When\n",
              "1  CharlotteRusse  11.642857  After\n",
              "2          DIESEL  23.645161  After\n",
              "3       Forever21 155.500000  After\n",
              "4    MattressFirm  38.000000  After\n",
              "5        NineWest  11.896552  After\n",
              "6      Perfumania  15.920000  After\n",
              "7        Rockport   4.481481  After\n",
              "8           Sears 226.483871  After\n",
              "9    TrueReligion  36.548387  After\n",
              "10   beautybrands   4.400000  After\n",
              "11        claires 144.161290  After\n",
              "12     ftdflowers   3.769231  After\n",
              "13        hhgregg  15.838710  After\n",
              "14          rue21  45.870968  After\n",
              "15      sugarfina   4.592593  After\n",
              "16 CharlotteRusse   7.633333 Before\n",
              "17         DIESEL  23.888889 Before\n",
              "18      Forever21 172.766667 Before\n",
              "19   MattressFirm  18.344828 Before\n",
              "20       NineWest   6.633333 Before\n",
              "21     Perfumania  16.782609 Before\n",
              "22       Rockport   4.913043 Before\n",
              "23          Sears 130.689655 Before\n",
              "24   TrueReligion   9.827586 Before\n",
              "25   beautybrands   1.954545 Before\n",
              "26        claires  71.740741 Before\n",
              "27     ftdflowers  19.857143 Before\n",
              "28        hhgregg  46.666667 Before\n",
              "29          rue21  52.758621 Before\n",
              "30      sugarfina  17.482759 Before\n"
            ]
          },
          "metadata": {}
        }
      ]
    },
    {
      "cell_type": "markdown",
      "source": [
        "#### Companies with more tweets after the announcement (on average) than before the announcment \n",
        "\n",
        "(i.e., they were not forgotten by the public)\n"
      ],
      "metadata": {
        "id": "rTbNe7f4YN64"
      }
    },
    {
      "cell_type": "code",
      "source": [
        "%%R \n",
        "df_2 <- data.frame(\n",
        "              Company = df1$company, \n",
        "              After = df1$avg_freq, \n",
        "              Before = df2$avg_freq\n",
        "              )"
      ],
      "metadata": {
        "id": "-9tQyhXvSzx5"
      },
      "execution_count": 16,
      "outputs": []
    },
    {
      "cell_type": "code",
      "source": [
        "# unforgotten companies\n",
        "%%R\n",
        "ggplot(df_1[df_1$company %in% (df_2[df_2$After >= df_2$Before,'Company']),], aes(company, avg_freq, fill=When)) +\n",
        "  geom_bar(stat = \"identity\", position = 'dodge') +\n",
        "  theme_bw() +\n",
        "  ggtitle(\"Unforgotten Companies\") +\n",
        "  ylab(\"Average company mention 30 days before and after the announcement\") + xlab(\"Company's Twitter screen name\")+\n",
        "  coord_flip()"
      ],
      "metadata": {
        "colab": {
          "base_uri": "https://localhost:8080/",
          "height": 0
        },
        "id": "QD9ZC-wgO4I7",
        "outputId": "40bf07ef-0b2d-4fef-c520-7b46198ea4db"
      },
      "execution_count": 17,
      "outputs": [
        {
          "output_type": "display_data",
          "data": {
            "image/png": "[encoded data removed]"
          },
          "metadata": {}
        }
      ]
    },
    {
      "cell_type": "code",
      "source": [
        "# forgotten companies\n",
        "%%R\n",
        "ggplot(df_1[df_1$company %in% (df_2[df_2$After < df_2$Before,'Company']),], aes(company, avg_freq, fill=When)) +\n",
        "  geom_bar(stat = \"identity\", position = 'dodge') +\n",
        "  theme_bw() +\n",
        "  ggtitle(\"Forgotten Companies\") +\n",
        "  ylab(\"Average company mention 30 days before and after the announcement\") + xlab(\"Company's Twitter screen name\")+\n",
        "  coord_flip()"
      ],
      "metadata": {
        "colab": {
          "base_uri": "https://localhost:8080/",
          "height": 0
        },
        "id": "5oc1mX8xV9jO",
        "outputId": "faf308a0-b64d-4a46-ec43-e249ebeec7a7"
      },
      "execution_count": 18,
      "outputs": [
        {
          "output_type": "display_data",
          "data": {
            "image/png": "[encoded data removed]"
          },
          "metadata": {}
        }
      ]
    },
    {
      "cell_type": "code",
      "source": [
        "%R tmp"
      ],
      "metadata": {
        "colab": {
          "base_uri": "https://localhost:8080/",
          "height": 0
        },
        "id": "Iqyj20S-fEqe",
        "outputId": "a8b1c6a1-1ca4-4146-af3c-5ad342191269"
      },
      "execution_count": 19,
      "outputs": [
        {
          "output_type": "execute_result",
          "data": {
            "text/plain": [
              "          company        date  freq    when Date_of_Bankruptcy  number\n",
              "1    beautybrands  2018-12-06     1  before         2019-01-06   -31.0\n",
              "2    beautybrands  2018-12-24     1  before         2019-01-06   -13.0\n",
              "3    beautybrands  2018-12-25     1  before         2019-01-06   -12.0\n",
              "4    beautybrands  2018-12-27     2  before         2019-01-06   -10.0\n",
              "5    beautybrands  2018-12-28     3  before         2019-01-06    -9.0\n",
              "..            ...         ...   ...     ...                ...     ...\n",
              "860  TrueReligion  2017-07-30    15   after         2017-07-05    25.0\n",
              "861  TrueReligion  2017-07-31     7   after         2017-07-05    26.0\n",
              "862  TrueReligion  2017-08-01     5   after         2017-07-05    27.0\n",
              "863  TrueReligion  2017-08-02    13   after         2017-07-05    28.0\n",
              "864  TrueReligion  2017-08-04    15   after         2017-07-05    30.0\n",
              "\n",
              "[836 rows x 6 columns]"
            ],
            "text/html": [
              "\n",
              "  <div id=\"df-2494bf05-7ef0-43ee-8575-fc9d7d93d6ca\">\n",
              "    <div class=\"colab-df-container\">\n",
              "      <div>\n",
              "<style scoped>\n",
              "    .dataframe tbody tr th:only-of-type {\n",
              "        vertical-align: middle;\n",
              "    }\n",
              "\n",
              "    .dataframe tbody tr th {\n",
              "        vertical-align: top;\n",
              "    }\n",
              "\n",
              "    .dataframe thead th {\n",
              "        text-align: right;\n",
              "    }\n",
              "</style>\n",
              "<table border=\"1\" class=\"dataframe\">\n",
              "  <thead>\n",
              "    <tr style=\"text-align: right;\">\n",
              "      <th></th>\n",
              "      <th>company</th>\n",
              "      <th>date</th>\n",
              "      <th>freq</th>\n",
              "      <th>when</th>\n",
              "      <th>Date_of_Bankruptcy</th>\n",
              "      <th>number</th>\n",
              "    </tr>\n",
              "  </thead>\n",
              "  <tbody>\n",
              "    <tr>\n",
              "      <th>1</th>\n",
              "      <td>beautybrands</td>\n",
              "      <td>2018-12-06</td>\n",
              "      <td>1</td>\n",
              "      <td>before</td>\n",
              "      <td>2019-01-06</td>\n",
              "      <td>-31.0</td>\n",
              "    </tr>\n",
              "    <tr>\n",
              "      <th>2</th>\n",
              "      <td>beautybrands</td>\n",
              "      <td>2018-12-24</td>\n",
              "      <td>1</td>\n",
              "      <td>before</td>\n",
              "      <td>2019-01-06</td>\n",
              "      <td>-13.0</td>\n",
              "    </tr>\n",
              "    <tr>\n",
              "      <th>3</th>\n",
              "      <td>beautybrands</td>\n",
              "      <td>2018-12-25</td>\n",
              "      <td>1</td>\n",
              "      <td>before</td>\n",
              "      <td>2019-01-06</td>\n",
              "      <td>-12.0</td>\n",
              "    </tr>\n",
              "    <tr>\n",
              "      <th>4</th>\n",
              "      <td>beautybrands</td>\n",
              "      <td>2018-12-27</td>\n",
              "      <td>2</td>\n",
              "      <td>before</td>\n",
              "      <td>2019-01-06</td>\n",
              "      <td>-10.0</td>\n",
              "    </tr>\n",
              "    <tr>\n",
              "      <th>5</th>\n",
              "      <td>beautybrands</td>\n",
              "      <td>2018-12-28</td>\n",
              "      <td>3</td>\n",
              "      <td>before</td>\n",
              "      <td>2019-01-06</td>\n",
              "      <td>-9.0</td>\n",
              "    </tr>\n",
              "    <tr>\n",
              "      <th>...</th>\n",
              "      <td>...</td>\n",
              "      <td>...</td>\n",
              "      <td>...</td>\n",
              "      <td>...</td>\n",
              "      <td>...</td>\n",
              "      <td>...</td>\n",
              "    </tr>\n",
              "    <tr>\n",
              "      <th>860</th>\n",
              "      <td>TrueReligion</td>\n",
              "      <td>2017-07-30</td>\n",
              "      <td>15</td>\n",
              "      <td>after</td>\n",
              "      <td>2017-07-05</td>\n",
              "      <td>25.0</td>\n",
              "    </tr>\n",
              "    <tr>\n",
              "      <th>861</th>\n",
              "      <td>TrueReligion</td>\n",
              "      <td>2017-07-31</td>\n",
              "      <td>7</td>\n",
              "      <td>after</td>\n",
              "      <td>2017-07-05</td>\n",
              "      <td>26.0</td>\n",
              "    </tr>\n",
              "    <tr>\n",
              "      <th>862</th>\n",
              "      <td>TrueReligion</td>\n",
              "      <td>2017-08-01</td>\n",
              "      <td>5</td>\n",
              "      <td>after</td>\n",
              "      <td>2017-07-05</td>\n",
              "      <td>27.0</td>\n",
              "    </tr>\n",
              "    <tr>\n",
              "      <th>863</th>\n",
              "      <td>TrueReligion</td>\n",
              "      <td>2017-08-02</td>\n",
              "      <td>13</td>\n",
              "      <td>after</td>\n",
              "      <td>2017-07-05</td>\n",
              "      <td>28.0</td>\n",
              "    </tr>\n",
              "    <tr>\n",
              "      <th>864</th>\n",
              "      <td>TrueReligion</td>\n",
              "      <td>2017-08-04</td>\n",
              "      <td>15</td>\n",
              "      <td>after</td>\n",
              "      <td>2017-07-05</td>\n",
              "      <td>30.0</td>\n",
              "    </tr>\n",
              "  </tbody>\n",
              "</table>\n",
              "<p>836 rows × 6 columns</p>\n",
              "</div>\n",
              "      <button class=\"colab-df-convert\" onclick=\"convertToInteractive('df-2494bf05-7ef0-43ee-8575-fc9d7d93d6ca')\"\n",
              "              title=\"Convert this dataframe to an interactive table.\"\n",
              "              style=\"display:none;\">\n",
              "        \n",
              "  <svg xmlns=\"http://www.w3.org/2000/svg\" height=\"24px\"viewBox=\"0 0 24 24\"\n",
              "       width=\"24px\">\n",
              "    <path d=\"M0 0h24v24H0V0z\" fill=\"none\"/>\n",
              "    <path d=\"M18.56 5.44l.94 2.06.94-2.06 2.06-.94-2.06-.94-.94-2.06-.94 2.06-2.06.94zm-11 1L8.5 8.5l.94-2.06 2.06-.94-2.06-.94L8.5 2.5l-.94 2.06-2.06.94zm10 10l.94 2.06.94-2.06 2.06-.94-2.06-.94-.94-2.06-.94 2.06-2.06.94z\"/><path d=\"M17.41 7.96l-1.37-1.37c-.4-.4-.92-.59-1.43-.59-.52 0-1.04.2-1.43.59L10.3 9.45l-7.72 7.72c-.78.78-.78 2.05 0 2.83L4 21.41c.39.39.9.59 1.41.59.51 0 1.02-.2 1.41-.59l7.78-7.78 2.81-2.81c.8-.78.8-2.07 0-2.86zM5.41 20L4 18.59l7.72-7.72 1.47 1.35L5.41 20z\"/>\n",
              "  </svg>\n",
              "      </button>\n",
              "      \n",
              "  <style>\n",
              "    .colab-df-container {\n",
              "      display:flex;\n",
              "      flex-wrap:wrap;\n",
              "      gap: 12px;\n",
              "    }\n",
              "\n",
              "    .colab-df-convert {\n",
              "      background-color: #E8F0FE;\n",
              "      border: none;\n",
              "      border-radius: 50%;\n",
              "      cursor: pointer;\n",
              "      display: none;\n",
              "      fill: #1967D2;\n",
              "      height: 32px;\n",
              "      padding: 0 0 0 0;\n",
              "      width: 32px;\n",
              "    }\n",
              "\n",
              "    .colab-df-convert:hover {\n",
              "      background-color: #E2EBFA;\n",
              "      box-shadow: 0px 1px 2px rgba(60, 64, 67, 0.3), 0px 1px 3px 1px rgba(60, 64, 67, 0.15);\n",
              "      fill: #174EA6;\n",
              "    }\n",
              "\n",
              "    [theme=dark] .colab-df-convert {\n",
              "      background-color: #3B4455;\n",
              "      fill: #D2E3FC;\n",
              "    }\n",
              "\n",
              "    [theme=dark] .colab-df-convert:hover {\n",
              "      background-color: #434B5C;\n",
              "      box-shadow: 0px 1px 3px 1px rgba(0, 0, 0, 0.15);\n",
              "      filter: drop-shadow(0px 1px 2px rgba(0, 0, 0, 0.3));\n",
              "      fill: #FFFFFF;\n",
              "    }\n",
              "  </style>\n",
              "\n",
              "      <script>\n",
              "        const buttonEl =\n",
              "          document.querySelector('#df-2494bf05-7ef0-43ee-8575-fc9d7d93d6ca button.colab-df-convert');\n",
              "        buttonEl.style.display =\n",
              "          google.colab.kernel.accessAllowed ? 'block' : 'none';\n",
              "\n",
              "        async function convertToInteractive(key) {\n",
              "          const element = document.querySelector('#df-2494bf05-7ef0-43ee-8575-fc9d7d93d6ca');\n",
              "          const dataTable =\n",
              "            await google.colab.kernel.invokeFunction('convertToInteractive',\n",
              "                                                     [key], {});\n",
              "          if (!dataTable) return;\n",
              "\n",
              "          const docLinkHtml = 'Like what you see? Visit the ' +\n",
              "            '<a target=\"_blank\" href=https://colab.research.google.com/notebooks/data_table.ipynb>data table notebook</a>'\n",
              "            + ' to learn more about interactive tables.';\n",
              "          element.innerHTML = '';\n",
              "          dataTable['output_type'] = 'display_data';\n",
              "          await google.colab.output.renderOutput(dataTable, element);\n",
              "          const docLink = document.createElement('div');\n",
              "          docLink.innerHTML = docLinkHtml;\n",
              "          element.appendChild(docLink);\n",
              "        }\n",
              "      </script>\n",
              "    </div>\n",
              "  </div>\n",
              "  "
            ]
          },
          "metadata": {},
          "execution_count": 19
        }
      ]
    },
    {
      "cell_type": "markdown",
      "source": [
        "### Model comparison: **Unforgotten**"
      ],
      "metadata": {
        "id": "FIb4aovwnWAx"
      }
    },
    {
      "cell_type": "code",
      "source": [
        "# Unforgotten companies\n",
        "\n",
        "%%R\n",
        "\n",
        "Unforgotten <- tmp[ (tmp$company) %in% (df_2[df_2$After >= df_2$Before,'Company']) & tmp$number >=0, ] # number:= number of days since bankruptcy announcement\n",
        "\n",
        "Unforgotten <- sqldf(\"select avg(freq) as avg, number from Unforgotten group by number\",method = \"name__class\")\n",
        "\n",
        "Unforgotten_companies <- df_2[df_2$After >= df_2$Before,'Company']\n",
        "# number of companies\n",
        "print( Unforgotten_companies )"
      ],
      "metadata": {
        "colab": {
          "base_uri": "https://localhost:8080/",
          "height": 0
        },
        "id": "Plx-awbhqn9R",
        "outputId": "2e819d86-b32e-46aa-b4e5-83d64ae590a5"
      },
      "execution_count": 20,
      "outputs": [
        {
          "output_type": "display_data",
          "data": {
            "text/plain": [
              "[1] \"CharlotteRusse\" \"MattressFirm\"   \"NineWest\"       \"Sears\"         \n",
              "[5] \"TrueReligion\"   \"beautybrands\"   \"claires\"       \n"
            ]
          },
          "metadata": {}
        }
      ]
    },
    {
      "cell_type": "code",
      "source": [
        "# models\n",
        "%%R\n",
        "\n",
        "Unforgotten$x = Unforgotten$number\n",
        "Unforgotten$y = Unforgotten$avg\n",
        "\n",
        "# Exponential\n",
        "expmodel <- lm(y~exp(x), data = Unforgotten)\n",
        "print(summary(expmodel))\n",
        "\n",
        "# Log\n",
        "logmodel <- lm(y~log(x+0.01), data = Unforgotten)\n",
        "print(summary(logmodel))\n",
        "\n",
        "# Hyperbolic\n",
        "hyper_fit <- nlsLM(y ~ a/(1 + b * x), data = Unforgotten, start = list(a = 1, b = 1))\n",
        "print(summary(hyper_fit))\n",
        "\n",
        "# Biexponential\n",
        "biexp_fit <- nlsLM(y ~ a1*exp(-b1*x) + a2*exp(-b2*x), data = Unforgotten, start = c(a1 = 5, b1 = 2, a2 = 3, b2 = 0.5))\n",
        "print(summary(biexp_fit))\n",
        "\n",
        "# Fit a power law curve using nls\n",
        "power_fit <- nls(y ~ a * (x+0.0001)^(-b), data = Unforgotten, start = list(a = 1, b = 1))\n",
        "summary(power_fit)"
      ],
      "metadata": {
        "colab": {
          "base_uri": "https://localhost:8080/",
          "height": 0
        },
        "id": "r0d66gjf1AFb",
        "outputId": "d8c33870-32fb-4651-eb5f-3038ed728def"
      },
      "execution_count": 21,
      "outputs": [
        {
          "output_type": "display_data",
          "data": {
            "text/plain": [
              "\n",
              "Call:\n",
              "lm(formula = y ~ exp(x), data = Unforgotten)\n",
              "\n",
              "Residuals:\n",
              "   Min     1Q Median     3Q    Max \n",
              "-51.71 -40.25 -30.33   2.28 381.00 \n",
              "\n",
              "Coefficients:\n",
              "              Estimate Std. Error t value Pr(>|t|)    \n",
              "(Intercept)  7.400e+01  1.713e+01   4.321 0.000166 ***\n",
              "exp(x)      -6.635e-13  8.297e-12  -0.080 0.936806    \n",
              "---\n",
              "Signif. codes:  0 ‘***’ 0.001 ‘**’ 0.01 ‘*’ 0.05 ‘.’ 0.1 ‘ ’ 1\n",
              "\n",
              "Residual standard error: 91.96 on 29 degrees of freedom\n",
              "Multiple R-squared:  0.0002205,\tAdjusted R-squared:  -0.03425 \n",
              "F-statistic: 0.006396 on 1 and 29 DF,  p-value: 0.9368\n",
              "\n",
              "\n",
              "Call:\n",
              "lm(formula = y ~ log(x + 0.01), data = Unforgotten)\n",
              "\n",
              "Residuals:\n",
              "    Min      1Q  Median      3Q     Max \n",
              "-68.192 -38.921  -6.265  23.877 140.866 \n",
              "\n",
              "Coefficients:\n",
              "              Estimate Std. Error t value Pr(>|t|)    \n",
              "(Intercept)    185.627     16.484   11.26 4.18e-12 ***\n",
              "log(x + 0.01)  -49.529      6.077   -8.15 5.49e-09 ***\n",
              "---\n",
              "Signif. codes:  0 ‘***’ 0.001 ‘**’ 0.01 ‘*’ 0.05 ‘.’ 0.1 ‘ ’ 1\n",
              "\n",
              "Residual standard error: 50.7 on 29 degrees of freedom\n",
              "Multiple R-squared:  0.6961,\tAdjusted R-squared:  0.6856 \n",
              "F-statistic: 66.43 on 1 and 29 DF,  p-value: 5.486e-09\n",
              "\n",
              "\n",
              "Formula: y ~ a/(1 + b * x)\n",
              "\n",
              "Parameters:\n",
              "    Estimate Std. Error t value Pr(>|t|)    \n",
              "a  4.550e+02  8.436e+01   5.394  8.5e-06 ***\n",
              "b -5.524e+07  4.455e+14   0.000        1    \n",
              "---\n",
              "Signif. codes:  0 ‘***’ 0.001 ‘**’ 0.01 ‘*’ 0.05 ‘.’ 0.1 ‘ ’ 1\n",
              "\n",
              "Residual standard error: 84.36 on 29 degrees of freedom\n",
              "\n",
              "Number of iterations to convergence: 36 \n",
              "Achieved convergence tolerance: 1.49e-08\n",
              "\n",
              "\n",
              "Formula: y ~ a1 * exp(-b1 * x) + a2 * exp(-b2 * x)\n",
              "\n",
              "Parameters:\n",
              "    Estimate Std. Error t value Pr(>|t|)    \n",
              "a1 447.06712   31.06670  14.391  3.5e-14 ***\n",
              "b1   0.63501    0.09307   6.823  2.5e-07 ***\n",
              "a2  22.96165   10.36163   2.216   0.0353 *  \n",
              "b2  -0.03781    0.01981  -1.909   0.0670 .  \n",
              "---\n",
              "Signif. codes:  0 ‘***’ 0.001 ‘**’ 0.01 ‘*’ 0.05 ‘.’ 0.1 ‘ ’ 1\n",
              "\n",
              "Residual standard error: 31.37 on 27 degrees of freedom\n",
              "\n",
              "Number of iterations to convergence: 16 \n",
              "Achieved convergence tolerance: 1.49e-08\n",
              "\n",
              "\n",
              "Formula: y ~ a * (x + 1e-04)^(-b)\n",
              "\n",
              "Parameters:\n",
              "  Estimate Std. Error t value Pr(>|t|)    \n",
              "a 94.69783   11.65930   8.122 5.89e-09 ***\n",
              "b  0.17258    0.01636  10.550 1.93e-11 ***\n",
              "---\n",
              "Signif. codes:  0 ‘***’ 0.001 ‘**’ 0.01 ‘*’ 0.05 ‘.’ 0.1 ‘ ’ 1\n",
              "\n",
              "Residual standard error: 52.04 on 29 degrees of freedom\n",
              "\n",
              "Number of iterations to convergence: 11 \n",
              "Achieved convergence tolerance: 9.757e-07\n",
              "\n"
            ]
          },
          "metadata": {}
        }
      ]
    },
    {
      "cell_type": "code",
      "source": [
        "%%R \n",
        "\n",
        "gof <- function(model){\n",
        "    \n",
        "    return( \n",
        "              glance(model) %>% \n",
        "                  dplyr::select(adj.r.squared, sigma, AIC, BIC, p.value)\n",
        "    )\n",
        "\n",
        "}\n",
        "\n",
        "\n",
        "print(paste0(\"AIC exp: \", gof(expmodel)$AIC))\n",
        "print(paste0(\"AIC log: \",gof(logmodel)$AIC))\n",
        "print(paste0(\"AIC hypr: \",AIC(hyper_fit)))\n",
        "print(paste0(\"AIC biex: \",AIC(biexp_fit)))\n",
        "print(paste0(\"AIC power: \",AIC(power_fit)))"
      ],
      "metadata": {
        "colab": {
          "base_uri": "https://localhost:8080/",
          "height": 0
        },
        "id": "sKfbH211gugn",
        "outputId": "ff4e3bb6-bcd7-45fa-dcc8-b893df642f84"
      },
      "execution_count": 22,
      "outputs": [
        {
          "output_type": "display_data",
          "data": {
            "text/plain": [
              "[1] \"AIC exp: 372.23167611912\"\n",
              "[1] \"AIC log: 335.315558286263\"\n",
              "[1] \"AIC hypr: 366.882380109537\"\n",
              "[1] \"AIC biex: 307.330233703395\"\n",
              "[1] \"AIC power: 336.935250756214\"\n"
            ]
          },
          "metadata": {}
        }
      ]
    },
    {
      "cell_type": "code",
      "source": [
        "# clac R^2 for non-linear models\n",
        "%%R\n",
        "r_sqared <- function(model){\n",
        "    \n",
        "                    y <- Unforgotten$y\n",
        "                    # Calculate R-squared\n",
        "                    y_hat <- predict(model) # predicted values\n",
        "                    rss <- sum(resid(model)^2) # residual sum of squares\n",
        "                    tss <- sum((y - mean(y))^2) # total sum of squares\n",
        "                    r_squared <- 1 - rss/tss # R-squared\n",
        "                    return(r_squared)\n",
        "\n",
        "}\n",
        "\n",
        "print(paste0(\"AIC exp: \",   round(r_sqared(expmodel),2)))\n",
        "print(paste0(\"AIC log: \",   round(r_sqared(logmodel),2)))\n",
        "print(paste0(\"AIC hypr: \",  round(r_sqared(hyper_fit),2)))\n",
        "print(paste0(\"AIC biex: \",  round(r_sqared(biexp_fit),2)))\n",
        "print(paste0(\"AIC power: \", round(r_sqared(power_fit),2)))"
      ],
      "metadata": {
        "colab": {
          "base_uri": "https://localhost:8080/",
          "height": 0
        },
        "id": "Ge5zN--VwR4N",
        "outputId": "bc56178b-87ed-42b6-c784-31cae0e4106e"
      },
      "execution_count": 23,
      "outputs": [
        {
          "output_type": "display_data",
          "data": {
            "text/plain": [
              "[1] \"AIC exp: 0\"\n",
              "[1] \"AIC log: 0.7\"\n",
              "[1] \"AIC hypr: 0.16\"\n",
              "[1] \"AIC biex: 0.89\"\n",
              "[1] \"AIC power: 0.68\"\n"
            ]
          },
          "metadata": {}
        }
      ]
    },
    {
      "cell_type": "code",
      "source": [
        "%%R\n",
        "\n",
        "ggplot(Unforgotten, aes(x=number, y=avg)) + \n",
        "  geom_point(shape = 21, colour = \"black\", fill = \"black\", size = 2, stroke = 1) +\n",
        "  scale_x_continuous(trans = \"log10\", limits = c(1, 30)) +\n",
        "  scale_y_continuous(trans = \"log10\", limits = c(10, 400)) +\n",
        "  #coord_cartesian(ylim = c(0,500)) +\n",
        "  geom_smooth(method=\"lm\", aes(color=\"Exponential\"), formula= (y ~ exp(x)), se=FALSE, linetype = 1) +\n",
        "  geom_smooth(method = \"glm\", aes(color=\"Log\"), formula = y~x, se=FALSE, method.args = list(family = gaussian(link = 'log')),linetype = 1) +\n",
        "  geom_smooth(method = \"nls\", aes(color = \"Hyperbolic\"), formula = y ~ a/(1 + b * x), start = list(a = 1, b = 1), se = FALSE, linetype = 1) +\n",
        "  geom_smooth(method = \"nls\", aes(color = \"Power-law\"), formula = y ~ a * (x+0.0000001)^(-b), se = FALSE, method.args = list(start = list(a = 1, b = 1))) +\n",
        "  geom_smooth(method = \"nls\", aes(color = \"Biexponential\"), formula = y ~ a1*exp(-b1*x) + a2*exp(-b2*x), se = FALSE, method.args = list(start = c(a1 = 5, b1 = 2, a2 = 3, b2 = 0.5))) +\n",
        "  ggtitle(\"Unforgotten Companies (log-log scale)\") +\n",
        "    ylab(\"Average company mention 30 days after the announcement\") + xlab(\"Number of days since the announcement\")+\n",
        "  annotate(\"text\", x=1, y=25,  label= paste0(\"AIC Biexponential: \",round(AIC(biexp_fit),2),\"; R sq. = \" ,round(r_sqared(biexp_fit),2)),hjust = 0)+\n",
        "  annotate(\"text\", x=1, y=19.5, label= paste0(\"AIC Exponential: \", round(gof(expmodel)$AIC,2), \"; R sq. = \" ,round(r_sqared(expmodel),2)),hjust = 0) +\n",
        "  annotate(\"text\", x=1, y=16, label= paste0(\"AIC Hyperbolic: \",round(AIC(hyper_fit),2), \"; R sq. = \" ,round(r_sqared(hyper_fit),2)),hjust = 0)+\n",
        "  annotate(\"text\", x=1, y=12.5, label= paste0(\"AIC Log: \",round(gof(logmodel)$AIC,2),\"; R sq. = \" ,round(r_sqared(logmodel),2)),hjust = 0)+\n",
        "  annotate(\"text\", x=1, y=10, label= paste0(\"AIC Power-law: \",round(AIC(power_fit),2),\"; R sq. = \" ,round(r_sqared(power_fit),2)),hjust = 0)+\n",
        "  theme_bw()"
      ],
      "metadata": {
        "colab": {
          "base_uri": "https://localhost:8080/",
          "height": 0
        },
        "id": "2GK36wFYw3PY",
        "outputId": "00f12d69-8594-4396-a4f3-13d84493c40c"
      },
      "execution_count": 24,
      "outputs": [
        {
          "output_type": "display_data",
          "data": {
            "image/png": "[encoded data removed]"
          },
          "metadata": {}
        }
      ]
    },
    {
      "cell_type": "markdown",
      "source": [
        "### Model comparison: **Forgotten**"
      ],
      "metadata": {
        "id": "u83VDFoF5ZiR"
      }
    },
    {
      "cell_type": "code",
      "source": [
        "# Forgotten companies\n",
        "\n",
        "%%R\n",
        "\n",
        "forgotten <- tmp[ (tmp$company) %in% (df_2[df_2$After < df_2$Before,'Company']) & tmp$number >=0, ] # number:= number of days since bankruptcy announcement\n",
        "\n",
        "forgotten <- sqldf(\"select avg(freq) as avg, number from forgotten group by number\",method = \"name__class\")\n",
        "\n",
        "forgotten_companies <- df_2[df_2$After < df_2$Before,'Company']\n",
        "# number of companies\n",
        "print( forgotten_companies )"
      ],
      "metadata": {
        "colab": {
          "base_uri": "https://localhost:8080/",
          "height": 52
        },
        "id": "oalID39Y5bZf",
        "outputId": "08ef9016-543b-4451-ad4c-c4cf635f88b0"
      },
      "execution_count": 25,
      "outputs": [
        {
          "output_type": "display_data",
          "data": {
            "text/plain": [
              "[1] \"DIESEL\"     \"Forever21\"  \"Perfumania\" \"Rockport\"   \"ftdflowers\"\n",
              "[6] \"hhgregg\"    \"rue21\"      \"sugarfina\" \n"
            ]
          },
          "metadata": {}
        }
      ]
    },
    {
      "cell_type": "code",
      "source": [
        "# models\n",
        "%%R\n",
        "\n",
        "forgotten$x = forgotten$number\n",
        "forgotten$y = forgotten$avg\n",
        "\n",
        "# Exponential\n",
        "expmodel <- lm(y~exp(x), data = forgotten)\n",
        "print(summary(expmodel))\n",
        "\n",
        "# Log\n",
        "logmodel <- lm(y~log(x+0.01), data = forgotten)\n",
        "print(summary(logmodel))\n",
        "\n",
        "# Hyperbolic\n",
        "hyper_fit <- nlsLM(y ~ a/(1 + b * x), data = forgotten, start = list(a = 1, b = 1))\n",
        "print(summary(hyper_fit))\n",
        "\n",
        "# Biexponential\n",
        "biexp_fit <- nlsLM(y ~ a1*exp(-b1*x) + a2*exp(-b2*x), data = forgotten, start = c(a1 = 5, b1 = 2, a2 = 3, b2 = 0.5))\n",
        "print(summary(biexp_fit))\n",
        "\n",
        "# Fit a power law curve using nls\n",
        "power_fit <- nls(y ~ a * (x+0.0001)^(-b), data = forgotten, start = list(a = 1, b = 1))\n",
        "summary(power_fit)"
      ],
      "metadata": {
        "colab": {
          "base_uri": "https://localhost:8080/",
          "height": 1000
        },
        "id": "BoihbY3rhrFO",
        "outputId": "ceedf040-ae82-4195-9a75-536d300dcd72"
      },
      "execution_count": 26,
      "outputs": [
        {
          "output_type": "display_data",
          "data": {
            "text/plain": [
              "\n",
              "Call:\n",
              "lm(formula = y ~ exp(x), data = forgotten)\n",
              "\n",
              "Residuals:\n",
              "    Min      1Q  Median      3Q     Max \n",
              "-19.715 -15.368 -11.502  -0.825 118.695 \n",
              "\n",
              "Coefficients:\n",
              "              Estimate Std. Error t value Pr(>|t|)    \n",
              "(Intercept)  3.593e+01  5.713e+00   6.289 7.22e-07 ***\n",
              "exp(x)      -1.739e-12  2.768e-12  -0.628    0.535    \n",
              "---\n",
              "Signif. codes:  0 ‘***’ 0.001 ‘**’ 0.01 ‘*’ 0.05 ‘.’ 0.1 ‘ ’ 1\n",
              "\n",
              "Residual standard error: 30.68 on 29 degrees of freedom\n",
              "Multiple R-squared:  0.01343,\tAdjusted R-squared:  -0.02059 \n",
              "F-statistic: 0.3948 on 1 and 29 DF,  p-value: 0.5347\n",
              "\n",
              "\n",
              "Call:\n",
              "lm(formula = y ~ log(x + 0.01), data = forgotten)\n",
              "\n",
              "Residuals:\n",
              "   Min     1Q Median     3Q    Max \n",
              "-55.20 -10.39  -7.06  -0.56 102.73 \n",
              "\n",
              "Coefficients:\n",
              "              Estimate Std. Error t value Pr(>|t|)    \n",
              "(Intercept)     51.973      9.301   5.588 4.96e-06 ***\n",
              "log(x + 0.01)   -7.515      3.429  -2.192   0.0366 *  \n",
              "---\n",
              "Signif. codes:  0 ‘***’ 0.001 ‘**’ 0.01 ‘*’ 0.05 ‘.’ 0.1 ‘ ’ 1\n",
              "\n",
              "Residual standard error: 28.61 on 29 degrees of freedom\n",
              "Multiple R-squared:  0.1421,\tAdjusted R-squared:  0.1125 \n",
              "F-statistic: 4.803 on 1 and 29 DF,  p-value: 0.03658\n",
              "\n",
              "\n",
              "Formula: y ~ a/(1 + b * x)\n",
              "\n",
              "Parameters:\n",
              "    Estimate Std. Error t value Pr(>|t|)\n",
              "a  3.137e+01  4.720e+01   0.665    0.512\n",
              "b -9.371e+06  1.041e+14   0.000    1.000\n",
              "\n",
              "Residual standard error: 47.2 on 29 degrees of freedom\n",
              "\n",
              "Number of iterations to convergence: 33 \n",
              "Achieved convergence tolerance: 1.49e-08\n",
              "\n",
              "\n",
              "Formula: y ~ a1 * exp(-b1 * x) + a2 * exp(-b2 * x)\n",
              "\n",
              "Parameters:\n",
              "   Estimate Std. Error t value Pr(>|t|)   \n",
              "a1 80.12045   22.78880   3.516  0.00157 **\n",
              "b1  0.10111    0.10116   1.000  0.32641   \n",
              "a2  3.22513   24.58910   0.131  0.89662   \n",
              "b2 -0.06086    0.25305  -0.241  0.81175   \n",
              "---\n",
              "Signif. codes:  0 ‘***’ 0.001 ‘**’ 0.01 ‘*’ 0.05 ‘.’ 0.1 ‘ ’ 1\n",
              "\n",
              "Residual standard error: 25.71 on 27 degrees of freedom\n",
              "\n",
              "Number of iterations to convergence: 23 \n",
              "Achieved convergence tolerance: 1.49e-08\n",
              "\n",
              "\n",
              "Formula: y ~ a * (x + 1e-04)^(-b)\n",
              "\n",
              "Parameters:\n",
              "  Estimate Std. Error t value Pr(>|t|)    \n",
              "a 38.51487    6.38263   6.034 1.45e-06 ***\n",
              "b  0.04636    0.04489   1.033     0.31    \n",
              "---\n",
              "Signif. codes:  0 ‘***’ 0.001 ‘**’ 0.01 ‘*’ 0.05 ‘.’ 0.1 ‘ ’ 1\n",
              "\n",
              "Residual standard error: 30.33 on 29 degrees of freedom\n",
              "\n",
              "Number of iterations to convergence: 19 \n",
              "Achieved convergence tolerance: 4.767e-06\n",
              "\n"
            ]
          },
          "metadata": {}
        }
      ]
    },
    {
      "cell_type": "code",
      "source": [
        "%%R\n",
        "print(paste0(\"AIC exp: \", gof(expmodel)$AIC))\n",
        "print(paste0(\"AIC log: \",gof(logmodel)$AIC))\n",
        "print(paste0(\"AIC hypr: \",AIC(hyper_fit)))\n",
        "print(paste0(\"AIC biex: \",AIC(biexp_fit)))\n",
        "print(paste0(\"AIC power: \",AIC(power_fit)))"
      ],
      "metadata": {
        "colab": {
          "base_uri": "https://localhost:8080/",
          "height": 104
        },
        "id": "PRmv3y5ShwhE",
        "outputId": "8622cc60-8bc3-48ce-a24f-6806cd213565"
      },
      "execution_count": 27,
      "outputs": [
        {
          "output_type": "display_data",
          "data": {
            "text/plain": [
              "[1] \"AIC exp: 304.165032273537\"\n",
              "[1] \"AIC log: 299.833105534594\"\n",
              "[1] \"AIC hypr: 330.882506251401\"\n",
              "[1] \"AIC biex: 294.998044040909\"\n",
              "[1] \"AIC power: 303.453469287557\"\n"
            ]
          },
          "metadata": {}
        }
      ]
    },
    {
      "cell_type": "code",
      "source": [
        "%%R\n",
        "\n",
        "ggplot(forgotten, aes(x=number, y=avg)) + \n",
        "  geom_point(shape = 21, colour = \"black\", fill = \"black\", size = 2, stroke = 1) +\n",
        "  scale_x_continuous(trans = \"log10\", limits = c(1, 30)) +\n",
        "  scale_y_continuous(trans = \"log10\", limits = c(10, 400)) +\n",
        "  #coord_cartesian(ylim = c(0,500)) +\n",
        "  geom_smooth(method=\"lm\", aes(color=\"Exponential\"), formula= (y ~ exp(x)), se=FALSE, linetype = 1) +\n",
        "  geom_smooth(method = \"glm\", aes(color=\"Log\"), formula = y~x, se=FALSE, method.args = list(family = gaussian(link = 'log')),linetype = 1) +\n",
        "  geom_smooth(method = \"nls\", aes(color = \"Hyperbolic\"), formula = y ~ a/(1 + b * x), start = list(a = 1, b = 1), se = FALSE, linetype = 1) +\n",
        "  geom_smooth(method = \"nls\", aes(color = \"Power-law\"), formula = y ~ a * (x+0.0000001)^(-b), se = FALSE, method.args = list(start = list(a = 1, b = 1))) +\n",
        "  geom_smooth(method = \"nls\", aes(color = \"Biexponential\"), formula = y ~ a1*exp(-b1*x) + a2*exp(-b2*x), se = FALSE, method.args = list(start = c(a1 = 5, b1 = 2, a2 = 3, b2 = 0.5))) +\n",
        "  ggtitle(\"Forgotten Companies (log-log scale)\") +\n",
        "    ylab(\"Average company mention 30 days after the announcement\") + xlab(\"Number of days since the announcement\")+\n",
        "  annotate(\"text\", x=1, y=25,  label= paste0(\"AIC Biexponential: \",round(AIC(biexp_fit),2),\"; R sq. = \" ,round(r_sqared(biexp_fit),2)),hjust = 0)+\n",
        "  annotate(\"text\", x=1, y=19.5, label= paste0(\"AIC Exponential: \", round(gof(expmodel)$AIC,2), \"; R sq. = \" ,round(r_sqared(expmodel),2)),hjust = 0) +\n",
        "  annotate(\"text\", x=1, y=16, label= paste0(\"AIC Hyperbolic: \",round(AIC(hyper_fit),2), \"; R sq. = \" ,round(r_sqared(hyper_fit),2)),hjust = 0)+\n",
        "  annotate(\"text\", x=1, y=12.5, label= paste0(\"AIC Log: \",round(gof(logmodel)$AIC,2),\"; R sq. = \" ,round(r_sqared(logmodel),2)),hjust = 0)+\n",
        "  annotate(\"text\", x=1, y=10, label= paste0(\"AIC Power-law: \",round(AIC(power_fit),2),\"; R sq. = \" ,round(r_sqared(power_fit),2)),hjust = 0)+\n",
        "  theme_bw()"
      ],
      "metadata": {
        "colab": {
          "base_uri": "https://localhost:8080/",
          "height": 497
        },
        "id": "ajEueYmniIxV",
        "outputId": "90b8c680-e043-4a57-9861-efde1f153cb6"
      },
      "execution_count": 28,
      "outputs": [
        {
          "output_type": "display_data",
          "data": {
            "image/png": "[encoded data removed]"
          },
          "metadata": {}
        }
      ]
    },
    {
      "cell_type": "markdown",
      "source": [
        "### Inter tweet time"
      ],
      "metadata": {
        "id": "M8-KdHuekst3"
      }
    },
    {
      "cell_type": "code",
      "source": [
        "%%R\n",
        "\n",
        "after <- read_csv(paste0(PTH1,\"/after.csv\"),col_types = cols(...1 = col_skip(), id = col_character(),\n",
        "                                                                     conversation_id = col_character(),\n",
        "                                                                     author_id = col_character(), \n",
        "                                                                     in_reply_to_user_id = col_character()))\n",
        "\n",
        "before <- read_csv(paste0(PTH1,\"/before.csv\"),col_types = cols(...1 = col_skip(), id = col_character(),\n",
        "                                                                       in_reply_to_user_id = col_character(),\n",
        "                                                                       author_id = col_character(), \n",
        "                                                                       conversation_id = col_character()))"
      ],
      "metadata": {
        "colab": {
          "base_uri": "https://localhost:8080/"
        },
        "id": "LWhJEVddky-1",
        "outputId": "415ca16f-c74e-4436-8551-51e068f95260"
      },
      "execution_count": 29,
      "outputs": [
        {
          "output_type": "stream",
          "name": "stderr",
          "text": [
            "WARNING:rpy2.rinterface_lib.callbacks:R[write to console]: New names:\n",
            "• `` -> `...1`\n",
            "\n",
            "WARNING:rpy2.rinterface_lib.callbacks:R[write to console]: New names:\n",
            "• `` -> `...1`\n",
            "\n"
          ]
        }
      ]
    },
    {
      "cell_type": "code",
      "source": [
        "%%R\n",
        "# before unforgotten\n",
        "before_unforgot <- before[before$company %in% (Unforgotten_companies),]\n",
        "my_datetime <- as.POSIXct(before_unforgot$created_at, format=\"%Y-%m-%d %H:%M:%S\", tz=\"UTC\")\n",
        "my_datetime <- my_datetime[order(as.Date(my_datetime), decreasing = TRUE)]\n",
        "my_datetime <- cbind(my_datetime[1:(length(my_datetime)-1)], my_datetime[2:(length(my_datetime))])\n",
        "\n",
        "# inter Tweet time\n",
        "inter_Tweet_time_before_unforgot <- data.frame(my_datetime[,1] - my_datetime[,2])\n",
        "names(inter_Tweet_time_before_unforgot) <- \"diff_before_unforgot\""
      ],
      "metadata": {
        "id": "oXUPoeKslS_u"
      },
      "execution_count": 30,
      "outputs": []
    },
    {
      "cell_type": "code",
      "source": [
        "%%R\n",
        "# before forgotten\n",
        "before_forgot <- before[before$company %in% (forgotten_companies),]\n",
        "my_datetime <- as.POSIXct(before_forgot$created_at, format=\"%Y-%m-%d %H:%M:%S\", tz=\"UTC\")\n",
        "my_datetime <- my_datetime[order(as.Date(my_datetime), decreasing = TRUE)]\n",
        "my_datetime <- cbind(my_datetime[1:(length(my_datetime)-1)], my_datetime[2:(length(my_datetime))])\n",
        "\n",
        "# inter Tweet time\n",
        "inter_Tweet_time_before_forgot <- data.frame(my_datetime[,1] - my_datetime[,2])\n",
        "names(inter_Tweet_time_before_forgot) <- \"diff_before_forgot\""
      ],
      "metadata": {
        "id": "Kf35AoIVj973"
      },
      "execution_count": 31,
      "outputs": []
    },
    {
      "cell_type": "code",
      "source": [
        "%%R\n",
        "nrow(inter_Tweet_time_before_forgot)\n",
        "nrow(inter_Tweet_time_before_unforgot)"
      ],
      "metadata": {
        "colab": {
          "base_uri": "https://localhost:8080/",
          "height": 34
        },
        "id": "XK6C9vCQyOe4",
        "outputId": "db923818-8b19-4275-a985-0f7ee21ac513"
      },
      "execution_count": 32,
      "outputs": [
        {
          "output_type": "display_data",
          "data": {
            "text/plain": [
              "[1] 7028\n"
            ]
          },
          "metadata": {}
        }
      ]
    },
    {
      "cell_type": "code",
      "source": [
        "%%R\n",
        "library(ggplot2)\n",
        "\n",
        "# Create example data with two vectors of unequal lengths\n",
        "set.seed(123)\n",
        "x <- inter_Tweet_time_before_forgot$diff_before_forgot\n",
        "y <- inter_Tweet_time_before_unforgot$diff_before_unforgot\n",
        "\n",
        "# Merge the two vectors into a single data frame\n",
        "df <- data.frame(Inter_Tweet_Time = c(x, y),\n",
        "                 Group = factor(rep(c(\"Forgot\", \"Unforgot\"), c(length(x), length(y)))))\n",
        "\n",
        "# Create ECDF plot\n",
        "ggplot(df, aes(Inter_Tweet_Time, color = Group)) +\n",
        "  stat_ecdf() +\n",
        "  scale_x_log10() +\n",
        "  #scale_y_log10() +\n",
        "  ggtitle(\"ECDF Plot for inter tweet time 30 days before bankruptcy announcement mentioning forgotten and unforgotten companies\") +\n",
        "    ylab(\"P(X<x)\") + xlab(\"Inter tweet time [Seconds]\")+\n",
        "  theme_bw()\n"
      ],
      "metadata": {
        "colab": {
          "base_uri": "https://localhost:8080/",
          "height": 497
        },
        "id": "BMMvq8_ozkxI",
        "outputId": "9b7b9662-c2a5-40f6-cfb2-783156b28ced"
      },
      "execution_count": 54,
      "outputs": [
        {
          "output_type": "display_data",
          "data": {
            "image/png": "[encoded data removed]"
          },
          "metadata": {}
        }
      ]
    },
    {
      "cell_type": "markdown",
      "source": [
        "To test H1 and reveal whether forgotten and unforgotten companies have different temporal inforamtion spreading patterns, we compare the distribution of the ECDFs by using the Kolmogorov-Smirnov (KS) D-statistic test. \n",
        "The D-statistic is defined as the maximum distance: D = max(|F1(x) − F2(x)|), where x represents the range of the random variable, and F1 and F2 represent the empirical cumulative distributions functions. \n",
        "The smaller the distance, the more similar the distribution curves and, hence, the more likely are the two samples to come from the same distribution.\n",
        "In the KS-test, a pvalue < 0.05 indicates that the samples are not drawn from the same distribution"
      ],
      "metadata": {
        "id": "gcOcdpzIjrmp"
      }
    },
    {
      "cell_type": "code",
      "source": [
        "# KS-test\n",
        "%%R\n",
        "\n",
        "ks.test(x, y)"
      ],
      "metadata": {
        "colab": {
          "base_uri": "https://localhost:8080/",
          "height": 139
        },
        "id": "vkSCH62jjsOX",
        "outputId": "4c95a108-2f1f-43e9-fe7b-377d90125033"
      },
      "execution_count": 35,
      "outputs": [
        {
          "output_type": "display_data",
          "data": {
            "text/plain": [
              "\n",
              "\tAsymptotic two-sample Kolmogorov-Smirnov test\n",
              "\n",
              "data:  x and y\n",
              "D = 0.068708, p-value < 2.2e-16\n",
              "alternative hypothesis: two-sided\n",
              "\n"
            ]
          },
          "metadata": {}
        }
      ]
    },
    {
      "cell_type": "markdown",
      "source": [
        "### Logistic regression\n",
        "\n",
        "ΔTo - Time difference from the posting of the original tweet.\n",
        "Captures bursty user interactions [59, 60], which can explain contagion spread [61].\n",
        "\n",
        "GC — Total number of global contagions.\n",
        "Captures contagion spread similar to non-structural models (Section 2.2).\n",
        "\n",
        "d — Distance from the tweeting source (Table 1).\n",
        "Accounts for our findings about the likelihood of a user to retweet (Fig 3a, 3b and 3c)."
      ],
      "metadata": {
        "id": "o7MJdQa1i6lY"
      }
    },
    {
      "cell_type": "code",
      "source": [
        "# logistic regression to predict if a company will be (1) remembered, or (2) forgotten after bankruptcy announcement\n",
        "%%R\n"
      ],
      "metadata": {
        "id": "fgKenpKfi4mf"
      },
      "execution_count": null,
      "outputs": []
    },
    {
      "cell_type": "markdown",
      "source": [
        "#### plot daily tweet count per company"
      ],
      "metadata": {
        "id": "qxpi_vMWYVoz"
      }
    },
    {
      "cell_type": "code",
      "execution_count": null,
      "metadata": {
        "id": "70XAQBh3GbRq"
      },
      "outputs": [],
      "source": [
        "%%R\n",
        "# create a list of ggplots\n",
        "\n",
        "figures <- list()\n",
        "i = 1\n",
        "for(comp in unique(tmp$company)){\n",
        "  figures[[i]] <- ggplot(data=tmp[tmp$company==comp,], aes(x=number, y=freq)) +\n",
        "                      geom_line()+\n",
        "                      theme_bw() +\n",
        "                      labs(x=\"Days from bankruptcy announcment\", y = \"Number of tweets\")+\n",
        "                      ggtitle(paste0(\"@\",comp)) +\n",
        "                      theme(plot.title = element_text(hjust = 0.5)) +\n",
        "                      geom_point()\n",
        "  i = i +1\n",
        "}"
      ]
    },
    {
      "cell_type": "code",
      "execution_count": null,
      "metadata": {
        "id": "p2ic-dLXGvke"
      },
      "outputs": [],
      "source": [
        "# plot the figures\n",
        "\n",
        "p<-ggarrange(figures[[1]],figures[[2]],figures[[3]],figures[[4]],figures[[5]],figures[[6]],figures[[7]],\n",
        "          figures[[8]],figures[[9]],figures[[10]],figures[[11]],figures[[12]],figures[[13]],figures[[14]],\n",
        "          figures[[15]], figures[[16]],\n",
        "          ncol = 4, nrow = 5)\n",
        "options(repr.plot.width = 12, repr.plot.height = 12) # set canvas size\n",
        "print(p)\n",
        "ggexport(p, filename = \"figures.pdf\", width = 12, height = 12) # write figure to pdf"
      ]
    },
    {
      "cell_type": "markdown",
      "source": [
        "#### plot average number of tweets before vs. after the announcement for all companies"
      ],
      "metadata": {
        "id": "9u1uVXgqYsoe"
      }
    },
    {
      "cell_type": "code",
      "execution_count": null,
      "metadata": {
        "id": "th4cdrR9QBZM"
      },
      "outputs": [],
      "source": [
        "%%R\n",
        "# average number of tweets before and after the announcement\n",
        "fig2 <- sqldf(\"select number, avg(freq) as n_d from tmp group by number\",method = \"name__class\")\n",
        "write.csv(fig2, file=\"fig2.csv\")"
      ]
    },
    {
      "cell_type": "code",
      "execution_count": null,
      "metadata": {
        "id": "LuXgpG5_K5mh",
        "colab": {
          "base_uri": "https://localhost:8080/",
          "height": 532
        },
        "outputId": "65a5fa1c-bb82-42b9-d148-44ef7051d2fd"
      },
      "outputs": [
        {
          "output_type": "stream",
          "name": "stderr",
          "text": [
            "WARNING:rpy2.rinterface_lib.callbacks:R[write to console]: file saved to figures3.pdf\n",
            "\n"
          ]
        },
        {
          "output_type": "display_data",
          "data": {
            "image/png": "[encoded data removed]"
          },
          "metadata": {}
        }
      ],
      "source": [
        "%%R\n",
        "p2<-ggplot(data=fig2, aes(x=number, y=n_d)) +\n",
        "                      geom_line()+\n",
        "                      #scale_y_continuous(trans='log10')+\n",
        "                      theme_bw() +\n",
        "                      labs(x=\"Days from bankruptcy announcment\", y = \"Average number of tweets\")+\n",
        "                      ggtitle(\"Average mention time series\") +\n",
        "                      theme(plot.title = element_text(hjust = 0.5)) +\n",
        "                      #geom_hline(yintercept=mean(fig2[fig2$number!=0,]$n_d), linetype=\"dashed\", color = \"red\") +\n",
        "                      geom_point()\n",
        "\n",
        "print(p2)\n",
        "\n",
        "ggexport(p2, filename = \"figures3.pdf\", width = 6, height = 6) # write figure to pdf"
      ]
    },
    {
      "cell_type": "markdown",
      "metadata": {
        "id": "2vY2ByDAUwRZ"
      },
      "source": [
        "## Four (4) measures\n",
        "\n",
        "1. Pre-announcement mean: arithmetic mean of days -30 through 0 before bankruptcy announcement.\n",
        "    \n",
        "2. Short-term boost: maximum mentions during days 0 through 6 after bankruptcy announcement, minus the pre-announcement mean.\n",
        "\n",
        "3. Long-term boost: arithmetic mean of days 7 through 30 after bankruptcy announcement, minus the pre-announcement mean.\n",
        "\n",
        "4. Halving time: number of days required to accumulate half of the total area between the post-announcement curve (including the day of the announcement) and the minimum post-announcement value.\n"
      ]
    },
    {
      "cell_type": "code",
      "execution_count": null,
      "metadata": {
        "id": "EsG6RpWuVfyO"
      },
      "outputs": [],
      "source": [
        "%%R\n",
        "tmp <- read_csv(\"/content/drive/MyDrive/Colab Notebooks/BIU_HEB/data/data_rebuttle.csv\")\n",
        "\n",
        "# remove TailorBrands\n",
        "tmp <- tmp[!tmp$company %in% c('TailorBrands', 'DeanAndDeLuca'),]\n",
        "\n",
        "tmp <- tmp[! tmp$company %in% c('KikoMilanoUSA','CharmingCharlie'),]\n",
        "\n",
        "head(tmp)"
      ]
    },
    {
      "cell_type": "code",
      "execution_count": null,
      "metadata": {
        "colab": {
          "base_uri": "https://localhost:8080/",
          "height": 295
        },
        "id": "0ak2R_LkSNWy",
        "outputId": "b6841868-e74f-4a31-dd0e-3668070c6394"
      },
      "outputs": [
        {
          "output_type": "display_data",
          "data": {
            "text/plain": [
              "      avgfreq        company\n",
              "1    7.633333 CharlotteRusse\n",
              "2   23.888889         DIESEL\n",
              "3  172.766667      Forever21\n",
              "4   18.344828   MattressFirm\n",
              "5    6.633333       NineWest\n",
              "6   16.782609     Perfumania\n",
              "7    4.913043       Rockport\n",
              "8  130.689655          Sears\n",
              "9    9.827586   TrueReligion\n",
              "10   1.954545   beautybrands\n",
              "11  71.740741        claires\n",
              "12  19.857143     ftdflowers\n",
              "13  46.666667        hhgregg\n",
              "14  52.758621          rue21\n",
              "15  17.482759      sugarfina\n"
            ]
          },
          "metadata": {}
        }
      ],
      "source": [
        "%%R\n",
        "# 1) Pre-announcement mean\n",
        "Pre_announcement_mean = sqldf(\"select avg(freq) as avgfreq, company from tmp where `when`='before' group by company\")\n",
        "Pre_announcement_mean"
      ]
    },
    {
      "cell_type": "code",
      "execution_count": null,
      "metadata": {
        "colab": {
          "base_uri": "https://localhost:8080/",
          "height": 382
        },
        "id": "SF1KoZmdWLS4",
        "outputId": "42461599-4931-4677-8271-27724eba5944"
      },
      "outputs": [
        {
          "output_type": "display_data",
          "data": {
            "text/plain": [
              "     shrt_boost        company\n",
              "1    79.3666667 CharlotteRusse\n",
              "2    15.1111111         DIESEL\n",
              "3   847.2333333      Forever21\n",
              "4   201.6551724   MattressFirm\n",
              "5    57.3666667       NineWest\n",
              "6    -0.7826087     Perfumania\n",
              "7    12.0869565       Rockport\n",
              "8  1632.3103448          Sears\n",
              "9   384.1724138   TrueReligion\n",
              "10   14.0454545   beautybrands\n",
              "11  189.2592593        claires\n",
              "12    3.1428571     ftdflowers\n",
              "13   34.3333333        hhgregg\n",
              "14   22.2413793          rue21\n",
              "15   -4.4827586      sugarfina\n",
              "[1] \"median short-term boost 34.3333333333333\"\n",
              "   median    lwr.ci    upr.ci \n",
              " 34.33333  12.08696 201.65517 \n",
              "attr(,\"conf.level\")\n",
              "[1] 0.9648438\n"
            ]
          },
          "metadata": {}
        }
      ],
      "source": [
        "%%R\n",
        "# 2) Short-term boost\n",
        "Short_term_boost = sqldf(\"select max(freq) as shrt_boost, company from tmp where `when`='after' and number between 0 and 6 group by company\")\n",
        "Short_term_boost$shrt_boost <- Short_term_boost$shrt_boost - Pre_announcement_mean$avgfreq\n",
        "print(Short_term_boost)\n",
        "\n",
        "\n",
        "print(paste0(\"median short-term boost \", median(Short_term_boost$shrt_boost)))\n",
        "\n",
        "\n",
        "\n",
        "library(DescTools)\n",
        "MedianCI(Short_term_boost$shrt_boost,\n",
        "         conf.level = 0.95,\n",
        "         na.rm = FALSE,\n",
        "         method = \"exact\",\n",
        "         R = 10000)"
      ]
    },
    {
      "cell_type": "code",
      "execution_count": null,
      "metadata": {
        "colab": {
          "base_uri": "https://localhost:8080/",
          "height": 364
        },
        "id": "vPPAzJ25XaQm",
        "outputId": "c860e2b5-21cf-4dba-f6d3-9d1d50300180"
      },
      "outputs": [
        {
          "output_type": "display_data",
          "data": {
            "text/plain": [
              "    lng_boost        company  shrt_boost\n",
              "1    6.523810 CharlotteRusse  -1.1095238\n",
              "2   22.458333         DIESEL  -1.4305556\n",
              "3  106.739130      Forever21 -66.0275362\n",
              "4   28.291667   MattressFirm   9.9468391\n",
              "5    5.772727       NineWest  -0.8606061\n",
              "6   19.833333     Perfumania   3.0507246\n",
              "7    3.500000       Rockport  -1.4130435\n",
              "8   95.625000          Sears -35.0646552\n",
              "9   12.208333   TrueReligion   2.3807471\n",
              "10   3.181818   beautybrands   1.2272727\n",
              "11 151.333333        claires  79.5925926\n",
              "12   2.789474     ftdflowers -17.0676692\n",
              "13  11.375000        hhgregg -35.2916667\n",
              "14  42.541667          rue21 -10.2169540\n",
              "15   3.850000      sugarfina -13.6327586\n",
              "    median     lwr.ci     upr.ci \n",
              " -1.413043 -17.067669   2.380747 \n",
              "attr(,\"conf.level\")\n",
              "[1] 0.9648438\n"
            ]
          },
          "metadata": {}
        }
      ],
      "source": [
        "%%R\n",
        "# 3) Long-term boost\n",
        "Long_term_boost = sqldf(\"select avg(freq) as lng_boost, company from tmp where `when`='after' and number between 7 and 40 group by company\")\n",
        "Long_term_boost$shrt_boost <- Long_term_boost$lng_boost - Pre_announcement_mean$avgfreq\n",
        "\n",
        "print(Long_term_boost)\n",
        "\n",
        "library(DescTools)\n",
        "MedianCI(Long_term_boost$shrt_boost,\n",
        "         conf.level = 0.95,\n",
        "         na.rm = FALSE,\n",
        "         method = \"exact\",\n",
        "         R = 10000)"
      ]
    },
    {
      "cell_type": "code",
      "execution_count": null,
      "metadata": {
        "id": "O3cPBpcyiXRb",
        "colab": {
          "base_uri": "https://localhost:8080/",
          "height": 34
        },
        "outputId": "5f0e978a-3678-4350-f8e1-e17edddc9be4"
      },
      "outputs": [
        {
          "output_type": "display_data",
          "data": {
            "text/plain": [
              "[1] 0.5923533\n"
            ]
          },
          "metadata": {}
        }
      ],
      "source": [
        "%%R\n",
        "# Halving time - manual run: play with `win` variable to detect when the area under the graph (`x`) is 0.5\n",
        "# calculate AUC\n",
        "\n",
        "comp = 'TrueReligion'\n",
        "win = 3\n",
        "x = AUC(x=tmp[tmp$when =='after'& tmp$company==comp,]$number[1:win], y=tmp[tmp$when =='after'& tmp$company==comp,]$freq[1:win]) / \n",
        "                                                                    AUC(x=tmp[tmp$when =='after'& tmp$company==comp,]$number, y=tmp[tmp$when =='after'& tmp$company==comp,]$freq)\n",
        "\n",
        "print(x)"
      ]
    },
    {
      "cell_type": "code",
      "execution_count": null,
      "metadata": {
        "colab": {
          "base_uri": "https://localhost:8080/",
          "height": 295
        },
        "id": "uzd_xz5sHBqE",
        "outputId": "058524f2-0c31-4bb4-d8fc-d8843730d8de"
      },
      "outputs": [
        {
          "output_type": "display_data",
          "data": {
            "text/plain": [
              "          company halving\n",
              "1    beautybrands       7\n",
              "2  CharlotteRusse       5\n",
              "3         claires      21\n",
              "4          DIESEL      17\n",
              "5       Forever21       7\n",
              "6      ftdflowers      14\n",
              "7         hhgregg       9\n",
              "8    MattressFirm      14\n",
              "9        NineWest       5\n",
              "10     Perfumania      12\n",
              "11       Rockport      11\n",
              "12          rue21      15\n",
              "13          Sears       4\n",
              "14      sugarfina      13\n",
              "15   TrueReligion       3\n"
            ]
          },
          "metadata": {}
        }
      ],
      "source": [
        "%%R\n",
        "\n",
        "\n",
        "\n",
        "halving = rbind(\n",
        "    c('beautybrands',\t7),\n",
        "    c('CharlotteRusse',\t5),\n",
        "    #c('CharmingCharlie',\t5),\n",
        "    c('claires',\t21),\n",
        "    c('DIESEL',\t17),\n",
        "    c('Forever21',\t7),\n",
        "    c('ftdflowers',\t14),\n",
        "    c('hhgregg',\t9),\n",
        "    c('MattressFirm',\t14),\n",
        "    c('NineWest',\t5),\n",
        "    c('Perfumania',\t12),\n",
        "    c('Rockport',\t11),\n",
        "    c('rue21',\t15),\n",
        "    c('Sears',\t4),\n",
        "    c('sugarfina',\t13),\n",
        "    c('TrueReligion',\t3)\n",
        ")\n",
        "\n",
        "\n",
        "halving = data.frame(halving)\n",
        "names(halving) = c(\"company\",\"halving\")\n",
        "halving"
      ]
    },
    {
      "cell_type": "markdown",
      "metadata": {
        "id": "ute8tPcvN5qR"
      },
      "source": [
        "## clustering"
      ]
    },
    {
      "cell_type": "code",
      "execution_count": null,
      "metadata": {
        "id": "TdL3CslQkIJp",
        "colab": {
          "base_uri": "https://localhost:8080/"
        },
        "outputId": "c1fb066e-fb2d-42a7-8ffb-aaa858568890"
      },
      "outputs": [
        {
          "output_type": "stream",
          "name": "stdout",
          "text": [
            "   Pre_announcement_mean Short_term_boost Long_term_boost Halving\n",
            "1               7.633333      79.36666667        6.523810       7\n",
            "2               1.941176       0.05882353        1.375000       5\n",
            "3              23.888889      15.11111111       22.458333       5\n",
            "4             172.766667     847.23333333      106.739130      21\n",
            "5              18.344828     201.65517241       28.291667      17\n",
            "6               6.633333      57.36666667        5.772727       7\n",
            "7              16.782609      -0.78260870       19.833333      14\n",
            "8               4.913043      12.08695652        3.500000       9\n",
            "9             130.689655    1632.31034483       95.625000      14\n",
            "10              9.827586     384.17241379       12.208333       5\n",
            "11              1.954545      14.04545455        3.181818      12\n",
            "12             71.740741     189.25925926      151.333333      11\n",
            "13             19.857143       3.14285714        2.789474      15\n",
            "14             46.666667      34.33333333       11.375000       4\n",
            "15             52.758621      22.24137931       42.541667      13\n",
            "16             17.482759      -4.48275862        3.850000       3\n"
          ]
        }
      ],
      "source": [
        "%%R\n",
        "df_four_measures = data.frame(\n",
        "                              'Pre_announcement_mean' = Pre_announcement_mean$avgfreq, \n",
        "                              'Short_term_boost' = Short_term_boost$shrt_boost,\n",
        "                              'Long_term_boost' = Long_term_boost$lng_boost,\n",
        "                              'Halving' = as.numeric(halving$halving)\n",
        "                              )\n",
        "\n",
        "df_four_measures"
      ]
    },
    {
      "cell_type": "code",
      "execution_count": null,
      "metadata": {
        "id": "5kbl7vo8SG5M"
      },
      "outputs": [],
      "source": [
        "%%R\n",
        "mat = as.matrix(df_four_measures)"
      ]
    },
    {
      "cell_type": "code",
      "execution_count": null,
      "metadata": {
        "id": "DEXX8K-iQ4v1"
      },
      "outputs": [],
      "source": [
        "%%R\n",
        "\n",
        "res<-NbClust(mat, distance = \"euclidean\", min.nc=2, max.nc=10, method = \"kmeans\", index = \"all\")\n",
        "\n",
        "# plot\n",
        "library(\"factoextra\")\n",
        "fviz_nbclust(res)"
      ]
    },
    {
      "cell_type": "code",
      "execution_count": null,
      "metadata": {
        "colab": {
          "base_uri": "https://localhost:8080/"
        },
        "id": "euzHFHEhWCtZ",
        "outputId": "07069df4-bdfc-4ccf-c66f-2a52a769ecec"
      },
      "outputs": [
        {
          "output_type": "stream",
          "name": "stdout",
          "text": [
            "   Pre_announcement_mean Short_term_boost Long_term_boost Halving\n",
            "1               7.633333      79.36666667        6.523810       7\n",
            "2               1.941176       0.05882353        1.375000       5\n",
            "3              23.888889      15.11111111       22.458333       5\n",
            "4             172.766667     847.23333333      106.739130      21\n",
            "5              18.344828     201.65517241       28.291667      17\n",
            "6               6.633333      57.36666667        5.772727       7\n",
            "7              16.782609      -0.78260870       19.833333      14\n",
            "8               4.913043      12.08695652        3.500000       9\n",
            "9             130.689655    1632.31034483       95.625000      14\n",
            "10              9.827586     384.17241379       12.208333       5\n",
            "11              1.954545      14.04545455        3.181818      12\n",
            "12             71.740741     189.25925926      151.333333      11\n",
            "13             19.857143       3.14285714        2.789474      15\n",
            "14             46.666667      34.33333333       11.375000       4\n",
            "15             52.758621      22.24137931       42.541667      13\n",
            "16             17.482759      -4.48275862        3.850000       3\n",
            "           company kmeans\n",
            "1     beautybrands      2\n",
            "2   CharlotteRusse      2\n",
            "3  CharmingCharlie      2\n",
            "4          claires      1\n",
            "5           DIESEL      2\n",
            "6        Forever21      2\n",
            "7       ftdflowers      2\n",
            "8          hhgregg      2\n",
            "9     MattressFirm      1\n",
            "10        NineWest      2\n",
            "11      Perfumania      2\n",
            "12        Rockport      1\n",
            "13           rue21      2\n",
            "14           Sears      2\n",
            "15       sugarfina      2\n",
            "16    TrueReligion      2\n"
          ]
        }
      ],
      "source": [
        "%%R\n",
        "# do k-means\n",
        "kmeans_fancy <- kmeans(scale(mat), 2, nstart = 100)\n",
        "\n",
        "\n",
        "df_four_measures$company <- halving$company\n",
        "df_four_measures$kmeans <- kmeans_fancy$cluster\n",
        "df_four_measures"
      ]
    },
    {
      "cell_type": "code",
      "execution_count": null,
      "metadata": {
        "colab": {
          "base_uri": "https://localhost:8080/",
          "height": 532
        },
        "id": "VDrjTX1kYCSS",
        "outputId": "d97e43b3-35a0-46af-b853-eec737997c6c"
      },
      "outputs": [
        {
          "output_type": "stream",
          "name": "stderr",
          "text": [
            "R[write to console]: file saved to figures3c.pdf\n",
            "\n"
          ]
        },
        {
          "output_type": "display_data",
          "data": {
            "image/png": "[encoded data removed]"
          },
          "metadata": {}
        }
      ],
      "source": [
        "%%R\n",
        "df_centroids = data.frame(kmeans_fancy$centers)\n",
        "df_centroids <- t(df_centroids)\n",
        "df_centroids <- data.frame(df_centroids)\n",
        "df_centroids$measure<-row.names(df_centroids)\n",
        "row.names(df_centroids)<-NULL\n",
        "\n",
        "one <- data.frame(df_centroids[,c(1,3)])\n",
        "one$group<-\"1\"\n",
        "names(one)[1]<-\"z-scores\"\n",
        "two <- data.frame(df_centroids[,c(2,3)])\n",
        "two$group<-'2'\n",
        "names(two)[1]<-\"z-scores\"\n",
        "\n",
        "df_centroids<-rbind(one, two)\n",
        "\n",
        "# do k-means\n",
        "g<- ggplot(df_centroids, aes(measure,`z-scores`,fill=group)) +\n",
        "  geom_col()+\n",
        "  theme_bw() +\n",
        "  coord_flip()\n",
        "\n",
        "print(g)\n",
        "ggexport(g, filename = \"figures3c.pdf\", width = 4, height = 4) # write figure to pdf"
      ]
    },
    {
      "cell_type": "code",
      "execution_count": null,
      "metadata": {
        "colab": {
          "base_uri": "https://localhost:8080/"
        },
        "id": "xb9q7gFvi_gc",
        "outputId": "bcfc2c2b-651d-443f-d7f8-e5c41fdd5915"
      },
      "outputs": [
        {
          "output_type": "stream",
          "name": "stdout",
          "text": [
            "   Pre_announcement_mean Short_term_boost Long_term_boost Halving\n",
            "1               7.633333      79.36666667        6.523810       7\n",
            "2               1.941176       0.05882353        1.375000       5\n",
            "3              23.888889      15.11111111       22.458333       5\n",
            "4             172.766667     847.23333333      106.739130      21\n",
            "5              18.344828     201.65517241       28.291667      17\n",
            "6               6.633333      57.36666667        5.772727       7\n",
            "7              16.782609      -0.78260870       19.833333      14\n",
            "8               4.913043      12.08695652        3.500000       9\n",
            "9             130.689655    1632.31034483       95.625000      14\n",
            "10              9.827586     384.17241379       12.208333       5\n",
            "11              1.954545      14.04545455        3.181818      12\n",
            "12             71.740741     189.25925926      151.333333      11\n",
            "13             19.857143       3.14285714        2.789474      15\n",
            "14             46.666667      34.33333333       11.375000       4\n",
            "15             52.758621      22.24137931       42.541667      13\n",
            "16             17.482759      -4.48275862        3.850000       3\n",
            "           company kmeans\n",
            "1     beautybrands      2\n",
            "2   CharlotteRusse      2\n",
            "3  CharmingCharlie      2\n",
            "4          claires      1\n",
            "5           DIESEL      2\n",
            "6        Forever21      2\n",
            "7       ftdflowers      2\n",
            "8          hhgregg      2\n",
            "9     MattressFirm      1\n",
            "10        NineWest      2\n",
            "11      Perfumania      2\n",
            "12        Rockport      1\n",
            "13           rue21      2\n",
            "14           Sears      2\n",
            "15       sugarfina      2\n",
            "16    TrueReligion      2\n"
          ]
        }
      ],
      "source": [
        "%%R\n",
        "df_four_measures"
      ]
    },
    {
      "cell_type": "markdown",
      "metadata": {
        "id": "x9A2MNCPOCHK"
      },
      "source": [
        "## figure 3. average mention time series by group"
      ]
    },
    {
      "cell_type": "code",
      "execution_count": null,
      "metadata": {
        "colab": {
          "base_uri": "https://localhost:8080/"
        },
        "id": "XvDX2WXTjvNH",
        "outputId": "1b3eca33-142f-4773-8c2d-b72aa2df9ef3"
      },
      "outputs": [
        {
          "output_type": "stream",
          "name": "stdout",
          "text": [
            "New names:\n",
            "• `` -> `...6`\n",
            "• `` -> `...7`\n",
            "• `` -> `...8`\n",
            "• `` -> `...9`\n",
            "# A tibble: 6 × 9\n",
            "  company      date        freq when  number ...6  ...7  ...8  ...9 \n",
            "  <chr>        <chr>      <dbl> <chr>  <dbl> <lgl> <lgl> <lgl> <lgl>\n",
            "1 beautybrands 07/01/2019    16 after      1 NA    NA    NA    NA   \n",
            "2 beautybrands 08/01/2019     3 after      2 NA    NA    NA    NA   \n",
            "3 beautybrands 09/01/2019     7 after      3 NA    NA    NA    NA   \n",
            "4 beautybrands 12/01/2019     5 after      6 NA    NA    NA    NA   \n",
            "5 beautybrands 13/01/2019     6 after      7 NA    NA    NA    NA   \n",
            "6 beautybrands 16/01/2019     3 after     10 NA    NA    NA    NA   \n"
          ]
        }
      ],
      "source": [
        "%%R\n",
        "tmp <- read_csv(\"/content/drive/MyDrive/Colab Notebooks/BIU_HEB/data/data_rebuttle.csv\", show_col_types = FALSE)\n",
        "\n",
        "# remove TailorBrands\n",
        "tmp <- tmp[!tmp$company %in% c('KikoMilanoUSA', ''),]\n",
        "\n",
        "head(tmp[tmp$when == 'after',])"
      ]
    },
    {
      "cell_type": "code",
      "execution_count": null,
      "metadata": {
        "colab": {
          "base_uri": "https://localhost:8080/"
        },
        "id": "qKjj5DOniKYh",
        "outputId": "3d4d8382-8c9c-4b9c-ee4e-1d34bbcfd2b2"
      },
      "outputs": [
        {
          "output_type": "stream",
          "name": "stdout",
          "text": [
            "  number group       n_d\n",
            "1    -31    C2 126.28571\n",
            "2    -30    C1  14.50000\n",
            "3    -30    C2 103.36364\n",
            "4    -29    C1  10.00000\n",
            "5    -29    C2  44.72727\n",
            "6    -28    C1  17.66667\n"
          ]
        }
      ],
      "source": [
        "%%R\n",
        "group1<-tmp[tmp$company %in% df_four_measures[df_four_measures$kmeans==1,]$company,]\n",
        "group1$group<-'C1'\n",
        "group2<-tmp[tmp$company %in% df_four_measures[df_four_measures$kmeans==2,]$company,]\n",
        "group2$group<-'C2'\n",
        "group_data <- rbind(group1,group2)\n",
        "fig3b <- sqldf(\"select number, `group`, avg(freq) as n_d from group_data group by number, `group`\")\n",
        "fig3b$group <- as.factor(fig3b$group)\n",
        "head(fig3b)"
      ]
    },
    {
      "cell_type": "code",
      "execution_count": null,
      "metadata": {
        "colab": {
          "base_uri": "https://localhost:8080/",
          "height": 532
        },
        "id": "sNDB_w_FhtnC",
        "outputId": "9f170148-2fa5-4954-f2e6-e68c30f3e3f2"
      },
      "outputs": [
        {
          "output_type": "stream",
          "name": "stderr",
          "text": [
            "R[write to console]: file saved to figures3b.pdf\n",
            "\n"
          ]
        },
        {
          "output_type": "display_data",
          "data": {
            "image/png": "[encoded data removed]"
          },
          "metadata": {}
        }
      ],
      "source": [
        "%%R\n",
        "p2<-ggplot(data=fig3b, aes(x=number, y=n_d, group=group, colour=group)) +\n",
        "                      geom_line()+\n",
        "                      theme_bw() +\n",
        "                      labs(x=\"Days from bankruptcy announcment\", y = \"Average number of tweets\")+\n",
        "                      ggtitle(\"Average mention time series by group\") +\n",
        "                      theme(plot.title = element_text(hjust = 0.5)) +\n",
        "                      geom_point()\n",
        "\n",
        "print(p2)\n",
        "\n",
        "ggexport(p2, filename = \"figures3b.pdf\", width = 6, height = 6) # write figure to pdf"
      ]
    },
    {
      "cell_type": "code",
      "source": [
        "%%R\n",
        "boxplot(fig3b[fig3b$group=='C1',]$n_d, fig3b[fig3b$group=='C2',]$n_d)"
      ],
      "metadata": {
        "colab": {
          "base_uri": "https://localhost:8080/",
          "height": 497
        },
        "id": "uhP07bHkMt0A",
        "outputId": "166da626-668f-49aa-bc12-6e9856e0ec6d"
      },
      "execution_count": null,
      "outputs": [
        {
          "output_type": "display_data",
          "data": {
            "image/png": "[encoded data removed]"
          },
          "metadata": {}
        }
      ]
    },
    {
      "cell_type": "code",
      "execution_count": null,
      "metadata": {
        "colab": {
          "base_uri": "https://localhost:8080/"
        },
        "id": "_snMD2TwTEKE",
        "outputId": "0cb65abc-51c4-4c34-bdda-5723d5a242c5"
      },
      "outputs": [
        {
          "output_type": "stream",
          "name": "stdout",
          "text": [
            "[1] 62.94734\n"
          ]
        }
      ],
      "source": [
        "%%R\n",
        "# mean of 3 out of the 4 parameters in each cluster\n",
        "# mean(df_four_measures$Short_term_boost\n",
        "\n",
        "#mean(df_four_measures[df_four_measures$kmeans=='1',]$Short_term_boost)\n",
        "mean(df_four_measures[df_four_measures$kmeans=='2',]$Short_term_boost)\n",
        "\n",
        "# Short_term_boost      C1: 617.7155           C2: 107.0955            ALL  298.578\n",
        "# Long_term_boost       C1: 70.03487           C2 15.3411              ALL  35.85126\n",
        "# Pre_announcement_mean C1: 51.11              C2 16.80455             ALL  29.67202"
      ]
    },
    {
      "cell_type": "markdown",
      "metadata": {
        "id": "xWk77W9TM0FT"
      },
      "source": [
        "## regression\n",
        "\n",
        "1. Pre-announcement mean mention frequency.\n",
        "2. Company age (year) at the day of bankruptcy announcement.\n",
        "3. Bankruptcy strategy (factor with 5 levels: restructuring, reorganization, purchased, sold, closed all stores).\n",
        "4. Market cup category (factor with 6 levels: specifying the main business of the company: sports, clothes, etc.\n",
        "5. Market capitalization.\n",
        "6. Gender of owners (factor with 3 levels: female, male, mixed).\n",
        "\n",
        "\n"
      ]
    },
    {
      "cell_type": "code",
      "execution_count": null,
      "metadata": {
        "colab": {
          "base_uri": "https://localhost:8080/"
        },
        "id": "Z45w9UCZM2xS",
        "outputId": "8ce92669-baed-4acd-83bf-c40a6f60aceb"
      },
      "outputs": [
        {
          "output_type": "stream",
          "name": "stdout",
          "text": [
            "      avgfreq         company\n",
            "1  -0.6115239  CharlotteRusse\n",
            "2  -0.7271324 CharmingCharlie\n",
            "3  -0.2813710          DIESEL\n",
            "4   2.7423597       Forever21\n",
            "5  -0.3939717    MattressFirm\n",
            "6  -0.6318340        NineWest\n",
            "7  -0.4257007      Perfumania\n",
            "8  -0.6667734        Rockport\n",
            "9   1.8877691           Sears\n",
            "10 -0.5669582    TrueReligion\n",
            "11 -0.7268609    beautybrands\n",
            "12  0.6905075         claires\n",
            "13 -0.3632564      ftdflowers\n",
            "14  0.1812492         hhgregg\n",
            "15  0.3049777           rue21\n",
            "16 -0.4114805       sugarfina\n"
          ]
        }
      ],
      "source": [
        "%%R\n",
        "Pre_announcement_mean$avgfreq<-scale(Pre_announcement_mean$avgfreq)\n",
        "Pre_announcement_mean"
      ]
    },
    {
      "cell_type": "code",
      "execution_count": null,
      "metadata": {
        "colab": {
          "base_uri": "https://localhost:8080/"
        },
        "id": "3zsm_gBmsJ9-",
        "outputId": "3e22ba4a-f578-4241-f6d7-fbf76c6c3971"
      },
      "outputs": [
        {
          "output_type": "stream",
          "name": "stdout",
          "text": [
            "New names:\n",
            "• `` -> `...1`\n"
          ]
        }
      ],
      "source": [
        "# average sentiment analysis of each company\n",
        "# load before and after datasets\n",
        "%%R\n",
        "\n",
        "before <- read_csv(paste0(PTH1,\"/before.csv\"),col_types = cols(...1 = col_skip(), id = col_character(),\n",
        "                                                                       in_reply_to_user_id = col_character(),\n",
        "                                                                       author_id = col_character(), \n",
        "                                                                       conversation_id = col_character()))\n",
        "\n",
        "\n",
        "before<-before[!before$company %in% c('DeanAndDeLuca', 'TailorBrands'),]"
      ]
    },
    {
      "cell_type": "code",
      "source": [
        "%%R\n",
        "tweets_R = before$text"
      ],
      "metadata": {
        "id": "6xGRpnCFdbKA"
      },
      "execution_count": null,
      "outputs": []
    },
    {
      "cell_type": "code",
      "execution_count": null,
      "metadata": {
        "colab": {
          "base_uri": "https://localhost:8080/",
          "height": 58
        },
        "id": "wRFdenNqCqAr",
        "outputId": "5a63cef6-3a79-489b-ac8b-ee4513ae005b"
      },
      "outputs": [
        {
          "output_type": "execute_result",
          "data": {
            "text/plain": [
              "<rpy2.robjects.vectors.StrVector object at 0x7f2f022980f0> [RTYPES.STRSXP]\n",
              "R classes: ('character',)\n",
              "[\"There we..., 'RT @Nint..., 'RT @Nint..., 'RT @Nint..., ..., 'RT @hhgr..., 'RT @hhgr..., 'RT @hhgr..., \"@hhgregg...]"
            ],
            "text/html": [
              "\n",
              "        <span>StrVector with 17399 elements.</span>\n",
              "        <table>\n",
              "        <tbody>\n",
              "          <tr>\n",
              "          \n",
              "            <td>\n",
              "            \"There we...\n",
              "            </td>\n",
              "          \n",
              "            <td>\n",
              "            'RT @Nint...\n",
              "            </td>\n",
              "          \n",
              "            <td>\n",
              "            'RT @Nint...\n",
              "            </td>\n",
              "          \n",
              "            <td>\n",
              "            ...\n",
              "            </td>\n",
              "          \n",
              "            <td>\n",
              "            'RT @hhgr...\n",
              "            </td>\n",
              "          \n",
              "            <td>\n",
              "            'RT @hhgr...\n",
              "            </td>\n",
              "          \n",
              "            <td>\n",
              "            \"@hhgregg...\n",
              "            </td>\n",
              "          \n",
              "          </tr>\n",
              "        </tbody>\n",
              "        </table>\n",
              "        "
            ]
          },
          "metadata": {},
          "execution_count": 179
        }
      ],
      "source": [
        "%R -o tweets_R tweets_R"
      ]
    },
    {
      "cell_type": "code",
      "execution_count": null,
      "metadata": {
        "id": "lLj0ROzcDH5n"
      },
      "outputs": [],
      "source": [
        "import re\n",
        "result = [re.sub(r'http\\S+', '', x) for x in tweets_R]"
      ]
    },
    {
      "cell_type": "code",
      "execution_count": null,
      "metadata": {
        "id": "s6q6RqRz2eGA"
      },
      "outputs": [],
      "source": [
        "# https://textblob.readthedocs.io/en/dev/quickstart.html#sentiment-analysis\n",
        "from textblob import TextBlob\n",
        "\n",
        "sentiment = []\n",
        "subjectivity = []\n",
        "\n",
        "for text in result:\n",
        "  x = TextBlob(text)\n",
        "  sentiment.append( x.sentiment[0] )\n",
        "  subjectivity.append( x.sentiment[1] ) # The subjectivity is a float within the range [0.0, 1.0] where 0.0 is very objective and 1.0 is very subjective."
      ]
    },
    {
      "cell_type": "code",
      "execution_count": null,
      "metadata": {
        "id": "SdITL6h90zjK"
      },
      "outputs": [],
      "source": [
        "# send back sentiment to R\n",
        "%R -i sentiment sentiment\n",
        "%R -i subjectivity subjectivity"
      ]
    },
    {
      "cell_type": "markdown",
      "metadata": {
        "id": "sdndAUUUCXIj"
      },
      "source": [
        "## T-tests"
      ]
    },
    {
      "cell_type": "code",
      "execution_count": null,
      "metadata": {
        "colab": {
          "base_uri": "https://localhost:8080/"
        },
        "id": "9zmt6nuk8MCm",
        "outputId": "9cfc5c9a-1d00-43af-f488-74d84c0aa4f0"
      },
      "outputs": [
        {
          "output_type": "stream",
          "name": "stdout",
          "text": [
            "\n",
            "\tWilcoxon rank sum exact test\n",
            "\n",
            "data:  cl1 and cl2\n",
            "W = 27, p-value = 0.7925\n",
            "alternative hypothesis: true location shift is not equal to 0\n",
            "\n"
          ]
        }
      ],
      "source": [
        "%%R\n",
        "# reputation ratio\n",
        "cl1=c(36.01754386,\n",
        "56.8627451,\n",
        "132.7731092,\n",
        "146.4516129,\n",
        "162.406015,\n",
        "67700)\n",
        "\n",
        "\n",
        "cl2=c(49.26624738,\n",
        "85.17520216,\n",
        "111.9669421,\n",
        "113.8297872,\n",
        "117.0572207,\n",
        "144.9460647,\n",
        "169.4719472,\n",
        "203.6018957,\n",
        "311.2852665,\n",
        "74100)\n",
        "\n",
        "\n",
        "wilcox.test(cl1,cl2)"
      ]
    },
    {
      "cell_type": "code",
      "execution_count": null,
      "metadata": {
        "colab": {
          "base_uri": "https://localhost:8080/"
        },
        "id": "LtzD-QDL4xzD",
        "outputId": "e2e14fad-7faa-4478-b2e3-5ed37cb6a42e"
      },
      "outputs": [
        {
          "output_type": "stream",
          "name": "stdout",
          "text": [
            "\n",
            "\tWelch Two Sample t-test\n",
            "\n",
            "data:  cluster1 and cluster2\n",
            "t = -3.0489, df = 11.109, p-value = 0.01095\n",
            "alternative hypothesis: true difference in means is not equal to 0\n",
            "95 percent confidence interval:\n",
            " -251248.32  -40725.35\n",
            "sample estimates:\n",
            "mean of x mean of y \n",
            " 44143.17 190130.00 \n",
            "\n"
          ]
        }
      ],
      "source": [
        "%%R\n",
        "# difference in the number of Followers\n",
        "\n",
        "cluster1=c(67700,\n",
        "43200,\n",
        "22700,\n",
        "14500,\n",
        "110600,\n",
        "6159)\n",
        "\n",
        "\n",
        "cluster2=c(192600,\n",
        "102700,\n",
        "74100,\n",
        "23500,\n",
        "99300,\n",
        "214800,\n",
        "429600,\n",
        "338700,\n",
        "63200,\n",
        "362800)\n",
        "\n",
        "\n",
        "t.test(cluster1,cluster2)"
      ]
    },
    {
      "cell_type": "code",
      "execution_count": null,
      "metadata": {
        "colab": {
          "base_uri": "https://localhost:8080/"
        },
        "id": "YsHvlQMi6YPt",
        "outputId": "9864890d-bc4e-4c9d-8c78-3cfadd40396e"
      },
      "outputs": [
        {
          "output_type": "stream",
          "name": "stdout",
          "text": [
            "\n",
            "\tWelch Two Sample t-test\n",
            "\n",
            "data:  clst1 and clst2\n",
            "t = -3.0244, df = 11.129, p-value = 0.01143\n",
            "alternative hypothesis: true difference in means is not equal to 0\n",
            "95 percent confidence interval:\n",
            " -1814.4995  -287.1672\n",
            "sample estimates:\n",
            "mean of x mean of y \n",
            " 280.1667 1331.0000 \n",
            "\n"
          ]
        }
      ],
      "source": [
        "%%R\n",
        "# difference in the number of lists\n",
        "\n",
        "clst1=c(171,\n",
        "255,\n",
        "833,\n",
        "155,\n",
        "266,\n",
        "1)\n",
        "\n",
        "\n",
        "clst2=c(477,\n",
        "742,\n",
        "3025,\n",
        "1692,\n",
        "1835,\n",
        "2503,\n",
        "606,\n",
        "2110,\n",
        "319,\n",
        "1)\n",
        "\n",
        "\n",
        "t.test(clst1,clst2)"
      ]
    },
    {
      "cell_type": "code",
      "execution_count": null,
      "metadata": {
        "id": "SCzqPM7r017c"
      },
      "outputs": [],
      "source": [
        "%%R\n",
        "# list into vector\n",
        "sentiment = unlist(sentiment)\n",
        "subjectivity = unlist(subjectivity)"
      ]
    },
    {
      "cell_type": "code",
      "execution_count": null,
      "metadata": {
        "id": "ATZdxLxl1avc"
      },
      "outputs": [],
      "source": [
        "%%R\n",
        "before$sentiment <- sentiment\n",
        "before$subjectivity <- subjectivity\n",
        "\n",
        "mean_sent_by_comp = sqldf(\"select avg(sentiment), company from before group by company\")\n",
        "\n",
        "mean_subj_by_comp = sqldf(\"select avg(subjectivity), company from before group by company\")\n",
        "\n",
        "\n",
        "mean_sent_by_comp<-mean_sent_by_comp[!mean_sent_by_comp$company %in% c('KikoMilanoUSA', ''),]\n",
        "mean_subj_by_comp<-mean_subj_by_comp[!mean_subj_by_comp$company %in% c('KikoMilanoUSA', ''),]"
      ]
    },
    {
      "cell_type": "code",
      "execution_count": null,
      "metadata": {
        "colab": {
          "base_uri": "https://localhost:8080/"
        },
        "id": "NS_sL_bt6GkB",
        "outputId": "a3d403f1-f13f-4b01-9633-627d18d2d44b"
      },
      "outputs": [
        {
          "output_type": "stream",
          "name": "stdout",
          "text": [
            "           company n_tweets\n",
            "1   CharlotteRusse      229\n",
            "2  CharmingCharlie       33\n",
            "3           DIESEL      645\n",
            "4        Forever21     5183\n",
            "6     MattressFirm      537\n",
            "7         NineWest      199\n",
            "8       Perfumania      386\n",
            "9         Rockport      120\n",
            "10           Sears     3797\n",
            "11    TrueReligion      286\n",
            "12    beautybrands       43\n",
            "13         claires     1938\n",
            "14      ftdflowers      557\n",
            "15         hhgregg     1260\n",
            "16           rue21     1531\n",
            "17       sugarfina      507\n"
          ]
        }
      ],
      "source": [
        "%%R\n",
        "# number of tweets before\n",
        "num_of_tweets_before = sqldf(\"select company, count(1) as n_tweets from before group by company\")\n",
        "num_of_tweets_before = num_of_tweets_before[num_of_tweets_before$company != \"KikoMilanoUSA\",]\n",
        "num_of_tweets_before"
      ]
    },
    {
      "cell_type": "code",
      "source": [
        "%%R\n",
        "unique(before$company)"
      ],
      "metadata": {
        "colab": {
          "base_uri": "https://localhost:8080/"
        },
        "id": "-MwxBjCqiAYV",
        "outputId": "9abd61ab-66af-4d96-d72f-90a9852a6f0d"
      },
      "execution_count": null,
      "outputs": [
        {
          "output_type": "stream",
          "name": "stdout",
          "text": [
            " [1] \"sugarfina\"       \"Forever21\"       \"CharmingCharlie\" \"ftdflowers\"     \n",
            " [5] \"DIESEL\"          \"CharlotteRusse\"  \"beautybrands\"    \"Sears\"          \n",
            " [9] \"MattressFirm\"    \"Rockport\"        \"NineWest\"        \"claires\"        \n",
            "[13] \"KikoMilanoUSA\"   \"Perfumania\"      \"TrueReligion\"    \"rue21\"          \n",
            "[17] \"hhgregg\"        \n"
          ]
        }
      ]
    },
    {
      "cell_type": "code",
      "execution_count": null,
      "metadata": {
        "colab": {
          "base_uri": "https://localhost:8080/"
        },
        "id": "u4iUUVmQ_UIQ",
        "outputId": "78103323-d957-4f6e-c0fb-2397bc83c351"
      },
      "outputs": [
        {
          "output_type": "stream",
          "name": "stdout",
          "text": [
            "           company    avg_inter_time\n",
            "1   CharlotteRusse -183.459210526315\n",
            "2  CharmingCharlie -20.2715711805555\n",
            "3           DIESEL -60.2850672877847\n",
            "4        Forever21 -8.32957673999743\n",
            "6     MattressFirm -77.8626865671642\n",
            "7         NineWest -214.747643097643\n",
            "8       Perfumania -106.192337662338\n",
            "9         Rockport -317.968207282913\n",
            "10           Sears -10.9990735862311\n",
            "11    TrueReligion -142.552631578947\n",
            "12    beautybrands -16.5759457671958\n",
            "13         claires  -20.065969712614\n",
            "14      ftdflowers -74.8082434052758\n",
            "15         hhgregg -30.8718030182685\n",
            "16           rue21 -27.2831045751633\n",
            "17       sugarfina -84.9220355731225\n"
          ]
        }
      ],
      "source": [
        "%%R\n",
        "# calculate mean inter-tweet time\n",
        "inter_tweet_time = data.frame()\n",
        "for(company in unique(before$company)){\n",
        "    v = as.POSIXct( before[before$company==company,]$created_at , format = \"%a %b %d %H:%M:%S %z %Y\", tz=\"GMT\")\n",
        "    v = v[order(v , decreasing = TRUE )]\n",
        "    d = diff(v)\n",
        "    inter_tweet_time = rbind(inter_tweet_time, c(company, mean(d)))\n",
        "}\n",
        "\n",
        "names(inter_tweet_time) = c('company','avg_inter_time')\n",
        "#inter_tweet_time = inter_tweet_time[order(num_of_tweets_before$company),]\n",
        "inter_tweet_time = sqldf(\"select company, avg_inter_time/60 as avg_inter_time from inter_tweet_time group by company\") # we do this to keep the order of companies\n",
        "inter_tweet_time <- inter_tweet_time[inter_tweet_time$company != 'KikoMilanoUSA',]\n",
        "inter_tweet_time"
      ]
    },
    {
      "cell_type": "code",
      "execution_count": null,
      "metadata": {
        "id": "T4ZpaCPLSW-H"
      },
      "outputs": [],
      "source": [
        "%%R\n",
        "\n",
        "Company_type = c( 'Beauty',\n",
        "                  'Clothing',\n",
        "                  'Clothing',\n",
        "                  'Department Store',\n",
        "                  'Clothing',\n",
        "                  'Clothing',\n",
        "                  'Other',\n",
        "                  'Department Store',\n",
        "                  #'Beauty',\n",
        "                  'Mattresses',\n",
        "                  'Clothing',\n",
        "                  'Beauty',\n",
        "                  'Clothing',\n",
        "                  'Other',\n",
        "                  'Department Store',\n",
        "                  'Other',\n",
        "                  'Clothing'\n",
        "                  )\n",
        "                  \n",
        "Followers = c(8403,\n",
        "              72100,\n",
        "              28500,\n",
        "              65400,\n",
        "              179000,\n",
        "              1900000,\n",
        "              12800,\n",
        "              31800,\n",
        "              #4367,\n",
        "              47200,\n",
        "              45400,\n",
        "              19000,\n",
        "              6294,\n",
        "              32400,\n",
        "              198100,\n",
        "              22300,\n",
        "              44600)\n",
        "\n",
        "\n",
        "Following = c(\n",
        "                707,\n",
        "                9438,\n",
        "                148,\n",
        "                225,\n",
        "                737,\n",
        "                351,\n",
        "                21,\n",
        "                900,\n",
        "                #47,\n",
        "                554,\n",
        "                387,\n",
        "                159,\n",
        "                940,\n",
        "                1091,\n",
        "                9293,\n",
        "                172,\n",
        "                193\n",
        "                )\n",
        "\n",
        "# mean web searched worldwide 1 month before the announcedment on Google Trends\n",
        "Google_trends = c(\n",
        "                  69.84,\n",
        "                  74.9,\n",
        "                  59.45,\n",
        "                  35.86,\n",
        "                  84.86,\n",
        "                  54.93,\n",
        "                  25.31,\n",
        "                  50.06,\n",
        "                  #\n",
        "                  30.77,\n",
        "                  64.93,\n",
        "                  62.46,\n",
        "                  87.38,\n",
        "                  65.19,\n",
        "                  28,\n",
        "                  32.75,\n",
        "                  11.51\n",
        "                  )\n",
        "\n",
        "public = c( 'Private',\n",
        "            'Private',\n",
        "            'Private',\n",
        "            'Private',\n",
        "            'Private',\n",
        "            'Private',\n",
        "            'Public',\n",
        "            'Public',\n",
        "            #'Private',\n",
        "            'Private',\n",
        "            'Private',\n",
        "            'Public',\n",
        "            'Private', \n",
        "            'Private',\n",
        "            'Public',\n",
        "            'Private', \n",
        "            'Private')"
      ]
    },
    {
      "cell_type": "code",
      "source": [
        "%%R\n",
        "\n",
        "df = data.frame(\n",
        "                  'company' = Pre_announcement_mean$company,\n",
        "                  'Pre_announcement_mean' = Pre_announcement_mean$avgfreq, \n",
        "                  'Company_type' = as.factor(Company_type), \n",
        "                  'Short_term_boost' = Short_term_boost$shrt_boost,\n",
        "                  'Long_term_boost' = Long_term_boost$shrt_boost,\n",
        "                  'avg_inter_time' = inter_tweet_time$avg_inter_time,\n",
        "                  'num_of_tweets_before' = num_of_tweets_before$n_tweets,\n",
        "                  'Followers' = Followers,\n",
        "                  'Following' = Following,\n",
        "                  'Google_trends' = Google_trends,\n",
        "                  'public' = as.factor(public)\n",
        "                )"
      ],
      "metadata": {
        "id": "xJLs5uv0eCeR"
      },
      "execution_count": null,
      "outputs": []
    },
    {
      "cell_type": "code",
      "source": [
        "%%R\n",
        "length(num_of_tweets_before$n_tweets)"
      ],
      "metadata": {
        "colab": {
          "base_uri": "https://localhost:8080/"
        },
        "id": "2z_GabdPfujb",
        "outputId": "5424dd90-6e71-40a8-bc7f-68f41ffd2628"
      },
      "execution_count": null,
      "outputs": [
        {
          "output_type": "stream",
          "name": "stdout",
          "text": [
            "[1] 16\n"
          ]
        }
      ]
    },
    {
      "cell_type": "code",
      "execution_count": null,
      "metadata": {
        "id": "Fi0Txefuzx2u",
        "colab": {
          "base_uri": "https://localhost:8080/"
        },
        "outputId": "d362129b-9e2f-4129-ead5-20b9bed03001"
      },
      "outputs": [
        {
          "output_type": "stream",
          "name": "stdout",
          "text": [
            "\n",
            "Call:\n",
            "lm(formula = df$Short_term_boost ~ df$Pre_announcement_mean + \n",
            "    df$Company_type + df$Google_trends + df$num_of_tweets_before + \n",
            "    df$public)\n",
            "\n",
            "Residuals:\n",
            "   Min     1Q Median     3Q    Max \n",
            "-85.76 -52.15 -17.59  12.49 252.08 \n",
            "\n",
            "Coefficients:\n",
            "                                  Estimate Std. Error t value Pr(>|t|)    \n",
            "(Intercept)                     -1797.9842   794.0483  -2.264  0.05796 .  \n",
            "df$Pre_announcement_mean        -2244.8735  1005.6039  -2.232  0.06076 .  \n",
            "df$Company_typeBeauty            -139.4301   127.4465  -1.094  0.31015    \n",
            "df$Company_typeDepartment Store  -151.4306   165.2964  -0.916  0.39008    \n",
            "df$Company_typeMattresses        1107.1338   181.4265   6.102  0.00049 ***\n",
            "df$Company_typeOther             -122.1629    98.9935  -1.234  0.25700    \n",
            "df$Google_trends                    2.6056     1.8317   1.422  0.19789    \n",
            "df$num_of_tweets_before             1.7068     0.7012   2.434  0.04515 *  \n",
            "df$publicPublic                   154.7660   144.9097   1.068  0.32095    \n",
            "---\n",
            "Signif. codes:  0 ‘***’ 0.001 ‘**’ 0.01 ‘*’ 0.05 ‘.’ 0.1 ‘ ’ 1\n",
            "\n",
            "Residual standard error: 121.4 on 7 degrees of freedom\n",
            "Multiple R-squared:  0.9639,\tAdjusted R-squared:  0.9227 \n",
            "F-statistic: 23.38 on 8 and 7 DF,  p-value: 0.0002197\n",
            "\n"
          ]
        }
      ],
      "source": [
        "# *** predicct short-term boost ***\n",
        "%%R\n",
        "\n",
        "df$Company_type <- relevel(df$Company_type, ref = 'Clothing') # Clothing\n",
        "df$public <- relevel(df$public, ref = 'Private')\n",
        "\n",
        "\n",
        "library(MASS)\n",
        "# Fit the full model \n",
        "full.model <-lm(df$Short_term_boost ~ \n",
        "                                df$Pre_announcement_mean +\n",
        "                                #df$mean_sent_by_comp +\n",
        "                                #df$avg_inter_time +\n",
        "                                df$Company_type +\n",
        "                                df$Google_trends +\n",
        "                                df$num_of_tweets_before +\n",
        "                                df$public\n",
        "                                #+df$Followers+\n",
        "                                #df$Following +\n",
        "                                #df$mean_subj_by_comp\n",
        "                )\n",
        "\n",
        "# Stepwise regression model\n",
        "step.model <- stepAIC(full.model, direction = \"both\", \n",
        "                      trace = FALSE)\n",
        "summary(step.model)"
      ]
    },
    {
      "cell_type": "code",
      "source": [
        "%%R\n",
        "df"
      ],
      "metadata": {
        "colab": {
          "base_uri": "https://localhost:8080/"
        },
        "id": "rj2GPGjw0P7b",
        "outputId": "3554558d-cb07-4eca-a9df-daba04063c40"
      },
      "execution_count": null,
      "outputs": [
        {
          "output_type": "stream",
          "name": "stdout",
          "text": [
            "           company Pre_announcement_mean     Company_type Short_term_boost\n",
            "1   CharlotteRusse            -0.6115239           Beauty      79.36666667\n",
            "2  CharmingCharlie            -0.7271324         Clothing       0.05882353\n",
            "3           DIESEL            -0.2813710         Clothing      15.11111111\n",
            "4        Forever21             2.7423597 Department Store     847.23333333\n",
            "5     MattressFirm            -0.3939717         Clothing     201.65517241\n",
            "6         NineWest            -0.6318340         Clothing      57.36666667\n",
            "7       Perfumania            -0.4257007            Other      -0.78260870\n",
            "8         Rockport            -0.6667734 Department Store      12.08695652\n",
            "9            Sears             1.8877691       Mattresses    1632.31034483\n",
            "10    TrueReligion            -0.5669582         Clothing     384.17241379\n",
            "11    beautybrands            -0.7268609           Beauty      14.04545455\n",
            "12         claires             0.6905075         Clothing     189.25925926\n",
            "13      ftdflowers            -0.3632564            Other       3.14285714\n",
            "14         hhgregg             0.1812492 Department Store      34.33333333\n",
            "15           rue21             0.3049777            Other      22.24137931\n",
            "16       sugarfina            -0.4114805         Clothing      -4.48275862\n",
            "   Long_term_boost    avg_inter_time num_of_tweets_before Followers Following\n",
            "1       -1.1095238 -183.459210526315                  229      8403       707\n",
            "2       -0.5661765 -20.2715711805555                   33     72100      9438\n",
            "3       -1.4305556 -60.2850672877847                  645     28500       148\n",
            "4      -66.0275362 -8.32957673999743                 5183     65400       225\n",
            "5        9.9468391 -77.8626865671642                  537    179000       737\n",
            "6       -0.8606061 -214.747643097643                  199   1900000       351\n",
            "7        3.0507246 -106.192337662338                  386     12800        21\n",
            "8       -1.4130435 -317.968207282913                  120     31800       900\n",
            "9      -35.0646552 -10.9990735862311                 3797     47200       554\n",
            "10       2.3807471 -142.552631578947                  286     45400       387\n",
            "11       1.2272727 -16.5759457671958                   43     19000       159\n",
            "12      79.5925926  -20.065969712614                 1938      6294       940\n",
            "13     -17.0676692 -74.8082434052758                  557     32400      1091\n",
            "14     -35.2916667 -30.8718030182685                 1260    198100      9293\n",
            "15     -10.2169540 -27.2831045751633                 1531     22300       172\n",
            "16     -13.6327586 -84.9220355731225                  507     44600       193\n",
            "   Google_trends  public\n",
            "1          69.84 Private\n",
            "2          74.90 Private\n",
            "3          59.45 Private\n",
            "4          35.86 Private\n",
            "5          84.86 Private\n",
            "6          54.93 Private\n",
            "7          25.31  Public\n",
            "8          50.06  Public\n",
            "9          30.77 Private\n",
            "10         64.93 Private\n",
            "11         62.46  Public\n",
            "12         87.38 Private\n",
            "13         65.19 Private\n",
            "14         28.00  Public\n",
            "15         32.75 Private\n",
            "16         11.51 Private\n"
          ]
        }
      ]
    },
    {
      "cell_type": "code",
      "execution_count": null,
      "metadata": {
        "id": "nOk6ocNd9yf7",
        "colab": {
          "base_uri": "https://localhost:8080/"
        },
        "outputId": "d067f786-225b-4053-e4d4-e552d72468ba"
      },
      "outputs": [
        {
          "output_type": "stream",
          "name": "stdout",
          "text": [
            "\n",
            "Call:\n",
            "lm(formula = log(Long_term_boost) ~ Pre_announcement_mean + Followers + \n",
            "    Short_term_boost, data = df)\n",
            "\n",
            "Residuals:\n",
            "         5          7         10         11         12 \n",
            "-0.0001057  0.0251870  0.0037865 -0.0231138 -0.0057540 \n",
            "\n",
            "Coefficients:\n",
            "                        Estimate Std. Error t value Pr(>|t|)   \n",
            "(Intercept)            2.280e+00  2.640e-02  86.370  0.00737 **\n",
            "Pre_announcement_mean  2.999e+00  3.269e-02  91.756  0.00694 **\n",
            "Followers              6.765e-06  2.633e-07  25.691  0.02477 * \n",
            "Short_term_boost      -6.078e-05  1.184e-04  -0.514  0.69799   \n",
            "---\n",
            "Signif. codes:  0 ‘***’ 0.001 ‘**’ 0.01 ‘*’ 0.05 ‘.’ 0.1 ‘ ’ 1\n",
            "\n",
            "Residual standard error: 0.03487 on 1 degrees of freedom\n",
            "  (11 observations deleted due to missingness)\n",
            "Multiple R-squared:  0.9999,\tAdjusted R-squared:  0.9995 \n",
            "F-statistic:  2951 on 3 and 1 DF,  p-value: 0.01353\n",
            "\n"
          ]
        }
      ],
      "source": [
        "# *** predict long-term boost ***\n",
        "%%R\n",
        "model2<-lm(log(Long_term_boost) ~     Pre_announcement_mean +\n",
        "                                      #as.numeric(avg_inter_time) +\n",
        "                                      Followers + \n",
        "                                      Short_term_boost,\n",
        "                                    data = df\n",
        "                                      )\n",
        "                                      \n",
        "\n",
        "summary(model2)"
      ]
    },
    {
      "cell_type": "code",
      "source": [
        "%%R\n",
        "(df$Long_term_boost)"
      ],
      "metadata": {
        "colab": {
          "base_uri": "https://localhost:8080/"
        },
        "id": "SxpMkDqUzcn7",
        "outputId": "71d351f1-da56-4185-f2cf-5c44f827db4d"
      },
      "execution_count": null,
      "outputs": [
        {
          "output_type": "stream",
          "name": "stdout",
          "text": [
            " [1]  -1.1095238  -0.5661765  -1.4305556 -66.0275362   9.9468391  -0.8606061\n",
            " [7]   3.0507246  -1.4130435 -35.0646552   2.3807471   1.2272727  79.5925926\n",
            "[13] -17.0676692 -35.2916667 -10.2169540 -13.6327586\n"
          ]
        }
      ]
    },
    {
      "cell_type": "code",
      "execution_count": null,
      "metadata": {
        "id": "ZjAWcsEU_EwP",
        "colab": {
          "base_uri": "https://localhost:8080/"
        },
        "outputId": "68beb9b4-9cac-4e90-edc6-2b54ea04808a"
      },
      "outputs": [
        {
          "output_type": "stream",
          "name": "stdout",
          "text": [
            " [1] \"company\"               \"Pre_announcement_mean\" \"Company_type\"         \n",
            " [4] \"Short_term_boost\"      \"Long_term_boost\"       \"avg_inter_time\"       \n",
            " [7] \"num_of_tweets_before\"  \"Followers\"             \"Following\"            \n",
            "[10] \"Google_trends\"         \"public\"               \n"
          ]
        }
      ],
      "source": [
        "%%R\n",
        "names(df)"
      ]
    }
  ],
  "metadata": {
    "colab": {
      "provenance": [],
      "collapsed_sections": [
        "BzDEXbQowqZF",
        "Jf7VbYzWw7Vp",
        "q53sBIjV1kur",
        "FIb4aovwnWAx"
      ],
      "include_colab_link": true
    },
    "kernelspec": {
      "display_name": "Python 3",
      "name": "python3"
    },
    "language_info": {
      "name": "python"
    }
  },
  "nbformat": 4,
  "nbformat_minor": 0
}